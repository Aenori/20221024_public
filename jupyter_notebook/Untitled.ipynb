{
 "cells": [
  {
   "cell_type": "code",
   "execution_count": null,
   "id": "bcd20b36",
   "metadata": {},
   "outputs": [],
   "source": [
    "df = ...\n",
    "df1 = op(df)\n",
    "df2 = op(df1)\n",
    "...\n",
    "\n",
    "df.loc[df100.index, :]  "
   ]
  }
 ],
 "metadata": {
  "kernelspec": {
   "display_name": "Python 3 (ipykernel)",
   "language": "python",
   "name": "python3"
  },
  "language_info": {
   "codemirror_mode": {
    "name": "ipython",
    "version": 3
   },
   "file_extension": ".py",
   "mimetype": "text/x-python",
   "name": "python",
   "nbconvert_exporter": "python",
   "pygments_lexer": "ipython3",
   "version": "3.9.7"
  }
 },
 "nbformat": 4,
 "nbformat_minor": 5
}
