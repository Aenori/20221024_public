{
 "cells": [
  {
   "cell_type": "markdown",
   "id": "af8eab84",
   "metadata": {
    "tags": []
   },
   "source": [
    "# Matplotlib - practice\n",
    "\n",
    "Use this notebook to complete the exercises throughout the workshop."
   ]
  },
  {
   "cell_type": "code",
   "execution_count": 1,
   "id": "88bdd8bd",
   "metadata": {},
   "outputs": [],
   "source": [
    "import urllib.request\n",
    "import pandas as pd\n",
    "import matplotlib.pyplot as plt\n",
    "\n",
    "data = pd.read_csv('https://raw.githubusercontent.com/Aenori/20221024_public/main/dataset/titanic_train.csv', \n",
    "                     index_col=0)"
   ]
  },
  {
   "cell_type": "code",
   "execution_count": 2,
   "id": "37fa052f",
   "metadata": {},
   "outputs": [
    {
     "data": {
      "text/plain": [
       "Index(['Survived', 'Pclass', 'Name', 'Sex', 'Age', 'SibSp', 'Parch', 'Ticket',\n",
       "       'Fare', 'Cabin', 'Embarked'],\n",
       "      dtype='object')"
      ]
     },
     "execution_count": 2,
     "metadata": {},
     "output_type": "execute_result"
    }
   ],
   "source": [
    "data.columns"
   ]
  },
  {
   "cell_type": "markdown",
   "id": "37bbdde4",
   "metadata": {},
   "source": [
    "As a reminder "
   ]
  },
  {
   "cell_type": "markdown",
   "id": "6f0a785c",
   "metadata": {},
   "source": [
    "## Colormap\n",
    "\n",
    "Using imshow (Image-show), visualize the correlations between Age, Survived and Pclass    "
   ]
  },
  {
   "cell_type": "code",
   "execution_count": null,
   "id": "c0e36e54",
   "metadata": {},
   "outputs": [],
   "source": []
  },
  {
   "cell_type": "markdown",
   "id": "e2461021",
   "metadata": {},
   "source": [
    "## Histogram\n",
    "\n",
    "Using plt.plot or pd.plot, draw an histogram with 10 bins to show the distribution of age"
   ]
  },
  {
   "cell_type": "code",
   "execution_count": null,
   "id": "11e8b660",
   "metadata": {},
   "outputs": [],
   "source": []
  },
  {
   "cell_type": "markdown",
   "id": "07ad6928",
   "metadata": {},
   "source": [
    "Using plot and groupby(...).mean() show the distribution of survival rate by Pclass"
   ]
  },
  {
   "cell_type": "code",
   "execution_count": null,
   "id": "fc21f6e6",
   "metadata": {},
   "outputs": [],
   "source": []
  },
  {
   "cell_type": "markdown",
   "id": "b13d5901",
   "metadata": {},
   "source": [
    "## Scatter\n",
    "\n",
    "Using scatter, draw a graph with :  \n",
    "    - x-axis : age  \n",
    "    - y-axis : Pclass  \n",
    "    - color  : depending on sex  \n",
    "    - size   : depending if survived (bigger if survived)  "
   ]
  },
  {
   "cell_type": "code",
   "execution_count": null,
   "id": "f106a929",
   "metadata": {},
   "outputs": [],
   "source": []
  },
  {
   "cell_type": "markdown",
   "id": "a1f035ec",
   "metadata": {},
   "source": [
    "## Subplots\n",
    "\n",
    "Using plt.subpots, draw the distribution of age for the 3 differents Pclass (one histogram by Pclass)"
   ]
  },
  {
   "cell_type": "code",
   "execution_count": null,
   "id": "ae2bb1ff",
   "metadata": {},
   "outputs": [],
   "source": []
  }
 ],
 "metadata": {
  "kernelspec": {
   "display_name": "Python 3 (ipykernel)",
   "language": "python",
   "name": "python3"
  },
  "language_info": {
   "codemirror_mode": {
    "name": "ipython",
    "version": 3
   },
   "file_extension": ".py",
   "mimetype": "text/x-python",
   "name": "python",
   "nbconvert_exporter": "python",
   "pygments_lexer": "ipython3",
   "version": "3.9.7"
  }
 },
 "nbformat": 4,
 "nbformat_minor": 5
}
