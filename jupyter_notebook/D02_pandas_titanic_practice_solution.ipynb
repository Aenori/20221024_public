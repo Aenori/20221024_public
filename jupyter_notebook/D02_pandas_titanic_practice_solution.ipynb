{
 "cells": [
  {
   "cell_type": "markdown",
   "id": "35e57afe",
   "metadata": {},
   "source": [
    "Author : Nicolas Rousset  \n",
    "Github : https://github.com/Aenori  \n",
    "Mail : nrousset@gmail.com  \n",
    "License : MIT  "
   ]
  },
  {
   "cell_type": "markdown",
   "id": "9dbcfa69",
   "metadata": {},
   "source": [
    "# Titanic data set"
   ]
  },
  {
   "cell_type": "code",
   "execution_count": 1,
   "id": "c49d80df",
   "metadata": {},
   "outputs": [],
   "source": [
    "import pandas as pd\n",
    "\n",
    "df = pd.read_csv('https://raw.githubusercontent.com/Aenori/PythonDataAnalysis_public/main/dataset/titanic_train.csv', \n",
    "                     index_col=0)"
   ]
  },
  {
   "cell_type": "code",
   "execution_count": 2,
   "id": "5c872457",
   "metadata": {},
   "outputs": [
    {
     "data": {
      "text/plain": [
       "Index(['Survived', 'Pclass', 'Name', 'Sex', 'Age', 'SibSp', 'Parch', 'Ticket',\n",
       "       'Fare', 'Cabin', 'Embarked'],\n",
       "      dtype='object')"
      ]
     },
     "execution_count": 2,
     "metadata": {},
     "output_type": "execute_result"
    }
   ],
   "source": [
    "df.columns"
   ]
  },
  {
   "cell_type": "code",
   "execution_count": 35,
   "id": "7fc65997",
   "metadata": {},
   "outputs": [
    {
     "data": {
      "text/plain": [
       "(891, 12)"
      ]
     },
     "execution_count": 35,
     "metadata": {},
     "output_type": "execute_result"
    }
   ],
   "source": [
    "df.shape"
   ]
  },
  {
   "cell_type": "markdown",
   "id": "8cb00f59",
   "metadata": {},
   "source": [
    "# Questions "
   ]
  },
  {
   "cell_type": "markdown",
   "id": "ef26125b",
   "metadata": {},
   "source": [
    "How many women survived ? How many men ?"
   ]
  },
  {
   "cell_type": "code",
   "execution_count": 3,
   "id": "891218cc",
   "metadata": {},
   "outputs": [
    {
     "data": {
      "text/plain": [
       "male      577\n",
       "female    314\n",
       "Name: Sex, dtype: int64"
      ]
     },
     "execution_count": 3,
     "metadata": {},
     "output_type": "execute_result"
    }
   ],
   "source": [
    "df['Sex'].value_counts()"
   ]
  },
  {
   "cell_type": "code",
   "execution_count": 20,
   "id": "054ef9e7",
   "metadata": {},
   "outputs": [
    {
     "data": {
      "text/plain": [
       "577"
      ]
     },
     "execution_count": 20,
     "metadata": {},
     "output_type": "execute_result"
    }
   ],
   "source": [
    "df[df['Sex'] == 'male']['Survived'].sum()"
   ]
  },
  {
   "cell_type": "code",
   "execution_count": 5,
   "id": "0904bdf0",
   "metadata": {},
   "outputs": [
    {
     "data": {
      "text/plain": [
       "233"
      ]
     },
     "execution_count": 5,
     "metadata": {},
     "output_type": "execute_result"
    }
   ],
   "source": [
    "df[df['Sex'] == 'female']['Survived'].sum()"
   ]
  },
  {
   "cell_type": "code",
   "execution_count": 36,
   "id": "0248ddbb",
   "metadata": {},
   "outputs": [],
   "source": [
    "df['IsFemale'] = (df['Sex'] == 'female')"
   ]
  },
  {
   "cell_type": "code",
   "execution_count": 37,
   "id": "52705749",
   "metadata": {},
   "outputs": [
    {
     "data": {
      "text/plain": [
       "False    577\n",
       "True     314\n",
       "Name: IsFemale, dtype: int64"
      ]
     },
     "execution_count": 37,
     "metadata": {},
     "output_type": "execute_result"
    }
   ],
   "source": [
    "df['IsFemale'].value_counts()"
   ]
  },
  {
   "cell_type": "markdown",
   "id": "2659372c",
   "metadata": {},
   "source": [
    "What is the average survival rate of women of 1st class ? (Women over 1)"
   ]
  },
  {
   "cell_type": "code",
   "execution_count": 6,
   "id": "c727e5f3",
   "metadata": {},
   "outputs": [
    {
     "data": {
      "text/plain": [
       "0.9680851063829787"
      ]
     },
     "execution_count": 6,
     "metadata": {},
     "output_type": "execute_result"
    }
   ],
   "source": [
    "df[(df['Sex'] == 'female') & (df['Pclass'] == 1)]['Survived'].mean()"
   ]
  },
  {
   "cell_type": "markdown",
   "id": "c28ff497",
   "metadata": {},
   "source": [
    "What is the average Fare for people with a cabin ?"
   ]
  },
  {
   "cell_type": "code",
   "execution_count": 22,
   "id": "06188486",
   "metadata": {},
   "outputs": [
    {
     "data": {
      "text/plain": [
       "204"
      ]
     },
     "execution_count": 22,
     "metadata": {},
     "output_type": "execute_result"
    }
   ],
   "source": [
    "(~df['Cabin'].isna()).sum()"
   ]
  },
  {
   "cell_type": "code",
   "execution_count": 38,
   "id": "d7bdc550",
   "metadata": {},
   "outputs": [
    {
     "data": {
      "text/plain": [
       "76.14150392156861"
      ]
     },
     "execution_count": 38,
     "metadata": {},
     "output_type": "execute_result"
    }
   ],
   "source": [
    "df[~df['Cabin'].isnull()]['Fare'].mean()"
   ]
  },
  {
   "cell_type": "markdown",
   "id": "b75c54ab",
   "metadata": {},
   "source": [
    "This one is quicker"
   ]
  },
  {
   "cell_type": "code",
   "execution_count": 18,
   "id": "fd70c520",
   "metadata": {},
   "outputs": [
    {
     "data": {
      "text/plain": [
       "76.14150392156861"
      ]
     },
     "execution_count": 18,
     "metadata": {},
     "output_type": "execute_result"
    }
   ],
   "source": [
    "df.loc[~df['Cabin'].isnull(), 'Fare'].mean()"
   ]
  },
  {
   "cell_type": "markdown",
   "id": "f4805c06",
   "metadata": {},
   "source": [
    "This one is slow"
   ]
  },
  {
   "cell_type": "code",
   "execution_count": 19,
   "id": "675df6d2",
   "metadata": {},
   "outputs": [
    {
     "data": {
      "text/plain": [
       "76.14150392156861"
      ]
     },
     "execution_count": 19,
     "metadata": {},
     "output_type": "execute_result"
    }
   ],
   "source": [
    "df.dropna(subset=['Cabin'])['Fare'].mean()"
   ]
  },
  {
   "cell_type": "markdown",
   "id": "756fd4a7",
   "metadata": {},
   "source": [
    "How many people with a cabin are not in first class ?"
   ]
  },
  {
   "cell_type": "code",
   "execution_count": 43,
   "id": "ef88f953",
   "metadata": {},
   "outputs": [
    {
     "data": {
      "text/plain": [
       "28"
      ]
     },
     "execution_count": 43,
     "metadata": {},
     "output_type": "execute_result"
    }
   ],
   "source": [
    "(~df['Cabin'].isnull() & (df['Pclass'] != 1)).sum()"
   ]
  },
  {
   "cell_type": "markdown",
   "id": "7058f5c5",
   "metadata": {},
   "source": [
    "What is the average age of the passenger in first class ? In thid class ? "
   ]
  },
  {
   "cell_type": "code",
   "execution_count": 44,
   "id": "302b36d8",
   "metadata": {},
   "outputs": [
    {
     "data": {
      "text/plain": [
       "count    714.000000\n",
       "mean      29.699118\n",
       "std       14.526497\n",
       "min        0.420000\n",
       "25%       20.125000\n",
       "50%       28.000000\n",
       "75%       38.000000\n",
       "max       80.000000\n",
       "Name: Age, dtype: float64"
      ]
     },
     "execution_count": 44,
     "metadata": {},
     "output_type": "execute_result"
    }
   ],
   "source": [
    "df['Age'].describe()"
   ]
  },
  {
   "cell_type": "code",
   "execution_count": 45,
   "id": "3769d25a",
   "metadata": {},
   "outputs": [
    {
     "data": {
      "text/plain": [
       "count    891.000000\n",
       "mean      29.699118\n",
       "std       13.002015\n",
       "min        0.420000\n",
       "25%       22.000000\n",
       "50%       29.699118\n",
       "75%       35.000000\n",
       "max       80.000000\n",
       "Name: AgeOrMean, dtype: float64"
      ]
     },
     "execution_count": 45,
     "metadata": {},
     "output_type": "execute_result"
    }
   ],
   "source": [
    "# This can be a way to handle missing values\n",
    "df['AgeOrMean'] = df['Age']\n",
    "df.loc[df['Age'].isnull(), 'AgeOrMean'] = df['Age'].mean()\n",
    "df['AgeOrMean'].describe()"
   ]
  },
  {
   "cell_type": "code",
   "execution_count": 48,
   "id": "a8ef03b6",
   "metadata": {},
   "outputs": [
    {
     "data": {
      "text/plain": [
       "38.233440860215055"
      ]
     },
     "execution_count": 48,
     "metadata": {},
     "output_type": "execute_result"
    }
   ],
   "source": [
    "df[df['Pclass'] == 1]['Age'].mean()"
   ]
  },
  {
   "cell_type": "code",
   "execution_count": 49,
   "id": "63a72220",
   "metadata": {},
   "outputs": [
    {
     "data": {
      "text/plain": [
       "25.14061971830986"
      ]
     },
     "execution_count": 49,
     "metadata": {},
     "output_type": "execute_result"
    }
   ],
   "source": [
    "df[df['Pclass'] == 3]['Age'].mean()"
   ]
  },
  {
   "cell_type": "markdown",
   "id": "8e7ec04c",
   "metadata": {},
   "source": [
    "We can also use groupby :"
   ]
  },
  {
   "cell_type": "code",
   "execution_count": 54,
   "id": "55e12bca",
   "metadata": {},
   "outputs": [
    {
     "data": {
      "text/plain": [
       "Pclass\n",
       "1    38.233441\n",
       "2    29.877630\n",
       "3    25.140620\n",
       "Name: Age, dtype: float64"
      ]
     },
     "execution_count": 54,
     "metadata": {},
     "output_type": "execute_result"
    }
   ],
   "source": [
    "df.groupby('Pclass')['Age'].mean()"
   ]
  },
  {
   "cell_type": "code",
   "execution_count": 55,
   "id": "3db9828c",
   "metadata": {},
   "outputs": [
    {
     "data": {
      "text/plain": [
       "Sex     Pclass\n",
       "female  1         0.968085\n",
       "        2         0.921053\n",
       "        3         0.500000\n",
       "male    1         0.368852\n",
       "        2         0.157407\n",
       "        3         0.135447\n",
       "Name: Survived, dtype: float64"
      ]
     },
     "execution_count": 55,
     "metadata": {},
     "output_type": "execute_result"
    }
   ],
   "source": [
    "df.groupby(['Sex','Pclass'])['Survived'].mean()"
   ]
  },
  {
   "cell_type": "code",
   "execution_count": null,
   "id": "33bcf7c9",
   "metadata": {},
   "outputs": [],
   "source": []
  }
 ],
 "metadata": {
  "kernelspec": {
   "display_name": "Python 3 (ipykernel)",
   "language": "python",
   "name": "python3"
  },
  "language_info": {
   "codemirror_mode": {
    "name": "ipython",
    "version": 3
   },
   "file_extension": ".py",
   "mimetype": "text/x-python",
   "name": "python",
   "nbconvert_exporter": "python",
   "pygments_lexer": "ipython3",
   "version": "3.9.7"
  }
 },
 "nbformat": 4,
 "nbformat_minor": 5
}
