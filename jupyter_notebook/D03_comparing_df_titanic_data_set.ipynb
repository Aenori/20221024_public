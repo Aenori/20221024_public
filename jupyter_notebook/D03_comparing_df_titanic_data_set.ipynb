{
 "cells": [
  {
   "cell_type": "markdown",
   "id": "35e57afe",
   "metadata": {},
   "source": [
    "Author : Nicolas Rousset  \n",
    "Github : https://github.com/Aenori  \n",
    "Mail : nrousset@gmail.com  \n",
    "License : MIT  "
   ]
  },
  {
   "cell_type": "markdown",
   "id": "9dbcfa69",
   "metadata": {},
   "source": [
    "# Comparing data set"
   ]
  },
  {
   "cell_type": "code",
   "execution_count": 1,
   "id": "c49d80df",
   "metadata": {},
   "outputs": [
    {
     "data": {
      "text/plain": [
       "(891, 11)"
      ]
     },
     "execution_count": 1,
     "metadata": {},
     "output_type": "execute_result"
    }
   ],
   "source": [
    "import pandas as pd\n",
    "\n",
    "df = pd.read_csv('https://raw.githubusercontent.com/Aenori/PythonDataAnalysis_public/main/dataset/titanic_train.csv', \n",
    "                     index_col=0)\n",
    "df.shape"
   ]
  },
  {
   "cell_type": "code",
   "execution_count": 2,
   "id": "d88000b5",
   "metadata": {},
   "outputs": [],
   "source": [
    "import numpy as np"
   ]
  },
  {
   "cell_type": "markdown",
   "id": "b931e627",
   "metadata": {},
   "source": [
    "Lets imagine we have two identical Dataframe, or meant to be identical"
   ]
  },
  {
   "cell_type": "code",
   "execution_count": 3,
   "id": "a833d9c5",
   "metadata": {},
   "outputs": [],
   "source": [
    "df_2 = df.copy()"
   ]
  },
  {
   "cell_type": "markdown",
   "id": "2c980669",
   "metadata": {},
   "source": [
    "But one of them as some glitch,how do you detect the faulty rows ?"
   ]
  },
  {
   "cell_type": "code",
   "execution_count": 4,
   "id": "8a844b29",
   "metadata": {},
   "outputs": [],
   "source": [
    "df_2.loc[np.random.randint(0,df.shape[0],5), 'Age'] = 50"
   ]
  },
  {
   "cell_type": "code",
   "execution_count": 5,
   "id": "daedeb12",
   "metadata": {},
   "outputs": [
    {
     "data": {
      "text/plain": [
       "29.69911764705882"
      ]
     },
     "execution_count": 5,
     "metadata": {},
     "output_type": "execute_result"
    }
   ],
   "source": [
    "df['Age'].mean()"
   ]
  },
  {
   "cell_type": "code",
   "execution_count": 6,
   "id": "e6c3bf59",
   "metadata": {},
   "outputs": [
    {
     "data": {
      "text/plain": [
       "29.846606145251393"
      ]
     },
     "execution_count": 6,
     "metadata": {},
     "output_type": "execute_result"
    }
   ],
   "source": [
    "df_2['Age'].mean()"
   ]
  },
  {
   "cell_type": "markdown",
   "id": "bb2669ed",
   "metadata": {},
   "source": [
    "Because the 2 dataframe have the same columns and the same index, we can compare them by using (df == df_2), it will give as a result a Dataframe with elementwise comparisons ... "
   ]
  },
  {
   "cell_type": "code",
   "execution_count": 7,
   "id": "67f61620",
   "metadata": {},
   "outputs": [
    {
     "data": {
      "text/html": [
       "<div>\n",
       "<style scoped>\n",
       "    .dataframe tbody tr th:only-of-type {\n",
       "        vertical-align: middle;\n",
       "    }\n",
       "\n",
       "    .dataframe tbody tr th {\n",
       "        vertical-align: top;\n",
       "    }\n",
       "\n",
       "    .dataframe thead th {\n",
       "        text-align: right;\n",
       "    }\n",
       "</style>\n",
       "<table border=\"1\" class=\"dataframe\">\n",
       "  <thead>\n",
       "    <tr style=\"text-align: right;\">\n",
       "      <th></th>\n",
       "      <th>Survived</th>\n",
       "      <th>Pclass</th>\n",
       "      <th>Name</th>\n",
       "      <th>Sex</th>\n",
       "      <th>Age</th>\n",
       "      <th>SibSp</th>\n",
       "      <th>Parch</th>\n",
       "      <th>Ticket</th>\n",
       "      <th>Fare</th>\n",
       "      <th>Cabin</th>\n",
       "      <th>Embarked</th>\n",
       "    </tr>\n",
       "    <tr>\n",
       "      <th>PassengerId</th>\n",
       "      <th></th>\n",
       "      <th></th>\n",
       "      <th></th>\n",
       "      <th></th>\n",
       "      <th></th>\n",
       "      <th></th>\n",
       "      <th></th>\n",
       "      <th></th>\n",
       "      <th></th>\n",
       "      <th></th>\n",
       "      <th></th>\n",
       "    </tr>\n",
       "  </thead>\n",
       "  <tbody>\n",
       "    <tr>\n",
       "      <th>1</th>\n",
       "      <td>True</td>\n",
       "      <td>True</td>\n",
       "      <td>True</td>\n",
       "      <td>True</td>\n",
       "      <td>True</td>\n",
       "      <td>True</td>\n",
       "      <td>True</td>\n",
       "      <td>True</td>\n",
       "      <td>True</td>\n",
       "      <td>False</td>\n",
       "      <td>True</td>\n",
       "    </tr>\n",
       "    <tr>\n",
       "      <th>2</th>\n",
       "      <td>True</td>\n",
       "      <td>True</td>\n",
       "      <td>True</td>\n",
       "      <td>True</td>\n",
       "      <td>True</td>\n",
       "      <td>True</td>\n",
       "      <td>True</td>\n",
       "      <td>True</td>\n",
       "      <td>True</td>\n",
       "      <td>True</td>\n",
       "      <td>True</td>\n",
       "    </tr>\n",
       "    <tr>\n",
       "      <th>3</th>\n",
       "      <td>True</td>\n",
       "      <td>True</td>\n",
       "      <td>True</td>\n",
       "      <td>True</td>\n",
       "      <td>True</td>\n",
       "      <td>True</td>\n",
       "      <td>True</td>\n",
       "      <td>True</td>\n",
       "      <td>True</td>\n",
       "      <td>False</td>\n",
       "      <td>True</td>\n",
       "    </tr>\n",
       "    <tr>\n",
       "      <th>4</th>\n",
       "      <td>True</td>\n",
       "      <td>True</td>\n",
       "      <td>True</td>\n",
       "      <td>True</td>\n",
       "      <td>True</td>\n",
       "      <td>True</td>\n",
       "      <td>True</td>\n",
       "      <td>True</td>\n",
       "      <td>True</td>\n",
       "      <td>True</td>\n",
       "      <td>True</td>\n",
       "    </tr>\n",
       "    <tr>\n",
       "      <th>5</th>\n",
       "      <td>True</td>\n",
       "      <td>True</td>\n",
       "      <td>True</td>\n",
       "      <td>True</td>\n",
       "      <td>True</td>\n",
       "      <td>True</td>\n",
       "      <td>True</td>\n",
       "      <td>True</td>\n",
       "      <td>True</td>\n",
       "      <td>False</td>\n",
       "      <td>True</td>\n",
       "    </tr>\n",
       "  </tbody>\n",
       "</table>\n",
       "</div>"
      ],
      "text/plain": [
       "             Survived  Pclass  Name   Sex   Age  SibSp  Parch  Ticket  Fare  \\\n",
       "PassengerId                                                                   \n",
       "1                True    True  True  True  True   True   True    True  True   \n",
       "2                True    True  True  True  True   True   True    True  True   \n",
       "3                True    True  True  True  True   True   True    True  True   \n",
       "4                True    True  True  True  True   True   True    True  True   \n",
       "5                True    True  True  True  True   True   True    True  True   \n",
       "\n",
       "             Cabin  Embarked  \n",
       "PassengerId                   \n",
       "1            False      True  \n",
       "2             True      True  \n",
       "3            False      True  \n",
       "4             True      True  \n",
       "5            False      True  "
      ]
     },
     "execution_count": 7,
     "metadata": {},
     "output_type": "execute_result"
    }
   ],
   "source": [
    "(df == df_2).head(5)"
   ]
  },
  {
   "cell_type": "markdown",
   "id": "cd7a982c",
   "metadata": {},
   "source": [
    "But we have some comparisons failures in Cabin, which is not normal ... it is because, for numpy, np.NaN != np.NaN "
   ]
  },
  {
   "cell_type": "code",
   "execution_count": 8,
   "id": "0b5d97ed",
   "metadata": {},
   "outputs": [
    {
     "data": {
      "text/plain": [
       "False"
      ]
     },
     "execution_count": 8,
     "metadata": {},
     "output_type": "execute_result"
    }
   ],
   "source": [
    "np.NaN == np.NaN"
   ]
  },
  {
   "cell_type": "markdown",
   "id": "0ce695de",
   "metadata": {},
   "source": [
    "So we have to add a condition \"or both are na\""
   ]
  },
  {
   "cell_type": "code",
   "execution_count": 9,
   "id": "bfcdb110",
   "metadata": {},
   "outputs": [],
   "source": [
    "df_comp = ((df == df_2) | (df.isna() & df_2.isna()))"
   ]
  },
  {
   "cell_type": "markdown",
   "id": "fea80614",
   "metadata": {},
   "source": [
    "Then we aggregate to check if there are some differences in the row "
   ]
  },
  {
   "cell_type": "code",
   "execution_count": 10,
   "id": "638636ab",
   "metadata": {},
   "outputs": [],
   "source": [
    "df_comp = df_comp.all(axis=1)"
   ]
  },
  {
   "cell_type": "code",
   "execution_count": 11,
   "id": "d21b2045",
   "metadata": {},
   "outputs": [],
   "source": [
    "diff = df_comp[~df_comp]"
   ]
  },
  {
   "cell_type": "code",
   "execution_count": 12,
   "id": "05d0abb1",
   "metadata": {},
   "outputs": [
    {
     "data": {
      "text/plain": [
       "PassengerId\n",
       "35     False\n",
       "88     False\n",
       "127    False\n",
       "323    False\n",
       "621    False\n",
       "dtype: bool"
      ]
     },
     "execution_count": 12,
     "metadata": {},
     "output_type": "execute_result"
    }
   ],
   "source": [
    "diff"
   ]
  },
  {
   "cell_type": "code",
   "execution_count": 13,
   "id": "4de47269",
   "metadata": {},
   "outputs": [
    {
     "data": {
      "text/plain": [
       "PassengerId\n",
       "35     28.0\n",
       "88      NaN\n",
       "127     NaN\n",
       "323    30.0\n",
       "621    27.0\n",
       "Name: Age, dtype: float64"
      ]
     },
     "execution_count": 13,
     "metadata": {},
     "output_type": "execute_result"
    }
   ],
   "source": [
    "df.loc[diff.index, 'Age']"
   ]
  },
  {
   "cell_type": "code",
   "execution_count": 14,
   "id": "adc2821f",
   "metadata": {},
   "outputs": [
    {
     "data": {
      "text/plain": [
       "PassengerId\n",
       "35     50.0\n",
       "88     50.0\n",
       "127    50.0\n",
       "323    50.0\n",
       "621    50.0\n",
       "Name: Age, dtype: float64"
      ]
     },
     "execution_count": 14,
     "metadata": {},
     "output_type": "execute_result"
    }
   ],
   "source": [
    "df_2.loc[diff.index, 'Age']"
   ]
  },
  {
   "cell_type": "code",
   "execution_count": null,
   "id": "4467d227",
   "metadata": {},
   "outputs": [],
   "source": []
  }
 ],
 "metadata": {
  "kernelspec": {
   "display_name": "Python 3 (ipykernel)",
   "language": "python",
   "name": "python3"
  },
  "language_info": {
   "codemirror_mode": {
    "name": "ipython",
    "version": 3
   },
   "file_extension": ".py",
   "mimetype": "text/x-python",
   "name": "python",
   "nbconvert_exporter": "python",
   "pygments_lexer": "ipython3",
   "version": "3.9.7"
  }
 },
 "nbformat": 4,
 "nbformat_minor": 5
}
