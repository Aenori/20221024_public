{
 "cells": [
  {
   "cell_type": "markdown",
   "metadata": {},
   "source": [
    "Author : Nicolas Rousset  \n",
    "Github : https://github.com/Aenori  \n",
    "Mail : nrousset@gmail.com  \n",
    "License : MIT  "
   ]
  },
  {
   "cell_type": "markdown",
   "metadata": {},
   "source": [
    "# Python data analysis - python first practice\n",
    "\n",
    "Some of the exercises described below are very simples, and just intended to check basic understanding of the python language.  \n",
    "\n",
    "Don't hesitate to skip some (or all that you want) or tell the trainer if you don't think they are appropriate for you."
   ]
  },
  {
   "cell_type": "markdown",
   "metadata": {},
   "source": [
    "Name : (for individual feedbacks)"
   ]
  },
  {
   "cell_type": "code",
   "execution_count": null,
   "metadata": {},
   "outputs": [],
   "source": [
    "# "
   ]
  },
  {
   "cell_type": "markdown",
   "metadata": {},
   "source": [
    "## Part 1 : first contact with python"
   ]
  },
  {
   "cell_type": "markdown",
   "metadata": {},
   "source": [
    "### Autotest cell\n",
    "\n",
    "You must execute this cell to allow all the autotest of this part to work."
   ]
  },
  {
   "cell_type": "code",
   "execution_count": null,
   "metadata": {},
   "outputs": [],
   "source": [
    "import urllib.request\n",
    "# Please execute this at the start of the notebook\n",
    "\n",
    "base_url = 'https://raw.githubusercontent.com/Aenori/PythonDataAnalysis_public/main/help_files'\n",
    "help_files_url = f'{base_url}/python_basic/'\n",
    "\n",
    "file_list = ['cours_python_utils.py', \n",
    "             'test_notebook_python_basic.py']\n",
    "\n",
    "for helper_files in file_list:\n",
    "    urllib.request.urlretrieve(help_files_url + helper_files, helper_files)"
   ]
  },
  {
   "cell_type": "markdown",
   "metadata": {},
   "source": [
    "### Exercise n°0 : [Py] Hello world !\n",
    "\n",
    "**Nothing to do here, just checking the unittest are working**\n",
    "\n",
    "Write a variable i that contains the string \"Hello World !\""
   ]
  },
  {
   "cell_type": "code",
   "execution_count": null,
   "metadata": {},
   "outputs": [],
   "source": [
    "## Exercise 2-0\n",
    "i = \"Hello world !\"\n",
    "\n",
    "try:\n",
    "    import test_notebook_python_basic\n",
    "    test_notebook_python_basic.tester_exo( 'V0', globals() )\n",
    "except ImportError:\n",
    "    print(\"You didn't execute the cell for autotest\" )\n",
    "    raise"
   ]
  },
  {
   "cell_type": "markdown",
   "metadata": {},
   "source": [
    "**Exemple :** à l'exécution de la cellule ci-dessous, elle doit afficher \"Hello world !\""
   ]
  },
  {
   "cell_type": "code",
   "execution_count": null,
   "metadata": {},
   "outputs": [],
   "source": [
    "print(i)"
   ]
  },
  {
   "cell_type": "markdown",
   "metadata": {},
   "source": [
    "### Exercise n°1 : [Py] Variable creation"
   ]
  },
  {
   "cell_type": "markdown",
   "metadata": {},
   "source": [
    "Create a variable named **a1**, of value 5."
   ]
  },
  {
   "cell_type": "code",
   "execution_count": null,
   "metadata": {},
   "outputs": [],
   "source": [
    "## Exercise 2-1\n",
    "\n",
    "\n",
    "## Don't touch the following lines\n",
    "import test_notebook_python_basic\n",
    "test_notebook_python_basic.tester_exo( 'V2_1', globals() )"
   ]
  },
  {
   "cell_type": "markdown",
   "metadata": {},
   "source": [
    "### Exercise n°2 : [Py] Création de variable float"
   ]
  },
  {
   "cell_type": "markdown",
   "metadata": {},
   "source": [
    "Create a variable **a2**, of value 5.0, so the type should be float"
   ]
  },
  {
   "cell_type": "code",
   "execution_count": null,
   "metadata": {},
   "outputs": [],
   "source": [
    "## Exercise 2-2\n",
    "\n",
    "\n",
    "## Don't touch the following lines\n",
    "import test_notebook_python_basic\n",
    "test_notebook_python_basic.tester_exo( 'V2_2', globals() )"
   ]
  },
  {
   "cell_type": "markdown",
   "metadata": {},
   "source": [
    "### Exercise n°3 : [Py] Création de variable string"
   ]
  },
  {
   "cell_type": "markdown",
   "metadata": {},
   "source": [
    "Create a variable **a3**, of value \"5\", so the type should be string"
   ]
  },
  {
   "cell_type": "code",
   "execution_count": null,
   "metadata": {},
   "outputs": [],
   "source": [
    "## Exercise 2-3\n",
    "\n",
    "\n",
    "## Don't touch the following lines\n",
    "import test_notebook_python_basic\n",
    "test_notebook_python_basic.tester_exo( 'V2_3', globals() )"
   ]
  },
  {
   "cell_type": "markdown",
   "metadata": {},
   "source": [
    "### Exercise n°5 : [Py] Factorial"
   ]
  },
  {
   "cell_type": "markdown",
   "metadata": {},
   "source": [
    "Calculate 999! (factorial of 999), in a variable named **resultat2_5** (it will be the one that will be tested)\n",
    "  \n",
    "$x = 1*2*3*...*997*998*999$\n",
    "  \n",
    "As a reminder, you can use the for loop and the range method to loop over all number up to 1000 (excluded)\n",
    "  \n",
    "~~~\n",
    "for it in range(1000):\n",
    "~~~"
   ]
  },
  {
   "cell_type": "code",
   "execution_count": null,
   "metadata": {},
   "outputs": [],
   "source": [
    "## Exercise 2-5\n",
    "\n",
    "\n",
    "## Don't touch the following lines\n",
    "import test_notebook_python_basic\n",
    "test_notebook_python_basic.tester_exo('V2_5', globals())"
   ]
  },
  {
   "cell_type": "markdown",
   "metadata": {},
   "source": [
    "**Example :** if you try the product of the number from 1 to 9, answer should be : **362880**"
   ]
  },
  {
   "cell_type": "markdown",
   "metadata": {},
   "source": [
    "### Exercise n°6 : [Py] Sum of square numbers"
   ]
  },
  {
   "cell_type": "markdown",
   "metadata": {},
   "source": [
    "Calculate the sum of the square number from 0 to 1487, in a variable **resultat2_6**\n",
    "  \n",
    "resultat2_6 $ = 1^2 + 2^2 + 3^2 + ... + 1487^2$"
   ]
  },
  {
   "cell_type": "code",
   "execution_count": null,
   "metadata": {},
   "outputs": [],
   "source": [
    "## Exercise 2-6\n",
    "\n",
    "   \n",
    "## Don't touch the following lines\n",
    "import test_notebook_python_basic\n",
    "test_notebook_python_basic.tester_exo( 'V2_6', globals() )"
   ]
  },
  {
   "cell_type": "markdown",
   "metadata": {},
   "source": [
    "### Exercise n°7 : [Py] Partial sum calculation\n",
    "\n",
    "Calculate the sum of all numbers from 1 to 1000 that can be divised by 3, ie :\n",
    "\n",
    "$3 + 6 + 9 + ... + 993 + 996 + 999$\n",
    "\n",
    "You can use the modulo operator to kow if a number can be divided by another number\n",
    "  \n",
    "~~~\n",
    "if x % 3 == 0: \n",
    "    ...\n",
    "~~~\n",
    "\n",
    "Put the result in a variable **resultat2_7** (this one will be checked in a test)"
   ]
  },
  {
   "cell_type": "code",
   "execution_count": null,
   "metadata": {},
   "outputs": [],
   "source": [
    "## Exercise 2-7\n",
    "\n",
    "\n",
    "## Don't touch the following lines\n",
    "import test_notebook_python_basic\n",
    "test_notebook_python_basic.tester_exo('V2_7', globals())"
   ]
  },
  {
   "cell_type": "markdown",
   "metadata": {},
   "source": [
    "### Exercise n°9 : [Py] Exponential calculus\n",
    "\n",
    "A little bit more difficult :-)\n",
    "\n",
    "Calculate, without using the math or numpy module, e^10 (that you will store in a variable **resultat2_9**)\n",
    "\n",
    "There is an approached formula for exponential :\n",
    "\n",
    "$e^n = \\sum_{k=0}^{1000}{ \\frac{ n^k }{ k! } }$ \n",
    "\n",
    "Avec $0^0 = 0$ et $0! = 1$\n",
    "\n",
    "The goal being to use the code you have written in the previous exercises."
   ]
  },
  {
   "cell_type": "code",
   "execution_count": null,
   "metadata": {},
   "outputs": [],
   "source": [
    "## Exercise 2-9\n",
    "\n",
    "\n",
    "## Don't modify following lines\n",
    "import test_notebook_python_basic\n",
    "test_notebook_python_basic.tester_exo( 'V2_9', globals() )"
   ]
  },
  {
   "cell_type": "code",
   "execution_count": null,
   "metadata": {},
   "outputs": [],
   "source": [
    "import math\n",
    "math.exp(10)"
   ]
  },
  {
   "cell_type": "markdown",
   "metadata": {},
   "source": [
    "## Part 2 : functions"
   ]
  },
  {
   "cell_type": "markdown",
   "metadata": {},
   "source": [
    "### Exercise n°0 : Function hello world !\n",
    "\n",
    "Once again, this exercise already contains its correction, it is just a check for the autotest."
   ]
  },
  {
   "cell_type": "code",
   "execution_count": null,
   "metadata": {},
   "outputs": [],
   "source": [
    "## Exercise 2-0\n",
    "def hello_world():\n",
    "     return \"Hello world !\"\n",
    "\n",
    "try:\n",
    "    import test_notebook_python_basic\n",
    "    test_notebook_python_basic.tester_exo( 'F0', globals() )\n",
    "except ImportError:\n",
    "    print(\"You must execute the cell at the top of this notebook to have test running\" )\n",
    "    raise"
   ]
  },
  {
   "cell_type": "markdown",
   "metadata": {},
   "source": [
    "**Exemple :** à l'exécution de la cellule ci-dessous, elle doit afficher \"Hello world !\""
   ]
  },
  {
   "cell_type": "code",
   "execution_count": null,
   "metadata": {},
   "outputs": [],
   "source": [
    "print(hello_world())"
   ]
  },
  {
   "cell_type": "markdown",
   "metadata": {},
   "source": [
    "### Exercise n°1 : Function one "
   ]
  },
  {
   "cell_type": "markdown",
   "metadata": {},
   "source": [
    "Write a function **one** that doesn't take argument and return the value 1."
   ]
  },
  {
   "cell_type": "code",
   "execution_count": null,
   "metadata": {},
   "outputs": [],
   "source": [
    "## Exercise 2-1\n",
    "\n",
    "\n",
    "## Don't touch the following lines\n",
    "import test_notebook_python_basic\n",
    "test_notebook_python_basic.tester_exo( 'F2_1', globals() )"
   ]
  },
  {
   "cell_type": "markdown",
   "metadata": {},
   "source": [
    "### Exercise n°2 : Function increment\n",
    "\n",
    "Write a function **increment** that takes an argument et return the value of this argument + 1"
   ]
  },
  {
   "cell_type": "code",
   "execution_count": null,
   "metadata": {},
   "outputs": [],
   "source": [
    "## Exercise 2-2\n",
    "\n",
    "\n",
    "## Don't modify following lines\n",
    "import test_notebook_python_basic\n",
    "test_notebook_python_basic.tester_exo( 'F2_2', globals() )"
   ]
  },
  {
   "cell_type": "markdown",
   "metadata": {},
   "source": [
    "**Exemple 1 :** when executing this cell, it should show 1"
   ]
  },
  {
   "cell_type": "code",
   "execution_count": null,
   "metadata": {},
   "outputs": [],
   "source": [
    "print(increment(0))"
   ]
  },
  {
   "cell_type": "markdown",
   "metadata": {},
   "source": [
    "### Exercise n°4 : Evaluate a polynome\n",
    "\n",
    "Write a function **evaluate_polynom** that takes 4 arguments **a, b, c, x** and return the matching polynome \n",
    "\n",
    "$a*x^2 + b*x + c$"
   ]
  },
  {
   "cell_type": "code",
   "execution_count": null,
   "metadata": {},
   "outputs": [],
   "source": [
    "## Exercise 2-4\n",
    "\n",
    "\n",
    "## Don't modify following lines\n",
    "import test_notebook_python_basic\n",
    "test_notebook_python_basic.tester_exo( 'F2_4', globals() )"
   ]
  },
  {
   "cell_type": "markdown",
   "metadata": {},
   "source": [
    "### Exercise n°5 : Function is_even\n",
    "\n",
    "Write a function **is_even** that takes one argument and return the boolean value **True** if it is even, **False** otherwise.\n",
    "\n",
    "You can use the modulo operator to get the remain of a divide\n",
    "\n",
    "~~~\n",
    "remain = n % x\n",
    "~~~\n",
    "\n",
    "Try to do that without using **if**, and you should not use **else** or **elif** (you don't need to, anyway) "
   ]
  },
  {
   "cell_type": "code",
   "execution_count": null,
   "metadata": {},
   "outputs": [],
   "source": [
    "## Exercise 2-5\n",
    "\n",
    "\n",
    "## Don't modify following lines\n",
    "import test_notebook_python_basic\n",
    "test_notebook_python_basic.tester_exo( 'F2_5', globals() )"
   ]
  },
  {
   "cell_type": "markdown",
   "metadata": {},
   "source": [
    "### Exercise n°6 : Function factorial\n",
    "\n",
    "Write a **factorial** function that takes an argument and return the corresponding factorial.\n",
    "For example : \n",
    "\n",
    "~~~\n",
    "factorial(6)   ## return 1 * 2 * 3 * 4 * 5 * 6 \n",
    "factorial(999) ## return 1 * 2 * 3 * 4 * 5 * ... * 997 * 998 * 999\n",
    "factorial(0)   ## return 1\n",
    "~~~  "
   ]
  },
  {
   "cell_type": "code",
   "execution_count": null,
   "metadata": {},
   "outputs": [],
   "source": [
    "## Exercise 2-6\n",
    "\n",
    "\n",
    "## Don't modify following lines\n",
    "import test_notebook_python_basic\n",
    "test_notebook_python_basic.tester_exo( 'F2_6', globals() )"
   ]
  },
  {
   "cell_type": "markdown",
   "metadata": {},
   "source": [
    "### Exercise n°7 : Function combinatorial"
   ]
  },
  {
   "cell_type": "markdown",
   "metadata": {},
   "source": [
    "Using the function factorial from the previous exercise, write a function **combinatorial** which take two arguments n and k and calculate the combinatorial n, k (n being the first argument):\n",
    "\n",
    "$\\dbinom{n}{k}$\n",
    "\n",
    "As a reminder the combinatorial formula is :\n",
    "\n",
    "$\\dbinom{n}{k} = \\frac{n!}{(n-k)!k!}$"
   ]
  },
  {
   "cell_type": "code",
   "execution_count": null,
   "metadata": {},
   "outputs": [],
   "source": [
    "## Exercise 2-7\n",
    "\n",
    "\n",
    "## Don't modify following lines\n",
    "import test_notebook_python_basic\n",
    "test_notebook_python_basic.tester_exo( 'F2_7', globals() )"
   ]
  },
  {
   "cell_type": "markdown",
   "metadata": {},
   "source": [
    "## Part 3 : lists"
   ]
  },
  {
   "cell_type": "markdown",
   "metadata": {},
   "source": [
    "### 2.0 Exercise 0 - Testing the tests are working\n",
    "\n",
    "Write a function **create_empty_list** that return an empty list"
   ]
  },
  {
   "cell_type": "code",
   "execution_count": null,
   "metadata": {},
   "outputs": [],
   "source": [
    "\n",
    "\n",
    "## Don't modify following lines\n",
    "import test_notebook_python_basic\n",
    "test_notebook_python_basic.tester_exo( 'L0', globals() )"
   ]
  },
  {
   "cell_type": "markdown",
   "metadata": {},
   "source": [
    "### 2.0 Exercise 0.1 - Base list manipulation\n",
    "\n",
    "Create 4 lists :\n",
    "\n",
    "A list **a** that contains 2 elements, 1 et 2  \n",
    "A list **b** that contains 3 elements, 3, 4 et 5  \n",
    "A list **c** that contains 2 éléments, the lists a and b previously defined \n",
    "A list **d** that contains the integer from 1 to 1000"
   ]
  },
  {
   "cell_type": "code",
   "execution_count": null,
   "metadata": {},
   "outputs": [],
   "source": [
    "\n",
    "\n",
    "## Don't modify following lines\n",
    "import test_notebook_python_basic\n",
    "test_notebook_python_basic.tester_exo( 'L0_1', globals() )"
   ]
  },
  {
   "cell_type": "markdown",
   "metadata": {},
   "source": [
    "### 2.0 Exercice 0.2 - List base functions\n",
    "\n",
    "Write a few function \n",
    "\n",
    "1. **add** takes two arguments, a list and one element and add the element to the list and return nothing  \n",
    "1. **second_element** take a list as an argument and return the second element\n",
    "1. **last_element** take a list as argument and return the last element\n",
    "1. **remove_third_element** take a list as argument, and remove the third argument le 3ème élément if it exist, and do nothing otherwise (you can use the function del)\n",
    "\n",
    "For example : \n",
    "\n",
    "~~~\n",
    "list1 = [1,2]\n",
    "add( list1, 4 ) ## return nothing, but the list new value is [1,2,4]\n",
    "second_element( [1,6,7] ) ## return 6\n",
    "last_element( [1,6,7,9] ) ## return 9\n",
    "list2 = [1,2]\n",
    "remove_third_element( list2 )     ## do nothing\n",
    "list3 = [1,2,4,5]\n",
    "remove_third_element( list3 ) ## return nothing, mais list value become [1,2,5]\n",
    "~~~"
   ]
  },
  {
   "cell_type": "code",
   "execution_count": null,
   "metadata": {},
   "outputs": [],
   "source": [
    "\n",
    "\n",
    "## Don't modify following lines\n",
    "import test_notebook_python_basic\n",
    "test_notebook_python_basic.tester_exo( 'L0_2', globals() )"
   ]
  },
  {
   "cell_type": "markdown",
   "metadata": {},
   "source": [
    "### 2.8 Exercise 8 - Even first !\n",
    "\n",
    "Write a function even_first, that takes a list as argument of integer, and return it with the even integer first, and then the other elements\n",
    "\n",
    "Par exemple :\n",
    "\n",
    "~~~\n",
    "even_first( [ 16, 9, 5, 13, 24 ] )       ## return [16, 24, 9, 5, 13]\n",
    "even_first( [ 16, 75, 3, 9, 4, 6, 15 ] ) ## return [16, 4, 6, 75, 3, 9, 15]\n",
    "~~~"
   ]
  },
  {
   "cell_type": "code",
   "execution_count": null,
   "metadata": {},
   "outputs": [],
   "source": [
    "\n",
    "\n",
    "## Don't modify following lines\n",
    "import test_notebook_python_basic\n",
    "test_notebook_python_basic.tester_exo( 'L8', globals() )"
   ]
  },
  {
   "cell_type": "markdown",
   "metadata": {},
   "source": [
    "The following cell should return [16, 4, 6, 75, 3, 9, 15]"
   ]
  },
  {
   "cell_type": "code",
   "execution_count": null,
   "metadata": {},
   "outputs": [],
   "source": [
    "even_first( [ 16, 75, 3, 9, 4, 6, 15 ] )"
   ]
  },
  {
   "cell_type": "code",
   "execution_count": null,
   "metadata": {},
   "outputs": [],
   "source": []
  }
 ],
 "metadata": {
  "anaconda-cloud": {},
  "kernelspec": {
   "display_name": "Python 3 (ipykernel)",
   "language": "python",
   "name": "python3"
  },
  "language_info": {
   "codemirror_mode": {
    "name": "ipython",
    "version": 3
   },
   "file_extension": ".py",
   "mimetype": "text/x-python",
   "name": "python",
   "nbconvert_exporter": "python",
   "pygments_lexer": "ipython3",
   "version": "3.9.7"
  }
 },
 "nbformat": 4,
 "nbformat_minor": 1
}
