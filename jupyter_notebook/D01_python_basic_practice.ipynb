{
 "cells": [
  {
   "cell_type": "markdown",
   "metadata": {},
   "source": [
    "Author : Nicolas Rousset\n",
    "Github : https://github.com/Aenori\n",
    "Mail : nrousset@gmail.com\n",
    "License : MIT "
   ]
  },
  {
   "cell_type": "markdown",
   "metadata": {},
   "source": [
    "# Python data analysis\n",
    "\n"
   ]
  },
  {
   "cell_type": "markdown",
   "metadata": {},
   "source": [
    "**Important !!** les cellules sont munies d'autotest. Pour que ceux-ci fonctionnent, vous devez exécutez la cellule ci-dessous :"
   ]
  },
  {
   "cell_type": "code",
   "execution_count": 1,
   "metadata": {},
   "outputs": [],
   "source": [
    "import binascii\n",
    "\n",
    "test_notebook_td_2_content = b'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'\n",
    "cours_python_utils_content = b'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'\n",
    "\n",
    "with open( 'test_notebook_td_2.py', 'wb' ) as f:\n",
    "    f.write( binascii.unhexlify(test_notebook_td_2_content)  )\n",
    "with open( 'cours_python_utils.py', 'wb' ) as f:\n",
    "    f.write( binascii.unhexlify(cours_python_utils_content)  )"
   ]
  },
  {
   "cell_type": "markdown",
   "metadata": {},
   "source": [
    "### Exercice n°0 : [Py] Hello world !\n",
    "\n",
    "**Cet exercice doit fonction tel quel !**\n",
    "\n",
    "Ecrire un code qui définit une variable i qui vaut exactement \"Hello world !\".  "
   ]
  },
  {
   "cell_type": "code",
   "execution_count": 2,
   "metadata": {},
   "outputs": [
    {
     "name": "stderr",
     "output_type": "stream",
     "text": [
      "test (test_notebook_td_2.TestExercice0) ... ok\n",
      "\n",
      "----------------------------------------------------------------------\n",
      "Ran 1 test in 0.001s\n",
      "\n",
      "OK\n"
     ]
    }
   ],
   "source": [
    "## Exercice 2-0\n",
    "i = \"Hello world !\"\n",
    "\n",
    "try:\n",
    "    import test_notebook_td_2\n",
    "    test_notebook_td_2.tester_exo( '0', globals() )\n",
    "except ImportError:\n",
    "    print(\"Vous devez exécutez la cellule en début de partie 2 \" + \n",
    "          \"celle mentionnée comme nécessaire aux tests unitaires\" )\n",
    "    raise\n",
    "except Exception as e:\n",
    "    print(\"Une erreur assez étrange est arrivée, essayer de redémarrer le serveur \" + \n",
    "          \"ou demandez au prof\")\n",
    "    raise"
   ]
  },
  {
   "cell_type": "markdown",
   "metadata": {},
   "source": [
    "**Exemple :** à l'exécution de la cellule ci-dessous, elle doit afficher \"Hello world !\""
   ]
  },
  {
   "cell_type": "code",
   "execution_count": null,
   "metadata": {
    "collapsed": true
   },
   "outputs": [],
   "source": [
    "print(i)"
   ]
  },
  {
   "cell_type": "markdown",
   "metadata": {},
   "source": [
    "### Exercice n°1 : [Py] Création de variable"
   ]
  },
  {
   "cell_type": "markdown",
   "metadata": {},
   "source": [
    "Ecrire un code créant une variable **a1**, de valeur 5."
   ]
  },
  {
   "cell_type": "code",
   "execution_count": 4,
   "metadata": {},
   "outputs": [
    {
     "name": "stderr",
     "output_type": "stream",
     "text": [
      "test_code (test_notebook_td_2.TestExercice2_1) ... ok\n",
      "test_fonction (test_notebook_td_2.TestExercice2_1) ... ok\n",
      "\n",
      "----------------------------------------------------------------------\n",
      "Ran 2 tests in 0.004s\n",
      "\n",
      "OK\n"
     ]
    }
   ],
   "source": [
    "## Exercice 2-1\n",
    "a1 = 5\n",
    "\n",
    "## Ne pas modifier les lignes suivantes\n",
    "import test_notebook_td_2\n",
    "test_notebook_td_2.tester_exo( '2_1', globals() )"
   ]
  },
  {
   "cell_type": "markdown",
   "metadata": {},
   "source": [
    "**Exemple :** à l'exécution de la cellule ci-dessous, elle doit afficher 5"
   ]
  },
  {
   "cell_type": "code",
   "execution_count": null,
   "metadata": {},
   "outputs": [],
   "source": [
    "print(a)"
   ]
  },
  {
   "cell_type": "markdown",
   "metadata": {},
   "source": [
    "### Exercice n°2 : [Py] Création de variable float"
   ]
  },
  {
   "cell_type": "markdown",
   "metadata": {},
   "source": [
    "Créer une variable **a2** dont la valeur soit 5.0 (ce qui signifie que son type est un nombre à virgule flottante)"
   ]
  },
  {
   "cell_type": "code",
   "execution_count": null,
   "metadata": {},
   "outputs": [],
   "source": [
    "## Exercice 2-2\n",
    "\n",
    "\n",
    "## Ne pas modifier les lignes suivantes\n",
    "import test_notebook_td_2\n",
    "test_notebook_td_2.tester_exo( '2_2', globals() )"
   ]
  },
  {
   "cell_type": "markdown",
   "metadata": {},
   "source": [
    "**Exemple :** à l'exécution de la cellule ci-dessous, elle doit afficher 5.0"
   ]
  },
  {
   "cell_type": "code",
   "execution_count": null,
   "metadata": {},
   "outputs": [],
   "source": [
    "print(a)"
   ]
  },
  {
   "cell_type": "markdown",
   "metadata": {},
   "source": [
    "### Exercice n°3 : [Py] Création de variable string"
   ]
  },
  {
   "cell_type": "markdown",
   "metadata": {},
   "source": [
    "Créer une variable **a3** dont la valeur soit \"5\" (ce qui signifie que son type est une chaine de caractère)"
   ]
  },
  {
   "cell_type": "code",
   "execution_count": null,
   "metadata": {},
   "outputs": [],
   "source": [
    "## Exercice 2-3\n",
    "\n",
    "\n",
    "## Ne pas modifier les lignes suivantes\n",
    "import test_notebook_td_2\n",
    "test_notebook_td_2.tester_exo( '2_3', globals() )"
   ]
  },
  {
   "cell_type": "markdown",
   "metadata": {},
   "source": [
    "**Exemple :** à l'exécution de la cellule ci-dessous, elle doit afficher \"5\""
   ]
  },
  {
   "cell_type": "code",
   "execution_count": null,
   "metadata": {},
   "outputs": [],
   "source": [
    "print( repr(a) ) "
   ]
  },
  {
   "cell_type": "markdown",
   "metadata": {},
   "source": [
    "### Exercice n°4 : [Py] Calcul d'expression mathématiques 1"
   ]
  },
  {
   "cell_type": "markdown",
   "metadata": {},
   "source": [
    "Ecrivez un programme avec 4 variables initiales :\n",
    "  \n",
    "\n",
    "  \n",
    "a = 5\n",
    "  \n",
    "b = 6\n",
    "  \n",
    "c = 7\n",
    "  \n",
    "d = 8\n",
    "  \n",
    "\n",
    "  \n",
    "Calculez deux variables e et f qui valent :  \n",
    "  \n",
    "\n",
    "\n",
    "$e = a^3 + b*( c^2 + 12 + 19*d )$\n",
    "  \n",
    "$f = (a + b + c)*(b + c + d)*(c + d + a)*(d + a + c)$"
   ]
  },
  {
   "cell_type": "code",
   "execution_count": null,
   "metadata": {},
   "outputs": [],
   "source": [
    "## Exercice 2-4\n",
    "\n",
    "\n",
    "## Ne pas modifier les lignes suivantes\n",
    "import test_notebook_td_2\n",
    "test_notebook_td_2.tester_exo( '2_4', globals() )"
   ]
  },
  {
   "cell_type": "markdown",
   "metadata": {},
   "source": [
    "### Exercice n°5 : [Py] Calcul de produit (factoriel)"
   ]
  },
  {
   "cell_type": "markdown",
   "metadata": {},
   "source": [
    "A l'aide de python, calculez le produit des nombres de 1 à 999, dans une variable **resultat2_5**\n",
    "  \n",
    "C'est à dire :\n",
    "  \n",
    "$x = 1 * 2 * 3 * ... * 997 * 998 * 999$\n",
    "  \n",
    "Pour rappel, pour faire prendre à une variable it toutes les valeurs de 1 à 999, on peut utiliser la syntaxe :\n",
    "  \n",
    "~~~\n",
    "for it in range(1000):\n",
    "~~~\n",
    "\n",
    "Ou une boucle while (voir plus haut)"
   ]
  },
  {
   "cell_type": "code",
   "execution_count": null,
   "metadata": {},
   "outputs": [],
   "source": [
    "## Exercice 2-5\n",
    "\n",
    "\n",
    "## Ne pas modifier les lignes suivantes\n",
    "import test_notebook_td_2\n",
    "test_notebook_td_2.tester_exo( '2_5', globals() )"
   ]
  },
  {
   "cell_type": "markdown",
   "metadata": {},
   "source": [
    "**Exemple :** vous pouvez modifier votre code pour calculer le produit des nombres de 1 à 9, le résultat doit être : **362880**"
   ]
  },
  {
   "cell_type": "markdown",
   "metadata": {},
   "source": [
    "### Exercice n°6 : [Py] Calcul de somme de carré"
   ]
  },
  {
   "cell_type": "markdown",
   "metadata": {},
   "source": [
    "A l'aide de python, calculez la somme des carrés des nombres de 0 à 1487, dans une variable **resultat2_6**\n",
    "  \n",
    "On aura donc $x = 1^2 + 2^2 + 3^2 + ... + 1487^2$"
   ]
  },
  {
   "cell_type": "code",
   "execution_count": null,
   "metadata": {},
   "outputs": [],
   "source": [
    "## Exercice 2-6\n",
    "\n",
    "\n",
    "## Ne pas modifier les lignes suivantes\n",
    "import test_notebook_td_2\n",
    "test_notebook_td_2.tester_exo( '2_6', globals() )"
   ]
  },
  {
   "cell_type": "markdown",
   "metadata": {},
   "source": [
    "**Exemple :** vous pouvez modifier votre code pour calculer la somme des nombres au carré de 1 à 9, le résultat doit être : 285"
   ]
  },
  {
   "cell_type": "markdown",
   "metadata": {},
   "source": [
    "### Exercice n°7 : [Py] Calcul de somme partielle\n",
    "\n",
    "Calculer la somme des nombres de 1 à 1000 divisibles par 3, c'est à dire :\n",
    "\n",
    "$3 + 6 + 9 + ... + 993 + 996 + 999$\n",
    "\n",
    "Pour savoir si un entier est divisible par 3, on vérifie si son reste est égal à 0:\n",
    "  \n",
    "~~~\n",
    "if x % 3 == 0: \n",
    "    ...\n",
    "~~~\n",
    "\n",
    "Mettez le résultat dans une variable **resultat2_7** (c'est elle qui sera vérifiée par le test)"
   ]
  },
  {
   "cell_type": "code",
   "execution_count": null,
   "metadata": {},
   "outputs": [],
   "source": [
    "## Exercice 2-7\n",
    "\n",
    "\n",
    "## Ne pas modifier les lignes suivantes\n",
    "import test_notebook_td_2\n",
    "test_notebook_td_2.tester_exo( '2_7', globals() )"
   ]
  },
  {
   "cell_type": "markdown",
   "metadata": {},
   "source": [
    "**Exemple :** vous pouvez modifier votre code pour calculer la somme des multiples de 3 de 1 à 20 (soit 3 + 6 + 9 + 12 + 15 + 18), le résultat doit être : 63"
   ]
  },
  {
   "cell_type": "markdown",
   "metadata": {},
   "source": [
    "### Exercice n°8 : [Py] Calcul de somme partielle"
   ]
  },
  {
   "cell_type": "markdown",
   "metadata": {},
   "source": [
    "Calculez la somme des nombres de 0 à 5999 divisibles par 3 ou par 5, dans une variable **resultat2_8**. On ne comptera qu'une seule fois les nombres divisibles par 15 (à la fois par 3 et 5 donc).\n",
    " \n",
    "Pour savoir si un entier est divisible par 3 ou 5, on vérifie si son reste est égal à 0:\n",
    "  \n",
    "~~~\n",
    "if x % 3 == 0: \n",
    "    ## ce code sera exécuté si le reste de la division de x par 3 vaut 0\n",
    "if x % 5 == 0: \n",
    "    ## ce code sera exécuté si le reste de la division de x par 5 vaut 0\n",
    "~~~\n",
    "  \n",
    "Faites attention que dans le cas précédent les deux blocs d'instructions après les if seront exécutés."
   ]
  },
  {
   "cell_type": "code",
   "execution_count": null,
   "metadata": {},
   "outputs": [],
   "source": [
    "## Exercice 2-8\n",
    "\n",
    "\n",
    "## Ne pas modifier les lignes suivantes\n",
    "import test_notebook_td_2\n",
    "test_notebook_td_2.tester_exo( '2_8', globals() )"
   ]
  },
  {
   "cell_type": "markdown",
   "metadata": {},
   "source": [
    "**Exemple :** en allant de 0 à 1000 le résultat doit être 233168"
   ]
  },
  {
   "cell_type": "markdown",
   "metadata": {},
   "source": [
    "### Exercice n°9 : [Py] Calcul d'exponentielle\n",
    "\n",
    "Calculer, sans utiliser le module math, e^10 (que vous mettrez dans une variable **resultat2_9**)\n",
    "\n",
    "On rappellera une formule approchée pour cela :\n",
    "\n",
    "$e^n = \\sum_{k=0}^{1000}{ \\frac{ n^k }{ k! } }$ \n",
    "\n",
    "Avec $0^0 = 0$ et $0! = 1$"
   ]
  },
  {
   "cell_type": "code",
   "execution_count": null,
   "metadata": {},
   "outputs": [],
   "source": [
    "## Exercice 2-9\n",
    "\n",
    "    \n",
    "## Ne pas modifier les lignes suivantes\n",
    "import test_notebook_td_2\n",
    "test_notebook_td_2.tester_exo( '2_9', globals() )"
   ]
  },
  {
   "cell_type": "code",
   "execution_count": null,
   "metadata": {
    "collapsed": true
   },
   "outputs": [],
   "source": []
  }
 ],
 "metadata": {
  "anaconda-cloud": {},
  "kernelspec": {
   "display_name": "Python 3 (ipykernel)",
   "language": "python",
   "name": "python3"
  },
  "language_info": {
   "codemirror_mode": {
    "name": "ipython",
    "version": 3
   },
   "file_extension": ".py",
   "mimetype": "text/x-python",
   "name": "python",
   "nbconvert_exporter": "python",
   "pygments_lexer": "ipython3",
   "version": "3.9.7"
  }
 },
 "nbformat": 4,
 "nbformat_minor": 1
}
