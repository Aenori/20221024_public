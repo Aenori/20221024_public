{
 "cells": [
  {
   "cell_type": "markdown",
   "id": "ca9c3776",
   "metadata": {},
   "source": [
    "# Python basic"
   ]
  },
  {
   "cell_type": "markdown",
   "id": "0015cffb",
   "metadata": {},
   "source": [
    "- [Variable](#variable)\n",
    "    * [String variable](#string_variable)\n",
    "    * [F-String](#f_string)\n",
    "- [Syntax and indentation](#syntax)\n",
    "- [Functions](#functions)\n",
    "- [Class](#class)\n",
    "    * basic syntax\n",
    "    * limit to class"
   ]
  },
  {
   "cell_type": "markdown",
   "id": "7a519042",
   "metadata": {},
   "source": [
    "<a id='variable'></a>\n",
    "## Variable"
   ]
  },
  {
   "cell_type": "markdown",
   "id": "05c137c1",
   "metadata": {},
   "source": [
    "Variable are one of the basis of any programming language, and they are meant to store variable values.  \n",
    "You don't specify the type of a variable in python and variable can even change type ! *That is the kind of thing you should not do*, there is no sensible reason to do that ..."
   ]
  },
  {
   "cell_type": "code",
   "execution_count": 8,
   "id": "48901f6f",
   "metadata": {},
   "outputs": [],
   "source": [
    "# int\n",
    "a = 4\n",
    "# float\n",
    "b = 4.0\n",
    "# string\n",
    "c = \"Hello world\""
   ]
  },
  {
   "cell_type": "markdown",
   "id": "3dc35c83",
   "metadata": {},
   "source": [
    "You can ask the type of variable, by simply using the function type()"
   ]
  },
  {
   "cell_type": "code",
   "execution_count": 9,
   "id": "d6367f42",
   "metadata": {},
   "outputs": [
    {
     "data": {
      "text/plain": [
       "int"
      ]
     },
     "execution_count": 9,
     "metadata": {},
     "output_type": "execute_result"
    }
   ],
   "source": [
    "type(a)"
   ]
  },
  {
   "cell_type": "markdown",
   "id": "dffd2770",
   "metadata": {},
   "source": [
    "NB : In this case, the type is printed because you are in a jupyter notebook, so an interactive environment, and it is the last result of the cell. Otherwise you should use print to show a variable result."
   ]
  },
  {
   "cell_type": "markdown",
   "id": "316874a5",
   "metadata": {},
   "source": [
    "<a id='string_variable'></a>\n",
    "### String variable\n",
    "\n",
    "You can use three different delimiters for python string, <code>\"</code>, <code>'</code> or <code>\"\"\"</code>.  \n",
    "The three of them create the same kind of string. The only difference is that if you use a delimiter, you can use the other safely.\n",
    "\n",
    "Also the last one <code>\"\"\"</code> is multi-line. It is often used for documentation purpose."
   ]
  },
  {
   "cell_type": "code",
   "execution_count": 11,
   "id": "f48e951e",
   "metadata": {},
   "outputs": [],
   "source": [
    "a = \"A string with ' inside\"\n",
    "b = 'A string with \" inside'\n",
    "c = \"\"\"A string\n",
    "that spawn over multiple lines\n",
    "\"\"\""
   ]
  },
  {
   "cell_type": "markdown",
   "id": "7d58028a",
   "metadata": {},
   "source": [
    "<a id='f_string'></a>\n",
    "### F-String"
   ]
  },
  {
   "cell_type": "markdown",
   "id": "6acb9e1e",
   "metadata": {},
   "source": [
    "Let's start by a nice feature of python 3 that will be used through this notebook, f-string.  \n",
    "F string are a new feature in recent version of python that allow to combine string and variables. It is  \n",
    "\n",
    "<code>f\"show variable {var}\"</code>\n",
    "\n",
    "So you just put an **f** before the string symbol to be able to reference any variable inside with the bracket symbol."
   ]
  },
  {
   "cell_type": "code",
   "execution_count": 12,
   "id": "d9febf15",
   "metadata": {},
   "outputs": [
    {
     "name": "stdout",
     "output_type": "stream",
     "text": [
      "The result of 25 + 12 is 37\n"
     ]
    }
   ],
   "source": [
    "a = 25 + 12\n",
    "print(f\"The result of 25 + 12 is {a}\")"
   ]
  },
  {
   "cell_type": "markdown",
   "id": "007f23e4",
   "metadata": {},
   "source": [
    "<a id='syntax'></a>\n",
    "## Syntax and indentation"
   ]
  },
  {
   "cell_type": "markdown",
   "id": "4f472e0f",
   "metadata": {},
   "source": [
    "First starting with something very specific to python : indentation. Indentation has a syntaxing meaning in python, it defines the bloc code. The basic idea is that code should be well indented, and that a good way to do so is to make sure badly indented code doesn't work ...\n",
    "\n",
    "For example the two functions are differents :"
   ]
  },
  {
   "cell_type": "code",
   "execution_count": 14,
   "id": "dfa9aeb0",
   "metadata": {},
   "outputs": [],
   "source": [
    "def f1(i):\n",
    "    if i % 2 == 0:\n",
    "        print(f\"{i} is even\")\n",
    "    else:\n",
    "        print(f\"{i} is odd\")\n",
    "        print(i)\n",
    "        \n",
    "def f2(i):\n",
    "    if i % 2 == 0:\n",
    "        print(f\"{i} is even\")\n",
    "    else:\n",
    "        print(f\"{i} is odd\")\n",
    "    print(i)"
   ]
  },
  {
   "cell_type": "markdown",
   "id": "3dd32dd0",
   "metadata": {},
   "source": [
    "The first function only print i if the number is odd, while the second one always print it"
   ]
  },
  {
   "cell_type": "code",
   "execution_count": 17,
   "id": "52b8808b",
   "metadata": {},
   "outputs": [
    {
     "name": "stdout",
     "output_type": "stream",
     "text": [
      "10 is even\n",
      "11 is odd\n",
      "11\n",
      "======\n",
      "12 is even\n",
      "12\n",
      "13 is odd\n",
      "13\n"
     ]
    }
   ],
   "source": [
    "f1(10)\n",
    "f1(11)\n",
    "print(\"=\" * 6)\n",
    "f2(12)\n",
    "f2(13)"
   ]
  },
  {
   "cell_type": "markdown",
   "id": "40b28450",
   "metadata": {},
   "source": [
    "The syntaxing symbol <code>:</code> is strongly linked to indentation, you will find after each instruction that require a block code :  \n",
    "\n",
    "    if a == 3:\n",
    "        pass\n",
    "    for a in l:\n",
    "        pass\n",
    "    def my_function(i):\n",
    "        pass"
   ]
  },
  {
   "cell_type": "markdown",
   "id": "9c611e59",
   "metadata": {},
   "source": [
    "### One of the strange keyword\n",
    "\n",
    "<code>pass</code> is a strange keyword. It means \"do nothing\". What is the use of this keyword ? It is simply that python expect an indented bloc after all instruction that requires it, so if you don't want to provide one yet, you have to use the <code>pass</code> keyword."
   ]
  },
  {
   "cell_type": "markdown",
   "id": "86f6c604",
   "metadata": {},
   "source": [
    "<a id='functions'></a>\n",
    "## Defining functions"
   ]
  },
  {
   "cell_type": "markdown",
   "id": "ebb63ca1",
   "metadata": {},
   "source": [
    "Function in python are defined using the keyword <code>def</code> which is followed by the name of the function and the argument :"
   ]
  },
  {
   "cell_type": "code",
   "execution_count": 19,
   "id": "69819d71",
   "metadata": {},
   "outputs": [],
   "source": [
    "def custom_sum(a, b):\n",
    "    return a + b"
   ]
  },
  {
   "cell_type": "markdown",
   "id": "659a6d0a",
   "metadata": {},
   "source": [
    "You don't specify any type, and so the same function can be used with different type :"
   ]
  },
  {
   "cell_type": "code",
   "execution_count": 22,
   "id": "a2c19140",
   "metadata": {},
   "outputs": [
    {
     "data": {
      "text/plain": [
       "4"
      ]
     },
     "execution_count": 22,
     "metadata": {},
     "output_type": "execute_result"
    }
   ],
   "source": [
    "custom_sum(1, 3)"
   ]
  },
  {
   "cell_type": "code",
   "execution_count": 23,
   "id": "fc2f93e9",
   "metadata": {},
   "outputs": [
    {
     "data": {
      "text/plain": [
       "'13'"
      ]
     },
     "execution_count": 23,
     "metadata": {},
     "output_type": "execute_result"
    }
   ],
   "source": [
    "custom_sum(\"1\", \"3\")"
   ]
  },
  {
   "cell_type": "markdown",
   "id": "64bc50a8",
   "metadata": {},
   "source": [
    "<code>return</code> is the keyword to define the result of the function. The function is stopped, exited and its result returned.\n",
    "\n",
    "Be careful that once again, python won't warn you if you write code after the return, even if it won't called anyway "
   ]
  },
  {
   "cell_type": "code",
   "execution_count": 24,
   "id": "c73e18bb",
   "metadata": {},
   "outputs": [
    {
     "data": {
      "text/plain": [
       "3"
      ]
     },
     "execution_count": 24,
     "metadata": {},
     "output_type": "execute_result"
    }
   ],
   "source": [
    "def custom_sum(a, b):\n",
    "    return a + b\n",
    "    print(f\"The result is {a + b}\") # This line will never be executed, \n",
    "        # and would produce an error on some compiled language\n",
    "    \n",
    "custom_sum(1, 2)"
   ]
  },
  {
   "cell_type": "markdown",
   "id": "03e309b6",
   "metadata": {},
   "source": [
    "## DataStructure\n",
    "\n",
    "Datastructure are a main tool in programming, as they are used to store and process data. \n",
    "\n",
    "!Disclaimer : data analysis in python use some specific data structure, pandas dataframe, numpy array and other.\n",
    "\n",
    "The three main data structure in python are the same as in every languages (with just different names) :"
   ]
  },
  {
   "cell_type": "code",
   "execution_count": 1,
   "id": "c533889b",
   "metadata": {},
   "outputs": [],
   "source": [
    "## List\n",
    "a_list = [1, 2, 3]\n",
    "\n",
    "## Set\n",
    "a_set = {1, 2, 3} #\n",
    "# or \n",
    "a_set_2 = set([1, 2, 3])\n",
    "\n",
    "## Dict\n",
    "a_dict = {1: 2, 3: 4}"
   ]
  },
  {
   "cell_type": "markdown",
   "id": "7e3c2ea7",
   "metadata": {},
   "source": [
    "List are structure that are ordered (from the first element to the last) but they don't have any kind of search structure attached, so finding an element by its value is slow.\n",
    "\n",
    "Set and dict have search structure.\n",
    "\n",
    "### Examples"
   ]
  },
  {
   "cell_type": "code",
   "execution_count": null,
   "id": "719ddc48",
   "metadata": {},
   "outputs": [],
   "source": [
    "a_list = ['a', 'b', 'c']\n",
    "print(a_list[1]) ## fast\n",
    "\n",
    "a_set = {'a', 'b', 'c'}\n",
    "print()"
   ]
  },
  {
   "cell_type": "markdown",
   "id": "b5a7992a",
   "metadata": {},
   "source": [
    "## Loop and control flow"
   ]
  },
  {
   "cell_type": "markdown",
   "id": "dbdfb6dc",
   "metadata": {},
   "source": [
    "<a id='class'></a>\n",
    "## Class in python"
   ]
  },
  {
   "cell_type": "markdown",
   "id": "d1e0494c",
   "metadata": {},
   "source": [
    "### Python data analysis : class vs panda dataframe"
   ]
  },
  {
   "cell_type": "markdown",
   "id": "2dca3785",
   "metadata": {},
   "source": [
    "As mentionned, python allow OOP (object oriented programming) which basically means defining class.  \n",
    "Nevertheless, it is only the shadow of what it is in java or C++.  \n",
    "The reason is that the real power of OOP is to define the properties and capacity of an object, and making sure at compilation time that everything is right in the code. OOP strong point is really a specification checked by compilation.\n",
    "\n",
    "As you don't have this check in python, OOP is still powerful for some generic behaviour, but overall, it is not a proeminent paradigm in python.\n",
    "\n",
    "Also regarding data analysis, OOP is pure python, so badly fit for the python data analysis librairies.\n",
    "\n",
    "Let's compare on an example on the titanic dataset :"
   ]
  },
  {
   "cell_type": "code",
   "execution_count": 1,
   "id": "e992ec14",
   "metadata": {},
   "outputs": [
    {
     "name": "stdout",
     "output_type": "stream",
     "text": [
      "             Survived  Pclass  \\\n",
      "PassengerId                     \n",
      "1                   0       3   \n",
      "2                   1       1   \n",
      "3                   1       3   \n",
      "4                   1       1   \n",
      "5                   0       3   \n",
      "\n",
      "                                                          Name     Sex   Age  \\\n",
      "PassengerId                                                                    \n",
      "1                                      Braund, Mr. Owen Harris    male  22.0   \n",
      "2            Cumings, Mrs. John Bradley (Florence Briggs Th...  female  38.0   \n",
      "3                                       Heikkinen, Miss. Laina  female  26.0   \n",
      "4                 Futrelle, Mrs. Jacques Heath (Lily May Peel)  female  35.0   \n",
      "5                                     Allen, Mr. William Henry    male  35.0   \n",
      "\n",
      "             SibSp  Parch            Ticket     Fare Cabin Embarked  \n",
      "PassengerId                                                          \n",
      "1                1      0         A/5 21171   7.2500   NaN        S  \n",
      "2                1      0          PC 17599  71.2833   C85        C  \n",
      "3                0      0  STON/O2. 3101282   7.9250   NaN        S  \n",
      "4                1      0            113803  53.1000  C123        S  \n",
      "5                0      0            373450   8.0500   NaN        S  \n"
     ]
    }
   ],
   "source": [
    "import pandas as pd\n",
    "\n",
    "url = 'https://raw.githubusercontent.com/Aenori/20221024_public/main/dataset/titanic_train.csv'\n",
    "df = pd.read_csv(url, index_col=0)\n",
    "print(df.head(5))"
   ]
  },
  {
   "cell_type": "markdown",
   "id": "69ddb2fd",
   "metadata": {},
   "source": [
    "Each row of the data set describe a passenger with several attributes :"
   ]
  },
  {
   "cell_type": "code",
   "execution_count": 2,
   "id": "d228bb1a",
   "metadata": {},
   "outputs": [
    {
     "data": {
      "text/plain": [
       "Index(['Survived', 'Pclass', 'Name', 'Sex', 'Age', 'SibSp', 'Parch', 'Ticket',\n",
       "       'Fare', 'Cabin', 'Embarked'],\n",
       "      dtype='object')"
      ]
     },
     "execution_count": 2,
     "metadata": {},
     "output_type": "execute_result"
    }
   ],
   "source": [
    "df.columns"
   ]
  },
  {
   "cell_type": "markdown",
   "id": "169a7fcf",
   "metadata": {},
   "source": [
    "The matching pure python code for a class would be :"
   ]
  },
  {
   "cell_type": "code",
   "execution_count": 3,
   "id": "9eabc120",
   "metadata": {},
   "outputs": [],
   "source": [
    "class Passenger:\n",
    "    def __init__(self, passenger_id, survived, pclass, name, sex, age, sibsp, parch, ticket, fare, cabin, embarked):\n",
    "        self.passenger_id = passenger_id\n",
    "        self.survived = survived\n",
    "        self.pclass = pclass\n",
    "        self.name = name\n",
    "        self.sex = sex\n",
    "        self.age = age\n",
    "        self.sibsp = sibsp\n",
    "        self.parch = parch\n",
    "        self.ticket = ticket\n",
    "        self.fare = fare\n",
    "        self.cabin = cabin\n",
    "        self.embarked = embarked\n",
    "        \n",
    "    def __str__(self):\n",
    "        return f\"Passenger {self.name}, age : {self.age}\""
   ]
  },
  {
   "cell_type": "code",
   "execution_count": 4,
   "id": "4a40a683",
   "metadata": {},
   "outputs": [],
   "source": [
    "passenger_as_python_class = []\n",
    "\n",
    "for passenger in df.itertuples():\n",
    "    passenger_as_python_class.append(\n",
    "        Passenger(passenger.Index, passenger.Survived, passenger.Pclass, passenger.Name, \n",
    "                  passenger.Sex, passenger.Age, passenger.SibSp, passenger.Parch, passenger.Ticket, \n",
    "                  passenger.Fare, passenger.Cabin, passenger.Embarked)\n",
    "    )"
   ]
  },
  {
   "cell_type": "code",
   "execution_count": 5,
   "id": "026fd923",
   "metadata": {},
   "outputs": [
    {
     "data": {
      "text/plain": [
       "891"
      ]
     },
     "execution_count": 5,
     "metadata": {},
     "output_type": "execute_result"
    }
   ],
   "source": [
    "len(passenger_as_python_class)"
   ]
  },
  {
   "cell_type": "code",
   "execution_count": 6,
   "id": "8455ef59",
   "metadata": {},
   "outputs": [
    {
     "name": "stdout",
     "output_type": "stream",
     "text": [
      "Passenger Braund, Mr. Owen Harris, age : 22.0\n"
     ]
    }
   ],
   "source": [
    "print(passenger_as_python_class[0])"
   ]
  },
  {
   "cell_type": "code",
   "execution_count": null,
   "id": "dab731bb",
   "metadata": {},
   "outputs": [],
   "source": []
  }
 ],
 "metadata": {
  "kernelspec": {
   "display_name": "Python 3 (ipykernel)",
   "language": "python",
   "name": "python3"
  },
  "language_info": {
   "codemirror_mode": {
    "name": "ipython",
    "version": 3
   },
   "file_extension": ".py",
   "mimetype": "text/x-python",
   "name": "python",
   "nbconvert_exporter": "python",
   "pygments_lexer": "ipython3",
   "version": "3.9.7"
  }
 },
 "nbformat": 4,
 "nbformat_minor": 5
}
