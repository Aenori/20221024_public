{
 "cells": [
  {
   "cell_type": "markdown",
   "id": "ca9c3776",
   "metadata": {},
   "source": [
    "# Python basic"
   ]
  },
  {
   "cell_type": "markdown",
   "id": "0015cffb",
   "metadata": {},
   "source": [
    "\n",
    "- [Class](#class)\n",
    "    * basic syntax\n",
    "    * limit to class"
   ]
  },
  {
   "cell_type": "markdown",
   "id": "dbdfb6dc",
   "metadata": {},
   "source": [
    "<a id='class'></a>\n",
    "# Class in python"
   ]
  },
  {
   "cell_type": "markdown",
   "id": "2dca3785",
   "metadata": {},
   "source": [
    "As mentionned, python allow OOP (object oriented programming) which basically means defining class.  \n",
    "Nevertheless, it is only the shadow of what it is in java or C++.  \n",
    "The reason is that the real power of OOP is to define the properties and capacity of an object, and making sure at compilation time that everything is right in the code. OOP strong point is really a specification checked by compilation.\n",
    "\n",
    "As you don't have this check in python, OOP is still powerful for some generic behaviour, but overall, it is not a proeminent paradigm in python.\n",
    "\n",
    "Also regarding data analysis, OOP is pure python, so badly fit for the python data analysis librairies.\n",
    "\n",
    "Let's compare on an example on the titanic dataset :"
   ]
  },
  {
   "cell_type": "code",
   "execution_count": 1,
   "id": "e992ec14",
   "metadata": {},
   "outputs": [
    {
     "name": "stdout",
     "output_type": "stream",
     "text": [
      "             Survived  Pclass  \\\n",
      "PassengerId                     \n",
      "1                   0       3   \n",
      "2                   1       1   \n",
      "3                   1       3   \n",
      "4                   1       1   \n",
      "5                   0       3   \n",
      "\n",
      "                                                          Name     Sex   Age  \\\n",
      "PassengerId                                                                    \n",
      "1                                      Braund, Mr. Owen Harris    male  22.0   \n",
      "2            Cumings, Mrs. John Bradley (Florence Briggs Th...  female  38.0   \n",
      "3                                       Heikkinen, Miss. Laina  female  26.0   \n",
      "4                 Futrelle, Mrs. Jacques Heath (Lily May Peel)  female  35.0   \n",
      "5                                     Allen, Mr. William Henry    male  35.0   \n",
      "\n",
      "             SibSp  Parch            Ticket     Fare Cabin Embarked  \n",
      "PassengerId                                                          \n",
      "1                1      0         A/5 21171   7.2500   NaN        S  \n",
      "2                1      0          PC 17599  71.2833   C85        C  \n",
      "3                0      0  STON/O2. 3101282   7.9250   NaN        S  \n",
      "4                1      0            113803  53.1000  C123        S  \n",
      "5                0      0            373450   8.0500   NaN        S  \n"
     ]
    }
   ],
   "source": [
    "import pandas as pd\n",
    "\n",
    "url = 'https://raw.githubusercontent.com/Aenori/20221024_public/main/dataset/titanic_train.csv'\n",
    "df = pd.read_csv(url, index_col=0)\n",
    "print(df.head(5))"
   ]
  },
  {
   "cell_type": "markdown",
   "id": "69ddb2fd",
   "metadata": {},
   "source": [
    "Each row of the data set describe a passenger with several attributes :"
   ]
  },
  {
   "cell_type": "code",
   "execution_count": 2,
   "id": "d228bb1a",
   "metadata": {},
   "outputs": [
    {
     "data": {
      "text/plain": [
       "Index(['Survived', 'Pclass', 'Name', 'Sex', 'Age', 'SibSp', 'Parch', 'Ticket',\n",
       "       'Fare', 'Cabin', 'Embarked'],\n",
       "      dtype='object')"
      ]
     },
     "execution_count": 2,
     "metadata": {},
     "output_type": "execute_result"
    }
   ],
   "source": [
    "df.columns"
   ]
  },
  {
   "cell_type": "markdown",
   "id": "169a7fcf",
   "metadata": {},
   "source": [
    "The matching pure python code for a class would be :"
   ]
  },
  {
   "cell_type": "code",
   "execution_count": 6,
   "id": "9eabc120",
   "metadata": {},
   "outputs": [],
   "source": [
    "class Passenger:\n",
    "    def __init__(self, passenger_id, survived, pclass, name, sex, age, sibsp, parch, ticket, fare, cabin, embarked):\n",
    "        self.passenger_id = passenger_id\n",
    "        self.survived = survived\n",
    "        self.pclass = pclass\n",
    "        self.name = name\n",
    "        self.sex = sex\n",
    "        self.age = age\n",
    "        self.sibsp = sibsp\n",
    "        self.parch = parch\n",
    "        self.ticket = ticket\n",
    "        self.fare = fare\n",
    "        self.cabin = cabin\n",
    "        self.embarked = embarked\n",
    "        \n",
    "    def __str__(self):\n",
    "        return f\"Passenger {self.name}, age : {self.age}\""
   ]
  },
  {
   "cell_type": "code",
   "execution_count": 7,
   "id": "4a40a683",
   "metadata": {},
   "outputs": [],
   "source": [
    "passenger_as_python_class = []\n",
    "\n",
    "for passenger in df.itertuples():\n",
    "    passenger_as_python_class.append(\n",
    "        Passenger(passenger.Index, passenger.Survived, passenger.Pclass, passenger.Name, \n",
    "                  passenger.Sex, passenger.Age, passenger.SibSp, passenger.Parch, passenger.Ticket, \n",
    "                  passenger.Fare, passenger.Cabin, passenger.Embarked)\n",
    "    )"
   ]
  },
  {
   "cell_type": "code",
   "execution_count": 5,
   "id": "026fd923",
   "metadata": {},
   "outputs": [
    {
     "data": {
      "text/plain": [
       "891"
      ]
     },
     "execution_count": 5,
     "metadata": {},
     "output_type": "execute_result"
    }
   ],
   "source": [
    "len(passenger_as_python_class)"
   ]
  },
  {
   "cell_type": "code",
   "execution_count": 8,
   "id": "8455ef59",
   "metadata": {},
   "outputs": [
    {
     "name": "stdout",
     "output_type": "stream",
     "text": [
      "Passenger Braund, Mr. Owen Harris, age : 22.0\n"
     ]
    }
   ],
   "source": [
    "print(passenger_as_python_class[0])"
   ]
  },
  {
   "cell_type": "code",
   "execution_count": null,
   "id": "dab731bb",
   "metadata": {},
   "outputs": [],
   "source": []
  }
 ],
 "metadata": {
  "kernelspec": {
   "display_name": "Python 3 (ipykernel)",
   "language": "python",
   "name": "python3"
  },
  "language_info": {
   "codemirror_mode": {
    "name": "ipython",
    "version": 3
   },
   "file_extension": ".py",
   "mimetype": "text/x-python",
   "name": "python",
   "nbconvert_exporter": "python",
   "pygments_lexer": "ipython3",
   "version": "3.9.7"
  }
 },
 "nbformat": 4,
 "nbformat_minor": 5
}
