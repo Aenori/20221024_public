{
 "cells": [
  {
   "cell_type": "markdown",
   "id": "35e57afe",
   "metadata": {},
   "source": [
    "Author : Nicolas Rousset  \n",
    "Github : https://github.com/Aenori  \n",
    "Mail : nrousset@gmail.com  \n",
    "License : MIT  "
   ]
  },
  {
   "cell_type": "markdown",
   "id": "9dbcfa69",
   "metadata": {},
   "source": [
    "# Titanic data set"
   ]
  },
  {
   "cell_type": "code",
   "execution_count": 5,
   "id": "c49d80df",
   "metadata": {},
   "outputs": [],
   "source": [
    "import pandas as pd\n",
    "\n",
    "df = pd.read_csv('https://raw.githubusercontent.com/Aenori/PythonDataAnalysis_public/main/dataset/titanic_train.csv', \n",
    "                     index_col=0)"
   ]
  },
  {
   "cell_type": "code",
   "execution_count": 6,
   "id": "5c872457",
   "metadata": {},
   "outputs": [
    {
     "data": {
      "text/plain": [
       "Index(['Survived', 'Pclass', 'Name', 'Sex', 'Age', 'SibSp', 'Parch', 'Ticket',\n",
       "       'Fare', 'Cabin', 'Embarked'],\n",
       "      dtype='object')"
      ]
     },
     "execution_count": 6,
     "metadata": {},
     "output_type": "execute_result"
    }
   ],
   "source": [
    "df.columns"
   ]
  },
  {
   "cell_type": "markdown",
   "id": "8cb00f59",
   "metadata": {},
   "source": [
    "# Questions "
   ]
  },
  {
   "cell_type": "markdown",
   "id": "ef26125b",
   "metadata": {},
   "source": [
    "How many women survived ? How many men ?"
   ]
  },
  {
   "cell_type": "code",
   "execution_count": null,
   "id": "054ef9e7",
   "metadata": {},
   "outputs": [],
   "source": []
  },
  {
   "cell_type": "markdown",
   "id": "2659372c",
   "metadata": {},
   "source": [
    "What is the average survival rate of women of 1st class ? (Women over 1)"
   ]
  },
  {
   "cell_type": "code",
   "execution_count": null,
   "id": "c727e5f3",
   "metadata": {},
   "outputs": [],
   "source": []
  },
  {
   "cell_type": "markdown",
   "id": "c28ff497",
   "metadata": {},
   "source": [
    "What is the average Fare for people with a cabin ?"
   ]
  },
  {
   "cell_type": "code",
   "execution_count": null,
   "id": "d7bdc550",
   "metadata": {},
   "outputs": [],
   "source": []
  },
  {
   "cell_type": "markdown",
   "id": "756fd4a7",
   "metadata": {},
   "source": [
    "How many people with a cabin are not in first class ?"
   ]
  },
  {
   "cell_type": "code",
   "execution_count": null,
   "id": "ef88f953",
   "metadata": {},
   "outputs": [],
   "source": []
  },
  {
   "cell_type": "markdown",
   "id": "7058f5c5",
   "metadata": {},
   "source": [
    "What is the average age of the passenger in first class ? In thid class ? "
   ]
  },
  {
   "cell_type": "code",
   "execution_count": null,
   "id": "302b36d8",
   "metadata": {},
   "outputs": [],
   "source": []
  }
 ],
 "metadata": {
  "kernelspec": {
   "display_name": "Python 3 (ipykernel)",
   "language": "python",
   "name": "python3"
  },
  "language_info": {
   "codemirror_mode": {
    "name": "ipython",
    "version": 3
   },
   "file_extension": ".py",
   "mimetype": "text/x-python",
   "name": "python",
   "nbconvert_exporter": "python",
   "pygments_lexer": "ipython3",
   "version": "3.9.7"
  }
 },
 "nbformat": 4,
 "nbformat_minor": 5
}
