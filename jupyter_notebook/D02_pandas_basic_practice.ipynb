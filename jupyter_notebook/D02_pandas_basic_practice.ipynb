{
 "cells": [
  {
   "cell_type": "markdown",
   "id": "770a499f-fa07-4ca0-8ddd-c50e76eb0599",
   "metadata": {
    "tags": []
   },
   "source": [
    "# Pandas - basis\n",
    "\n",
    "This part is intended for trainees without previous experience in programming.  \n",
    "Most exercises only require one line of code to be answered, and are meant to familiarise yourself with python syntax and pandas."
   ]
  },
  {
   "cell_type": "markdown",
   "id": "c5a99b1d",
   "metadata": {},
   "source": [
    "## Prelude - loading the data\n",
    "\n",
    "We will be using a data set containing data about yellow taxi trips. Just execute the following cell without modifying it."
   ]
  },
  {
   "cell_type": "code",
   "execution_count": null,
   "id": "6d955d4b",
   "metadata": {},
   "outputs": [],
   "source": [
    "import urllib.request\n",
    "# Please execute this at the start of the notebook\n",
    "\n",
    "base_url = 'https://raw.githubusercontent.com/Aenori/PythonDataAnalysis_public/main/help_files/pandas/'\n",
    "helper_file = '2019_Yellow_Taxi_Trip_Data.csv'\n",
    "\n",
    "urllib.request.urlretrieve(base_url + helper_file, helper_file)"
   ]
  },
  {
   "cell_type": "code",
   "execution_count": null,
   "id": "d1c89cd8",
   "metadata": {},
   "outputs": [],
   "source": [
    "import pandas as pd\n",
    "df_taxi = pd.read_csv(helper_file)"
   ]
  },
  {
   "cell_type": "markdown",
   "id": "69c3a4b7",
   "metadata": {},
   "source": [
    "## Part 1 - Dataframe global overview\n",
    "\n",
    "All exercises of this part are just one function call"
   ]
  },
  {
   "cell_type": "markdown",
   "id": "2c057554",
   "metadata": {},
   "source": [
    "### Exercice 1 : number of rows and columns\n",
    "\n",
    "What is the number of rows and columns of the DataFrame `df_taxi` ? There are several methods that give the information, use the one that only gives it."
   ]
  },
  {
   "cell_type": "code",
   "execution_count": null,
   "id": "aa449dc1-4c0b-47ce-bba7-061568590d97",
   "metadata": {},
   "outputs": [],
   "source": []
  },
  {
   "cell_type": "markdown",
   "id": "e802608a",
   "metadata": {},
   "source": [
    "### Exercice 2 : list of columns\n",
    "\n",
    "Find the list of the columns of `df_taxi`"
   ]
  },
  {
   "cell_type": "code",
   "execution_count": null,
   "id": "db2b0c7c",
   "metadata": {},
   "outputs": [],
   "source": []
  },
  {
   "cell_type": "markdown",
   "id": "a968bdab",
   "metadata": {},
   "source": [
    "### Exercice 3 : detailled list of columns\n",
    "\n",
    "Find the list of the columns of `df_taxi` with their type, and some other info, like the memory usage of the `DataFrame`"
   ]
  },
  {
   "cell_type": "code",
   "execution_count": null,
   "id": "ecf22aaa",
   "metadata": {},
   "outputs": [],
   "source": []
  },
  {
   "cell_type": "markdown",
   "id": "f8267f15",
   "metadata": {},
   "source": [
    "### Exercice 4 : DataFrame sample\n",
    "\n",
    "Show the 5 first rows of the `DataFrame` "
   ]
  },
  {
   "cell_type": "code",
   "execution_count": null,
   "id": "3f67be98",
   "metadata": {},
   "outputs": [],
   "source": []
  },
  {
   "cell_type": "markdown",
   "id": "e6159735",
   "metadata": {},
   "source": [
    "### Exercice 5 : statistical description\n",
    "\n",
    "In one line, extract somme statistical data about all numerical columns : min, max, quantile ... "
   ]
  },
  {
   "cell_type": "code",
   "execution_count": null,
   "id": "9091db33",
   "metadata": {},
   "outputs": [],
   "source": []
  },
  {
   "cell_type": "markdown",
   "id": "f5e7b385",
   "metadata": {},
   "source": [
    "## Part 2 - column informations"
   ]
  },
  {
   "cell_type": "markdown",
   "id": "6cfcb38e",
   "metadata": {},
   "source": [
    "### Exercice 5 : access a column\n",
    "\n",
    "Access the column 'extra' by two differents ways"
   ]
  },
  {
   "cell_type": "code",
   "execution_count": null,
   "id": "5a723636",
   "metadata": {},
   "outputs": [],
   "source": []
  },
  {
   "cell_type": "markdown",
   "id": "83cc9af3",
   "metadata": {},
   "source": [
    "### Exercice 6 : maximum of column\n",
    "\n",
    "What is the maximum of the column trip_distance ? "
   ]
  },
  {
   "cell_type": "code",
   "execution_count": null,
   "id": "073765ea",
   "metadata": {},
   "outputs": [],
   "source": []
  },
  {
   "cell_type": "markdown",
   "id": "482febe1",
   "metadata": {},
   "source": [
    "### Exercice 7 : \n",
    "\n",
    "What is the minimum of the column trip_distance ? "
   ]
  },
  {
   "cell_type": "code",
   "execution_count": null,
   "id": "580ca7f8",
   "metadata": {},
   "outputs": [],
   "source": []
  },
  {
   "cell_type": "markdown",
   "id": "58a95837",
   "metadata": {},
   "source": [
    "### Exercice 8 :\n",
    "\n",
    "How many differents vendorid is there ? What is the most common value for vendorid ? This can be answered with one function call"
   ]
  },
  {
   "cell_type": "code",
   "execution_count": null,
   "id": "324369f8",
   "metadata": {},
   "outputs": [],
   "source": []
  },
  {
   "cell_type": "markdown",
   "id": "1b4c3c53",
   "metadata": {},
   "source": [
    "### Exercice 9 :\n",
    "\n",
    "Draw an histogram that shows the distribution of `fare_amount`"
   ]
  },
  {
   "cell_type": "code",
   "execution_count": null,
   "id": "256fc873",
   "metadata": {},
   "outputs": [],
   "source": []
  },
  {
   "cell_type": "markdown",
   "id": "6e54d256",
   "metadata": {},
   "source": [
    "## Part 3 : manipulation between columns"
   ]
  },
  {
   "cell_type": "markdown",
   "id": "2b144f37",
   "metadata": {},
   "source": [
    "### Exercice 10 :\n",
    "\n",
    "Create a column `total_by_passenger` that is equal to the `total_amount` divided by `passenger_count`"
   ]
  },
  {
   "cell_type": "code",
   "execution_count": null,
   "id": "9900407a",
   "metadata": {},
   "outputs": [],
   "source": []
  },
  {
   "cell_type": "markdown",
   "id": "06eb4cb2",
   "metadata": {},
   "source": [
    "### Exercice 11 :\n",
    "\n",
    "What is the standard deviation of the column `total_by_passenger` ? Why is that ?"
   ]
  },
  {
   "cell_type": "code",
   "execution_count": null,
   "id": "77952783",
   "metadata": {},
   "outputs": [],
   "source": []
  },
  {
   "cell_type": "markdown",
   "id": "534f746f",
   "metadata": {},
   "source": [
    "### Exercice 12 :\n",
    "\n",
    "Create a column `delta_amount` that is equal to the difference between the `total_amount` and the `tip_amount`  "
   ]
  },
  {
   "cell_type": "code",
   "execution_count": null,
   "id": "712dbd96",
   "metadata": {},
   "outputs": [],
   "source": []
  },
  {
   "cell_type": "markdown",
   "id": "72b2af9b",
   "metadata": {},
   "source": [
    "### Exercice 13 : little bit trickier\n",
    "\n",
    "Create a column `max_tip_toll` that is the maximum of the columns `tolls_amount` and `tip_amount`"
   ]
  },
  {
   "cell_type": "code",
   "execution_count": null,
   "id": "30974c98",
   "metadata": {},
   "outputs": [],
   "source": []
  },
  {
   "cell_type": "markdown",
   "id": "f8efaf29",
   "metadata": {},
   "source": [
    "## Part 4 : part of DataFrame extraction"
   ]
  },
  {
   "cell_type": "markdown",
   "id": "70213e84",
   "metadata": {},
   "source": [
    "### Exercice 14 :\n",
    "\n",
    "Extract a view on the Dataframe with the columns 'tpep_pickup_datetime', 'tpep_dropoff_datetime' and 'trip_distance'"
   ]
  },
  {
   "cell_type": "code",
   "execution_count": null,
   "id": "e3c04d6c",
   "metadata": {},
   "outputs": [],
   "source": []
  },
  {
   "cell_type": "markdown",
   "id": "f81c583d",
   "metadata": {},
   "source": [
    "### Exercice 15 :\n",
    "\n",
    "Extract a Dataframe with first 5000 rows"
   ]
  },
  {
   "cell_type": "code",
   "execution_count": null,
   "id": "360f0ef3",
   "metadata": {},
   "outputs": [],
   "source": []
  },
  {
   "cell_type": "markdown",
   "id": "a044062f",
   "metadata": {},
   "source": [
    "### Exercice 16 :\n",
    "\n",
    "Extract a Dataframe with the first 2000 rows and the cols `tip_amount`, `tolls_amount` and `total_amount`"
   ]
  },
  {
   "cell_type": "code",
   "execution_count": null,
   "id": "e52977fb",
   "metadata": {},
   "outputs": [],
   "source": []
  },
  {
   "cell_type": "markdown",
   "id": "448e84f5",
   "metadata": {},
   "source": [
    "## Bonus"
   ]
  },
  {
   "cell_type": "markdown",
   "id": "44002887",
   "metadata": {},
   "source": [
    "### Exercice 21 : fast and furious\n",
    "\n",
    "Who is the fatest driver, in average ?"
   ]
  },
  {
   "cell_type": "code",
   "execution_count": null,
   "id": "f66e9549",
   "metadata": {},
   "outputs": [],
   "source": []
  }
 ],
 "metadata": {
  "kernelspec": {
   "display_name": "Python 3 (ipykernel)",
   "language": "python",
   "name": "python3"
  },
  "language_info": {
   "codemirror_mode": {
    "name": "ipython",
    "version": 3
   },
   "file_extension": ".py",
   "mimetype": "text/x-python",
   "name": "python",
   "nbconvert_exporter": "python",
   "pygments_lexer": "ipython3",
   "version": "3.9.7"
  }
 },
 "nbformat": 4,
 "nbformat_minor": 5
}
