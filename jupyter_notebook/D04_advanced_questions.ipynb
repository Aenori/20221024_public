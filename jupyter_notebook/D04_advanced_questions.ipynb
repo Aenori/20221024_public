{
 "cells": [
  {
   "cell_type": "markdown",
   "id": "9c6b49ee",
   "metadata": {},
   "source": [
    "# Advanced questions"
   ]
  },
  {
   "cell_type": "code",
   "execution_count": 1,
   "id": "5e98f365",
   "metadata": {},
   "outputs": [],
   "source": [
    "import pandas as pd\n",
    "import numpy as np\n",
    "\n",
    "def get_test_df1():\n",
    "    return pd.DataFrame({'A' : [1, 2, 3, 4], 'B' : [5, 6, 7, 8]})\n",
    "\n",
    "def get_test_df2():\n",
    "    return pd.DataFrame({'A' : np.arange(1, 10000), 'B' : np.arange(1, 10000) + 100000})"
   ]
  },
  {
   "cell_type": "markdown",
   "id": "4538f9a8",
   "metadata": {},
   "source": [
    "## Question 1 \n",
    "\n",
    "In reference to the dataframe taxis of the exercise \"D02_02_data_wrangling.ipynb\" => how to define a multiple index on the field pickup + dropoff ?"
   ]
  },
  {
   "cell_type": "markdown",
   "id": "449c7a38",
   "metadata": {},
   "source": [
    "### Answer\n",
    "\n",
    "You can use `set_index` with a list"
   ]
  },
  {
   "cell_type": "code",
   "execution_count": 2,
   "id": "12b3e936",
   "metadata": {},
   "outputs": [
    {
     "data": {
      "text/html": [
       "<div>\n",
       "<style scoped>\n",
       "    .dataframe tbody tr th:only-of-type {\n",
       "        vertical-align: middle;\n",
       "    }\n",
       "\n",
       "    .dataframe tbody tr th {\n",
       "        vertical-align: top;\n",
       "    }\n",
       "\n",
       "    .dataframe thead th {\n",
       "        text-align: right;\n",
       "    }\n",
       "</style>\n",
       "<table border=\"1\" class=\"dataframe\">\n",
       "  <thead>\n",
       "    <tr style=\"text-align: right;\">\n",
       "      <th></th>\n",
       "      <th></th>\n",
       "      <th>C</th>\n",
       "    </tr>\n",
       "    <tr>\n",
       "      <th>A</th>\n",
       "      <th>B</th>\n",
       "      <th></th>\n",
       "    </tr>\n",
       "  </thead>\n",
       "  <tbody>\n",
       "    <tr>\n",
       "      <th rowspan=\"2\" valign=\"top\">1</th>\n",
       "      <th>5</th>\n",
       "      <td>9</td>\n",
       "    </tr>\n",
       "    <tr>\n",
       "      <th>6</th>\n",
       "      <td>10</td>\n",
       "    </tr>\n",
       "    <tr>\n",
       "      <th>3</th>\n",
       "      <th>7</th>\n",
       "      <td>11</td>\n",
       "    </tr>\n",
       "    <tr>\n",
       "      <th>4</th>\n",
       "      <th>8</th>\n",
       "      <td>12</td>\n",
       "    </tr>\n",
       "  </tbody>\n",
       "</table>\n",
       "</div>"
      ],
      "text/plain": [
       "      C\n",
       "A B    \n",
       "1 5   9\n",
       "  6  10\n",
       "3 7  11\n",
       "4 8  12"
      ]
     },
     "execution_count": 2,
     "metadata": {},
     "output_type": "execute_result"
    }
   ],
   "source": [
    "df_multi_index = pd.DataFrame({'A' : [1, 1, 3, 4], 'B' : [5, 6, 7, 8], 'C' : [9, 10, 11, 12]})\n",
    "df_multi_index.set_index(['A', 'B'], inplace=True)\n",
    "df_multi_index"
   ]
  },
  {
   "cell_type": "markdown",
   "id": "7b7602ad",
   "metadata": {},
   "source": [
    "Then, when using loc, you can use simple values (which will be looked into the first index) or tuples "
   ]
  },
  {
   "cell_type": "code",
   "execution_count": 3,
   "id": "e9929036",
   "metadata": {},
   "outputs": [
    {
     "data": {
      "text/html": [
       "<div>\n",
       "<style scoped>\n",
       "    .dataframe tbody tr th:only-of-type {\n",
       "        vertical-align: middle;\n",
       "    }\n",
       "\n",
       "    .dataframe tbody tr th {\n",
       "        vertical-align: top;\n",
       "    }\n",
       "\n",
       "    .dataframe thead th {\n",
       "        text-align: right;\n",
       "    }\n",
       "</style>\n",
       "<table border=\"1\" class=\"dataframe\">\n",
       "  <thead>\n",
       "    <tr style=\"text-align: right;\">\n",
       "      <th></th>\n",
       "      <th>C</th>\n",
       "    </tr>\n",
       "    <tr>\n",
       "      <th>B</th>\n",
       "      <th></th>\n",
       "    </tr>\n",
       "  </thead>\n",
       "  <tbody>\n",
       "    <tr>\n",
       "      <th>5</th>\n",
       "      <td>9</td>\n",
       "    </tr>\n",
       "    <tr>\n",
       "      <th>6</th>\n",
       "      <td>10</td>\n",
       "    </tr>\n",
       "  </tbody>\n",
       "</table>\n",
       "</div>"
      ],
      "text/plain": [
       "    C\n",
       "B    \n",
       "5   9\n",
       "6  10"
      ]
     },
     "execution_count": 3,
     "metadata": {},
     "output_type": "execute_result"
    }
   ],
   "source": [
    "df_multi_index.loc[1]"
   ]
  },
  {
   "cell_type": "code",
   "execution_count": 4,
   "id": "3b0974a7",
   "metadata": {},
   "outputs": [
    {
     "data": {
      "text/plain": [
       "C    9\n",
       "Name: (1, 5), dtype: int64"
      ]
     },
     "execution_count": 4,
     "metadata": {},
     "output_type": "execute_result"
    }
   ],
   "source": [
    "df_multi_index.loc[(1, 5)]"
   ]
  },
  {
   "cell_type": "markdown",
   "id": "3fb9099b",
   "metadata": {},
   "source": [
    "## Question 2\n",
    "\n",
    "Considering the data TSA & Holidays in \"D02_02_data_wrangling.ipynb\" => is it possible to do « rolling joins », ie that Holidays is joined to TSA on date_Holiday <= date_TSA ?"
   ]
  },
  {
   "cell_type": "markdown",
   "id": "1661c245",
   "metadata": {},
   "source": [
    "### Answer\n",
    "\n",
    "Well `pandas` doesn't seem to allow that, so the simpler solution would be to add a column to make the join on.\n",
    "Let's say you have some development, with some target finish date, and some deliveries, and you want to merge every development with the next delivery (so development_time <= delivery_time) "
   ]
  },
  {
   "cell_type": "code",
   "execution_count": 5,
   "id": "de90d147",
   "metadata": {},
   "outputs": [
    {
     "name": "stdout",
     "output_type": "stream",
     "text": [
      "  development_time\n",
      "0       2022-10-01\n",
      "1       2022-10-04\n",
      "2       2022-10-07\n",
      "3       2022-10-10\n",
      "4       2022-10-13\n",
      "5       2022-10-16\n",
      "6       2022-10-19\n",
      "7       2022-10-22\n",
      "8       2022-10-25\n",
      "9       2022-10-28\n",
      "  delivery_time version\n",
      "0    2022-10-01     1.0\n",
      "1    2022-10-08     1.1\n",
      "2    2022-11-01     1.2\n"
     ]
    }
   ],
   "source": [
    "development_time = pd.to_datetime([f\"2022-10-{i:02d}\" for i in range(1, 31, 3)])\n",
    "delivery_time = pd.to_datetime(['2022-10-01', '2022-10-08', '2022-11-01'])\n",
    "\n",
    "dev_df = pd.DataFrame({'development_time' : development_time})\n",
    "delivery_df = pd.DataFrame({'delivery_time' : delivery_time, 'version': ['1.0', '1.1', '1.2']})\n",
    "\n",
    "print(dev_df)\n",
    "print(delivery_df)"
   ]
  },
  {
   "cell_type": "code",
   "execution_count": 6,
   "id": "2d44ca2b",
   "metadata": {},
   "outputs": [
    {
     "data": {
      "text/html": [
       "<div>\n",
       "<style scoped>\n",
       "    .dataframe tbody tr th:only-of-type {\n",
       "        vertical-align: middle;\n",
       "    }\n",
       "\n",
       "    .dataframe tbody tr th {\n",
       "        vertical-align: top;\n",
       "    }\n",
       "\n",
       "    .dataframe thead th {\n",
       "        text-align: right;\n",
       "    }\n",
       "</style>\n",
       "<table border=\"1\" class=\"dataframe\">\n",
       "  <thead>\n",
       "    <tr style=\"text-align: right;\">\n",
       "      <th></th>\n",
       "      <th>development_time</th>\n",
       "      <th>delivery_time</th>\n",
       "      <th>version</th>\n",
       "    </tr>\n",
       "  </thead>\n",
       "  <tbody>\n",
       "    <tr>\n",
       "      <th>0</th>\n",
       "      <td>2022-10-01</td>\n",
       "      <td>2022-10-01</td>\n",
       "      <td>1.0</td>\n",
       "    </tr>\n",
       "    <tr>\n",
       "      <th>1</th>\n",
       "      <td>2022-10-04</td>\n",
       "      <td>2022-10-08</td>\n",
       "      <td>1.1</td>\n",
       "    </tr>\n",
       "    <tr>\n",
       "      <th>2</th>\n",
       "      <td>2022-10-07</td>\n",
       "      <td>2022-10-08</td>\n",
       "      <td>1.1</td>\n",
       "    </tr>\n",
       "    <tr>\n",
       "      <th>3</th>\n",
       "      <td>2022-10-10</td>\n",
       "      <td>2022-11-01</td>\n",
       "      <td>1.2</td>\n",
       "    </tr>\n",
       "    <tr>\n",
       "      <th>4</th>\n",
       "      <td>2022-10-13</td>\n",
       "      <td>2022-11-01</td>\n",
       "      <td>1.2</td>\n",
       "    </tr>\n",
       "    <tr>\n",
       "      <th>5</th>\n",
       "      <td>2022-10-16</td>\n",
       "      <td>2022-11-01</td>\n",
       "      <td>1.2</td>\n",
       "    </tr>\n",
       "    <tr>\n",
       "      <th>6</th>\n",
       "      <td>2022-10-19</td>\n",
       "      <td>2022-11-01</td>\n",
       "      <td>1.2</td>\n",
       "    </tr>\n",
       "    <tr>\n",
       "      <th>7</th>\n",
       "      <td>2022-10-22</td>\n",
       "      <td>2022-11-01</td>\n",
       "      <td>1.2</td>\n",
       "    </tr>\n",
       "    <tr>\n",
       "      <th>8</th>\n",
       "      <td>2022-10-25</td>\n",
       "      <td>2022-11-01</td>\n",
       "      <td>1.2</td>\n",
       "    </tr>\n",
       "    <tr>\n",
       "      <th>9</th>\n",
       "      <td>2022-10-28</td>\n",
       "      <td>2022-11-01</td>\n",
       "      <td>1.2</td>\n",
       "    </tr>\n",
       "  </tbody>\n",
       "</table>\n",
       "</div>"
      ],
      "text/plain": [
       "  development_time delivery_time version\n",
       "0       2022-10-01    2022-10-01     1.0\n",
       "1       2022-10-04    2022-10-08     1.1\n",
       "2       2022-10-07    2022-10-08     1.1\n",
       "3       2022-10-10    2022-11-01     1.2\n",
       "4       2022-10-13    2022-11-01     1.2\n",
       "5       2022-10-16    2022-11-01     1.2\n",
       "6       2022-10-19    2022-11-01     1.2\n",
       "7       2022-10-22    2022-11-01     1.2\n",
       "8       2022-10-25    2022-11-01     1.2\n",
       "9       2022-10-28    2022-11-01     1.2"
      ]
     },
     "execution_count": 6,
     "metadata": {},
     "output_type": "execute_result"
    }
   ],
   "source": [
    "# From an algorithmic point of view, there are far better solutions, but this one \n",
    "#  is simpler\n",
    "def find_matching_delivery(dev_time):\n",
    "    return delivery_df.delivery_time[delivery_df.delivery_time >= dev_time].min()\n",
    "\n",
    "# apply means that we get, for every row, the result of find_matching_delivery applied\n",
    "#  to dev_df['development_time']\n",
    "dev_df['delivery_time'] = dev_df['development_time'].apply(find_matching_delivery)\n",
    "\n",
    "dev_and_delivery_df = dev_df.merge(delivery_df, on='delivery_time')\n",
    "dev_and_delivery_df"
   ]
  },
  {
   "cell_type": "markdown",
   "id": "605c812c",
   "metadata": {},
   "source": [
    "## Question 3\n",
    "\n",
    "regarding index : i have the feeling that when you define a variable (column) as index, we cannot select that column in a view and that we cannot do operation on it. Or, how do you such operation ?"
   ]
  },
  {
   "cell_type": "markdown",
   "id": "b3a61ce0",
   "metadata": {},
   "source": [
    "### Answer\n",
    "\n",
    "Just use `df.index` instead of the column name, that should cover most case, and otherwise you might just consider changing the index"
   ]
  },
  {
   "cell_type": "code",
   "execution_count": 7,
   "id": "b0d5082e",
   "metadata": {},
   "outputs": [],
   "source": [
    "df_multi_index = pd.DataFrame({'A' : [1, 2, 3, 4], 'B' : [5, 6, 7, 8], 'C' : [9, 10, 11, 12]})\n",
    "df_multi_index.set_index('A', inplace=True)"
   ]
  },
  {
   "cell_type": "code",
   "execution_count": 8,
   "id": "1119509e",
   "metadata": {},
   "outputs": [
    {
     "data": {
      "text/html": [
       "<div>\n",
       "<style scoped>\n",
       "    .dataframe tbody tr th:only-of-type {\n",
       "        vertical-align: middle;\n",
       "    }\n",
       "\n",
       "    .dataframe tbody tr th {\n",
       "        vertical-align: top;\n",
       "    }\n",
       "\n",
       "    .dataframe thead th {\n",
       "        text-align: right;\n",
       "    }\n",
       "</style>\n",
       "<table border=\"1\" class=\"dataframe\">\n",
       "  <thead>\n",
       "    <tr style=\"text-align: right;\">\n",
       "      <th></th>\n",
       "      <th>B</th>\n",
       "      <th>C</th>\n",
       "      <th>D</th>\n",
       "    </tr>\n",
       "    <tr>\n",
       "      <th>A</th>\n",
       "      <th></th>\n",
       "      <th></th>\n",
       "      <th></th>\n",
       "    </tr>\n",
       "  </thead>\n",
       "  <tbody>\n",
       "    <tr>\n",
       "      <th>1</th>\n",
       "      <td>5</td>\n",
       "      <td>9</td>\n",
       "      <td>6</td>\n",
       "    </tr>\n",
       "    <tr>\n",
       "      <th>2</th>\n",
       "      <td>6</td>\n",
       "      <td>10</td>\n",
       "      <td>7</td>\n",
       "    </tr>\n",
       "    <tr>\n",
       "      <th>3</th>\n",
       "      <td>7</td>\n",
       "      <td>11</td>\n",
       "      <td>8</td>\n",
       "    </tr>\n",
       "    <tr>\n",
       "      <th>4</th>\n",
       "      <td>8</td>\n",
       "      <td>12</td>\n",
       "      <td>9</td>\n",
       "    </tr>\n",
       "  </tbody>\n",
       "</table>\n",
       "</div>"
      ],
      "text/plain": [
       "   B   C  D\n",
       "A          \n",
       "1  5   9  6\n",
       "2  6  10  7\n",
       "3  7  11  8\n",
       "4  8  12  9"
      ]
     },
     "execution_count": 8,
     "metadata": {},
     "output_type": "execute_result"
    }
   ],
   "source": [
    "df_multi_index['D'] = df_multi_index['B'] + 1\n",
    "df_multi_index"
   ]
  },
  {
   "cell_type": "code",
   "execution_count": 9,
   "id": "b9c08f5e",
   "metadata": {},
   "outputs": [
    {
     "data": {
      "text/html": [
       "<div>\n",
       "<style scoped>\n",
       "    .dataframe tbody tr th:only-of-type {\n",
       "        vertical-align: middle;\n",
       "    }\n",
       "\n",
       "    .dataframe tbody tr th {\n",
       "        vertical-align: top;\n",
       "    }\n",
       "\n",
       "    .dataframe thead th {\n",
       "        text-align: right;\n",
       "    }\n",
       "</style>\n",
       "<table border=\"1\" class=\"dataframe\">\n",
       "  <thead>\n",
       "    <tr style=\"text-align: right;\">\n",
       "      <th></th>\n",
       "      <th>B</th>\n",
       "      <th>C</th>\n",
       "      <th>D</th>\n",
       "      <th>E</th>\n",
       "    </tr>\n",
       "    <tr>\n",
       "      <th>A</th>\n",
       "      <th></th>\n",
       "      <th></th>\n",
       "      <th></th>\n",
       "      <th></th>\n",
       "    </tr>\n",
       "  </thead>\n",
       "  <tbody>\n",
       "    <tr>\n",
       "      <th>1</th>\n",
       "      <td>5</td>\n",
       "      <td>9</td>\n",
       "      <td>6</td>\n",
       "      <td>2</td>\n",
       "    </tr>\n",
       "    <tr>\n",
       "      <th>2</th>\n",
       "      <td>6</td>\n",
       "      <td>10</td>\n",
       "      <td>7</td>\n",
       "      <td>3</td>\n",
       "    </tr>\n",
       "    <tr>\n",
       "      <th>3</th>\n",
       "      <td>7</td>\n",
       "      <td>11</td>\n",
       "      <td>8</td>\n",
       "      <td>4</td>\n",
       "    </tr>\n",
       "    <tr>\n",
       "      <th>4</th>\n",
       "      <td>8</td>\n",
       "      <td>12</td>\n",
       "      <td>9</td>\n",
       "      <td>5</td>\n",
       "    </tr>\n",
       "  </tbody>\n",
       "</table>\n",
       "</div>"
      ],
      "text/plain": [
       "   B   C  D  E\n",
       "A             \n",
       "1  5   9  6  2\n",
       "2  6  10  7  3\n",
       "3  7  11  8  4\n",
       "4  8  12  9  5"
      ]
     },
     "execution_count": 9,
     "metadata": {},
     "output_type": "execute_result"
    }
   ],
   "source": [
    "# Setting df_multi_index['E'] = df_multi_index['A'] + 1, but with 'A' as index\n",
    "df_multi_index['E'] = df_multi_index.index + 1\n",
    "df_multi_index"
   ]
  },
  {
   "cell_type": "markdown",
   "id": "bc5800a9",
   "metadata": {},
   "source": [
    "## Question 4\n",
    "\n",
    "I don't get what are the lambda functions, and what is the difference between `df.assign` and `df.apply`"
   ]
  },
  {
   "cell_type": "markdown",
   "id": "e77edcc3",
   "metadata": {},
   "source": [
    "### Answer\n",
    "\n",
    "First, these are two different questions"
   ]
  },
  {
   "cell_type": "markdown",
   "id": "bd997621",
   "metadata": {},
   "source": [
    "### Answer 4.1 : what are lambda ?\n",
    "\n",
    "Lambda are also called anonymous `function` it is an advanced syntax, out of the scope of the training, that you use when you need to define a function that you will use only once."
   ]
  },
  {
   "cell_type": "code",
   "execution_count": 10,
   "id": "efb2af59",
   "metadata": {},
   "outputs": [
    {
     "name": "stdout",
     "output_type": "stream",
     "text": [
      "4\n",
      "4\n"
     ]
    }
   ],
   "source": [
    "# These two codes are equivalent\n",
    "def f(x):\n",
    "    return x + 1\n",
    "print(f(3))\n",
    "\n",
    "f = lambda x: x + 1\n",
    "print(f(3))"
   ]
  },
  {
   "cell_type": "markdown",
   "id": "fa25d845",
   "metadata": {},
   "source": [
    "It is mainly used with some functions, like `map` or `apply` that are meant to apply a function to every element of a set of elements"
   ]
  },
  {
   "cell_type": "code",
   "execution_count": 11,
   "id": "7f93c4d9",
   "metadata": {},
   "outputs": [
    {
     "name": "stdout",
     "output_type": "stream",
     "text": [
      "[2, 3, 4, 5]\n",
      "[2, 3, 4, 5]\n"
     ]
    }
   ],
   "source": [
    "list1 = [1, 2, 3, 4]\n",
    "\n",
    "# These two codes are equivalent\n",
    "# ***** First code *****\n",
    "def f(x):\n",
    "    return x + 1\n",
    "# Important, we are not putting parenthesis after the f here, \n",
    "#  because we are not calling the function, but referencing it\n",
    "print(list(map(f, list1)))\n",
    "\n",
    "# ***** Second code *****\n",
    "# Here, we use a lambda function to directly declare the function\n",
    "#  inside the map\n",
    "print(list(map(lambda x: x + 1, list1)))"
   ]
  },
  {
   "cell_type": "markdown",
   "id": "599f2728",
   "metadata": {},
   "source": [
    "### Answer 4.2 : difference between apply and assign\n",
    "\n",
    "Well, they are two different function, `assign` is used on a Dataframe to add some new columns or replace an existing one, `apply` is simply applying a function on every element of a column.\n",
    "\n",
    "For exemple, these three codes are similar :"
   ]
  },
  {
   "cell_type": "code",
   "execution_count": 12,
   "id": "6a7fcc07",
   "metadata": {},
   "outputs": [
    {
     "name": "stdout",
     "output_type": "stream",
     "text": [
      "===== case 1 =====\n",
      "   A  B  C\n",
      "0  1  5  2\n",
      "1  2  6  3\n",
      "2  3  7  4\n",
      "3  4  8  5\n",
      "===== case 2 =====\n",
      "   A  B  C\n",
      "0  1  5  2\n",
      "1  2  6  3\n",
      "2  3  7  4\n",
      "3  4  8  5\n",
      "===== case 3 =====\n",
      "   A  B  C\n",
      "0  1  5  2\n",
      "1  2  6  3\n",
      "2  3  7  4\n",
      "3  4  8  5\n"
     ]
    }
   ],
   "source": [
    "# Assign with []\n",
    "df = get_test_df1()\n",
    "df['C'] = df['A'] + 1\n",
    "print(\"===== case 1 =====\")\n",
    "print(df)\n",
    "\n",
    "# Assign with assign\n",
    "df = get_test_df1()\n",
    "df2 = df.assign(C=df['A'] + 1)\n",
    "print(\"===== case 2 =====\")\n",
    "print(df2)\n",
    "\n",
    "# Assign with assign\n",
    "df = get_test_df1()\n",
    "df['C'] = df['A'].apply(lambda x : x + 1)\n",
    "print(\"===== case 3 =====\")\n",
    "print(df)"
   ]
  },
  {
   "cell_type": "markdown",
   "id": "97f1c505",
   "metadata": {},
   "source": [
    "There some differences :\n",
    "\n",
    "    df.assign(C=df['A'] + 1)\n",
    "    \n",
    "Is not modifying the original DataFrame `df` but creating a view with the new column. So it is the version of \n",
    "\n",
    "    df['C'] = df['A'] + 1\n",
    "    \n",
    "With inplace = False, when you can use assign to chain operation.\n",
    "\n",
    "`apply` is applying afunction to every element of a column / Series and returning the result. **But you should not use it if you can do the job with simpler syntax**. apply should be use if the operation you want to do cannot be done using numpy arithmetics, and also it is slower than just `df['A'] + 1` because the function is executed as python code."
   ]
  },
  {
   "cell_type": "code",
   "execution_count": 13,
   "id": "5e0afd08",
   "metadata": {},
   "outputs": [
    {
     "name": "stdout",
     "output_type": "stream",
     "text": [
      "108 µs ± 2.78 µs per loop (mean ± std. dev. of 7 runs, 10,000 loops each)\n",
      "2.42 ms ± 32.1 µs per loop (mean ± std. dev. of 7 runs, 100 loops each)\n"
     ]
    }
   ],
   "source": [
    "df = get_test_df2()\n",
    "%timeit df['C'] = df['A'] + 1\n",
    "%timeit df['C'] = df['A'].apply(lambda x : x + 1)"
   ]
  },
  {
   "cell_type": "markdown",
   "id": "31207adf",
   "metadata": {},
   "source": [
    "Apply is mainly use for some very specific processing on the element of a column, for example date conversion, if you have a format that is not recognized by `pd.to_datetime`"
   ]
  },
  {
   "cell_type": "markdown",
   "id": "e60df38b",
   "metadata": {},
   "source": [
    "## Question 5 \n",
    "\n",
    "Naming question : what is the convention to name every \"object\" that is instanciated in python, whatever is its type ? Do we speak about \"variable\", \"item\", \"object\" ? ... It is mainly useful for google search, forum"
   ]
  },
  {
   "cell_type": "markdown",
   "id": "dda9b45f",
   "metadata": {},
   "source": [
    "### Answer\n",
    "\n",
    "Short answer : `object`\n",
    "\n",
    "But we are using the 3 terms `object`, `variable` and `item` in python, with different meaning :\n",
    "    - an object is anything created by python inside the memory of the process\n",
    "    - a variable is a name designing an object, or None\n",
    "    - an item is an element inside a dict"
   ]
  },
  {
   "cell_type": "code",
   "execution_count": 14,
   "id": "b6a50795",
   "metadata": {},
   "outputs": [
    {
     "name": "stdout",
     "output_type": "stream",
     "text": [
      "(1, 3)\n",
      "(2, 4)\n"
     ]
    }
   ],
   "source": [
    "# item example\n",
    "# This dict has two items\n",
    "dict1 = {1: 3, 2: 4}\n",
    "\n",
    "# they can be accessed with the items method :\n",
    "# k, v stand for key, value\n",
    "for k, v in dict1.items():\n",
    "    print((k, v))"
   ]
  },
  {
   "cell_type": "code",
   "execution_count": 15,
   "id": "0dd09219",
   "metadata": {},
   "outputs": [
    {
     "name": "stdout",
     "output_type": "stream",
     "text": [
      "True\n"
     ]
    }
   ],
   "source": [
    "# name and object example\n",
    "a = [1, 2, 3]\n",
    "b = a\n",
    "c = a\n",
    "\n",
    "# Here we have three variables a, b, c and only one object, the list\n",
    "#  declared on the same line as a. The three variables are pointing \n",
    "#  toward the same object\n",
    "# You can check if two variables point to the same object by using the\n",
    "#  id method\n",
    "print(id(a) == id(b)) # print True"
   ]
  },
  {
   "cell_type": "markdown",
   "id": "3ee07b1b",
   "metadata": {},
   "source": [
    "## Question 6\n",
    "\n",
    "How to do an egality test between two DataFrame output ? At the opposite, how to identify the differences between two objects, especially two DataFrames ?"
   ]
  },
  {
   "cell_type": "markdown",
   "id": "9096de70",
   "metadata": {},
   "source": [
    "### Answer\n",
    "\n",
    "This question was answered during the training (after it was asked), please have a look at Day 4 : Questions and extras => Comparing Dataframes\n",
    "\n",
    "In short, be careful that two missing values will never be equals, otherwise you use the boolean comparison operators `==` and `!=` and you implement your own logic to deal with na values and choose which part of the DataFrame (or the totality) you want to compare"
   ]
  },
  {
   "cell_type": "markdown",
   "id": "857a4588",
   "metadata": {},
   "source": [
    "## Question 7\n",
    "\n",
    "How to check if an \"object\" (to be defined) exists within everythig that is instanciated ?"
   ]
  },
  {
   "cell_type": "markdown",
   "id": "5c0b030b",
   "metadata": {},
   "source": [
    "### Answer"
   ]
  },
  {
   "cell_type": "markdown",
   "id": "f1f6e2da",
   "metadata": {},
   "source": [
    "I am not completely sure what you mean by that, but you probably want to first ask yourself why you need to do that (it is not a standard behaviour) and second, if you are sure, just use globals(), which is a dict containing all the variable that exists at one point "
   ]
  },
  {
   "cell_type": "code",
   "execution_count": 16,
   "id": "eb32c70f",
   "metadata": {},
   "outputs": [
    {
     "name": "stdout",
     "output_type": "stream",
     "text": [
      "True\n",
      "_ is a DataFrame\n",
      "__ is a DataFrame\n",
      "___ is a DataFrame\n",
      "df_multi_index is a DataFrame\n",
      "_2 is a DataFrame\n",
      "_3 is a DataFrame\n",
      "dev_df is a DataFrame\n",
      "delivery_df is a DataFrame\n",
      "dev_and_delivery_df is a DataFrame\n",
      "_6 is a DataFrame\n",
      "_8 is a DataFrame\n",
      "_9 is a DataFrame\n",
      "df is a DataFrame\n",
      "df2 is a DataFrame\n",
      "weird_variable is a DataFrame\n"
     ]
    }
   ],
   "source": [
    "weird_variable = pd.DataFrame({'Weird_column' : np.arange(200)})\n",
    "\n",
    "# Example 1 : checking the variable weird_variable exists\n",
    "print('weird_variable' in globals()) # print True\n",
    "\n",
    "# Example 2 : checking there is a DataFrame that exists\n",
    "for k, v in globals().items():\n",
    "    if isinstance(v, pd.DataFrame):\n",
    "        print(f\"{k} is a DataFrame\")\n",
    "        \n",
    "# Example 3 : looking for a DataFrame with a column named Weird_column\n",
    "def look_for_dataframe():\n",
    "    for k, v in globals().items():\n",
    "        if isinstance(v, pd.DataFrame):\n",
    "            if 'Weird_column' in v.columns:\n",
    "                return v\n",
    "\n",
    "weird_df = look_for_dataframe()\n",
    "# weird_df is pointing to the same DataFrame as weird_variable\n",
    "assert(id(weird_variable) == id(weird_df))"
   ]
  },
  {
   "cell_type": "code",
   "execution_count": null,
   "id": "c0e6944e",
   "metadata": {},
   "outputs": [],
   "source": []
  }
 ],
 "metadata": {
  "kernelspec": {
   "display_name": "Python 3 (ipykernel)",
   "language": "python",
   "name": "python3"
  },
  "language_info": {
   "codemirror_mode": {
    "name": "ipython",
    "version": 3
   },
   "file_extension": ".py",
   "mimetype": "text/x-python",
   "name": "python",
   "nbconvert_exporter": "python",
   "pygments_lexer": "ipython3",
   "version": "3.9.7"
  }
 },
 "nbformat": 4,
 "nbformat_minor": 5
}
