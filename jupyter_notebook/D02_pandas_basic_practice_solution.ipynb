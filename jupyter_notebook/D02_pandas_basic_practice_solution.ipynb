{
 "cells": [
  {
   "cell_type": "markdown",
   "id": "770a499f-fa07-4ca0-8ddd-c50e76eb0599",
   "metadata": {
    "tags": []
   },
   "source": [
    "# Pandas - basis\n",
    "\n",
    "This part is intended for trainees without previous experience in programming.  \n",
    "Most exercises only require one line of code to be answered, and are meant to familiarise yourself with python syntax and pandas."
   ]
  },
  {
   "cell_type": "markdown",
   "id": "c5a99b1d",
   "metadata": {},
   "source": [
    "## Prelude - loading the data\n",
    "\n",
    "We will be using a data set containing data about yellow taxi trips. Just execute the following cell without modifying it."
   ]
  },
  {
   "cell_type": "code",
   "execution_count": 1,
   "id": "6d955d4b",
   "metadata": {},
   "outputs": [
    {
     "data": {
      "text/plain": [
       "('2019_Yellow_Taxi_Trip_Data.csv', <http.client.HTTPMessage at 0x7f9e2c2efc40>)"
      ]
     },
     "execution_count": 1,
     "metadata": {},
     "output_type": "execute_result"
    }
   ],
   "source": [
    "import urllib.request\n",
    "# Please execute this at the start of the notebook\n",
    "\n",
    "base_url = 'https://raw.githubusercontent.com/Aenori/PythonDataAnalysis_public/main/help_files/pandas/'\n",
    "helper_file = '2019_Yellow_Taxi_Trip_Data.csv'\n",
    "\n",
    "urllib.request.urlretrieve(base_url + helper_file, helper_file)"
   ]
  },
  {
   "cell_type": "code",
   "execution_count": 2,
   "id": "d1c89cd8",
   "metadata": {},
   "outputs": [],
   "source": [
    "import pandas as pd\n",
    "df_taxi = pd.read_csv(helper_file)"
   ]
  },
  {
   "cell_type": "markdown",
   "id": "69c3a4b7",
   "metadata": {},
   "source": [
    "## Part 1 - Dataframe global overview\n",
    "\n",
    "All exercises of this part are just one function call"
   ]
  },
  {
   "cell_type": "markdown",
   "id": "2c057554",
   "metadata": {},
   "source": [
    "### Exercice 1 : number of rows and columns\n",
    "\n",
    "What is the number of rows and columns of the DataFrame `df_taxi` ? There are several methods that give the information, use the one that only gives it."
   ]
  },
  {
   "cell_type": "code",
   "execution_count": 3,
   "id": "aa449dc1-4c0b-47ce-bba7-061568590d97",
   "metadata": {},
   "outputs": [
    {
     "data": {
      "text/plain": [
       "(10000, 18)"
      ]
     },
     "execution_count": 3,
     "metadata": {},
     "output_type": "execute_result"
    }
   ],
   "source": [
    "df_taxi.shape"
   ]
  },
  {
   "cell_type": "markdown",
   "id": "e802608a",
   "metadata": {},
   "source": [
    "### Exercice 2 : list of columns\n",
    "\n",
    "Find the list of the columns of `df_taxi`"
   ]
  },
  {
   "cell_type": "code",
   "execution_count": 4,
   "id": "db2b0c7c",
   "metadata": {},
   "outputs": [
    {
     "data": {
      "text/plain": [
       "Index(['vendorid', 'tpep_pickup_datetime', 'tpep_dropoff_datetime',\n",
       "       'passenger_count', 'trip_distance', 'ratecodeid', 'store_and_fwd_flag',\n",
       "       'pulocationid', 'dolocationid', 'payment_type', 'fare_amount', 'extra',\n",
       "       'mta_tax', 'tip_amount', 'tolls_amount', 'improvement_surcharge',\n",
       "       'total_amount', 'congestion_surcharge'],\n",
       "      dtype='object')"
      ]
     },
     "execution_count": 4,
     "metadata": {},
     "output_type": "execute_result"
    }
   ],
   "source": [
    "df_taxi.columns"
   ]
  },
  {
   "cell_type": "markdown",
   "id": "a968bdab",
   "metadata": {},
   "source": [
    "### Exercice 3 : detailled list of columns\n",
    "\n",
    "Find the list of the columns of `df_taxi` with their type, and some other info, like the memory usage of the `DataFrame`"
   ]
  },
  {
   "cell_type": "code",
   "execution_count": 5,
   "id": "ecf22aaa",
   "metadata": {},
   "outputs": [
    {
     "name": "stdout",
     "output_type": "stream",
     "text": [
      "<class 'pandas.core.frame.DataFrame'>\n",
      "RangeIndex: 10000 entries, 0 to 9999\n",
      "Data columns (total 18 columns):\n",
      " #   Column                 Non-Null Count  Dtype  \n",
      "---  ------                 --------------  -----  \n",
      " 0   vendorid               10000 non-null  int64  \n",
      " 1   tpep_pickup_datetime   10000 non-null  object \n",
      " 2   tpep_dropoff_datetime  10000 non-null  object \n",
      " 3   passenger_count        10000 non-null  int64  \n",
      " 4   trip_distance          10000 non-null  float64\n",
      " 5   ratecodeid             10000 non-null  int64  \n",
      " 6   store_and_fwd_flag     10000 non-null  object \n",
      " 7   pulocationid           10000 non-null  int64  \n",
      " 8   dolocationid           10000 non-null  int64  \n",
      " 9   payment_type           10000 non-null  int64  \n",
      " 10  fare_amount            10000 non-null  float64\n",
      " 11  extra                  10000 non-null  float64\n",
      " 12  mta_tax                10000 non-null  float64\n",
      " 13  tip_amount             10000 non-null  float64\n",
      " 14  tolls_amount           10000 non-null  float64\n",
      " 15  improvement_surcharge  10000 non-null  float64\n",
      " 16  total_amount           10000 non-null  float64\n",
      " 17  congestion_surcharge   10000 non-null  float64\n",
      "dtypes: float64(9), int64(6), object(3)\n",
      "memory usage: 1.4+ MB\n"
     ]
    }
   ],
   "source": [
    "df_taxi.info()"
   ]
  },
  {
   "cell_type": "markdown",
   "id": "f8267f15",
   "metadata": {},
   "source": [
    "### Exercice 4 : DataFrame sample\n",
    "\n",
    "Show the 5 first rows of the `DataFrame` "
   ]
  },
  {
   "cell_type": "code",
   "execution_count": 6,
   "id": "3f67be98",
   "metadata": {},
   "outputs": [
    {
     "data": {
      "text/html": [
       "<div>\n",
       "<style scoped>\n",
       "    .dataframe tbody tr th:only-of-type {\n",
       "        vertical-align: middle;\n",
       "    }\n",
       "\n",
       "    .dataframe tbody tr th {\n",
       "        vertical-align: top;\n",
       "    }\n",
       "\n",
       "    .dataframe thead th {\n",
       "        text-align: right;\n",
       "    }\n",
       "</style>\n",
       "<table border=\"1\" class=\"dataframe\">\n",
       "  <thead>\n",
       "    <tr style=\"text-align: right;\">\n",
       "      <th></th>\n",
       "      <th>vendorid</th>\n",
       "      <th>tpep_pickup_datetime</th>\n",
       "      <th>tpep_dropoff_datetime</th>\n",
       "      <th>passenger_count</th>\n",
       "      <th>trip_distance</th>\n",
       "      <th>ratecodeid</th>\n",
       "      <th>store_and_fwd_flag</th>\n",
       "      <th>pulocationid</th>\n",
       "      <th>dolocationid</th>\n",
       "      <th>payment_type</th>\n",
       "      <th>fare_amount</th>\n",
       "      <th>extra</th>\n",
       "      <th>mta_tax</th>\n",
       "      <th>tip_amount</th>\n",
       "      <th>tolls_amount</th>\n",
       "      <th>improvement_surcharge</th>\n",
       "      <th>total_amount</th>\n",
       "      <th>congestion_surcharge</th>\n",
       "    </tr>\n",
       "  </thead>\n",
       "  <tbody>\n",
       "    <tr>\n",
       "      <th>0</th>\n",
       "      <td>2</td>\n",
       "      <td>2019-10-23T16:39:42.000</td>\n",
       "      <td>2019-10-23T17:14:10.000</td>\n",
       "      <td>1</td>\n",
       "      <td>7.93</td>\n",
       "      <td>1</td>\n",
       "      <td>N</td>\n",
       "      <td>138</td>\n",
       "      <td>170</td>\n",
       "      <td>1</td>\n",
       "      <td>29.5</td>\n",
       "      <td>1.0</td>\n",
       "      <td>0.5</td>\n",
       "      <td>7.98</td>\n",
       "      <td>6.12</td>\n",
       "      <td>0.3</td>\n",
       "      <td>47.90</td>\n",
       "      <td>2.5</td>\n",
       "    </tr>\n",
       "    <tr>\n",
       "      <th>1</th>\n",
       "      <td>1</td>\n",
       "      <td>2019-10-23T16:32:08.000</td>\n",
       "      <td>2019-10-23T16:45:26.000</td>\n",
       "      <td>1</td>\n",
       "      <td>2.00</td>\n",
       "      <td>1</td>\n",
       "      <td>N</td>\n",
       "      <td>11</td>\n",
       "      <td>26</td>\n",
       "      <td>1</td>\n",
       "      <td>10.5</td>\n",
       "      <td>1.0</td>\n",
       "      <td>0.5</td>\n",
       "      <td>0.00</td>\n",
       "      <td>0.00</td>\n",
       "      <td>0.3</td>\n",
       "      <td>12.30</td>\n",
       "      <td>0.0</td>\n",
       "    </tr>\n",
       "    <tr>\n",
       "      <th>2</th>\n",
       "      <td>2</td>\n",
       "      <td>2019-10-23T16:08:44.000</td>\n",
       "      <td>2019-10-23T16:21:11.000</td>\n",
       "      <td>1</td>\n",
       "      <td>1.36</td>\n",
       "      <td>1</td>\n",
       "      <td>N</td>\n",
       "      <td>163</td>\n",
       "      <td>162</td>\n",
       "      <td>1</td>\n",
       "      <td>9.5</td>\n",
       "      <td>1.0</td>\n",
       "      <td>0.5</td>\n",
       "      <td>2.00</td>\n",
       "      <td>0.00</td>\n",
       "      <td>0.3</td>\n",
       "      <td>15.80</td>\n",
       "      <td>2.5</td>\n",
       "    </tr>\n",
       "    <tr>\n",
       "      <th>3</th>\n",
       "      <td>2</td>\n",
       "      <td>2019-10-23T16:22:44.000</td>\n",
       "      <td>2019-10-23T16:43:26.000</td>\n",
       "      <td>1</td>\n",
       "      <td>1.00</td>\n",
       "      <td>1</td>\n",
       "      <td>N</td>\n",
       "      <td>170</td>\n",
       "      <td>163</td>\n",
       "      <td>1</td>\n",
       "      <td>13.0</td>\n",
       "      <td>1.0</td>\n",
       "      <td>0.5</td>\n",
       "      <td>4.32</td>\n",
       "      <td>0.00</td>\n",
       "      <td>0.3</td>\n",
       "      <td>21.62</td>\n",
       "      <td>2.5</td>\n",
       "    </tr>\n",
       "    <tr>\n",
       "      <th>4</th>\n",
       "      <td>2</td>\n",
       "      <td>2019-10-23T16:45:11.000</td>\n",
       "      <td>2019-10-23T16:58:49.000</td>\n",
       "      <td>1</td>\n",
       "      <td>1.96</td>\n",
       "      <td>1</td>\n",
       "      <td>N</td>\n",
       "      <td>163</td>\n",
       "      <td>236</td>\n",
       "      <td>1</td>\n",
       "      <td>10.5</td>\n",
       "      <td>1.0</td>\n",
       "      <td>0.5</td>\n",
       "      <td>0.50</td>\n",
       "      <td>0.00</td>\n",
       "      <td>0.3</td>\n",
       "      <td>15.30</td>\n",
       "      <td>2.5</td>\n",
       "    </tr>\n",
       "  </tbody>\n",
       "</table>\n",
       "</div>"
      ],
      "text/plain": [
       "   vendorid     tpep_pickup_datetime    tpep_dropoff_datetime  \\\n",
       "0         2  2019-10-23T16:39:42.000  2019-10-23T17:14:10.000   \n",
       "1         1  2019-10-23T16:32:08.000  2019-10-23T16:45:26.000   \n",
       "2         2  2019-10-23T16:08:44.000  2019-10-23T16:21:11.000   \n",
       "3         2  2019-10-23T16:22:44.000  2019-10-23T16:43:26.000   \n",
       "4         2  2019-10-23T16:45:11.000  2019-10-23T16:58:49.000   \n",
       "\n",
       "   passenger_count  trip_distance  ratecodeid store_and_fwd_flag  \\\n",
       "0                1           7.93           1                  N   \n",
       "1                1           2.00           1                  N   \n",
       "2                1           1.36           1                  N   \n",
       "3                1           1.00           1                  N   \n",
       "4                1           1.96           1                  N   \n",
       "\n",
       "   pulocationid  dolocationid  payment_type  fare_amount  extra  mta_tax  \\\n",
       "0           138           170             1         29.5    1.0      0.5   \n",
       "1            11            26             1         10.5    1.0      0.5   \n",
       "2           163           162             1          9.5    1.0      0.5   \n",
       "3           170           163             1         13.0    1.0      0.5   \n",
       "4           163           236             1         10.5    1.0      0.5   \n",
       "\n",
       "   tip_amount  tolls_amount  improvement_surcharge  total_amount  \\\n",
       "0        7.98          6.12                    0.3         47.90   \n",
       "1        0.00          0.00                    0.3         12.30   \n",
       "2        2.00          0.00                    0.3         15.80   \n",
       "3        4.32          0.00                    0.3         21.62   \n",
       "4        0.50          0.00                    0.3         15.30   \n",
       "\n",
       "   congestion_surcharge  \n",
       "0                   2.5  \n",
       "1                   0.0  \n",
       "2                   2.5  \n",
       "3                   2.5  \n",
       "4                   2.5  "
      ]
     },
     "execution_count": 6,
     "metadata": {},
     "output_type": "execute_result"
    }
   ],
   "source": [
    "df_taxi.head()"
   ]
  },
  {
   "cell_type": "markdown",
   "id": "e6159735",
   "metadata": {},
   "source": [
    "### Exercice 5 : statistical description\n",
    "\n",
    "In one line, extract somme statistical data about all numerical columns : min, max, quantile ... "
   ]
  },
  {
   "cell_type": "code",
   "execution_count": 7,
   "id": "9091db33",
   "metadata": {},
   "outputs": [
    {
     "data": {
      "text/html": [
       "<div>\n",
       "<style scoped>\n",
       "    .dataframe tbody tr th:only-of-type {\n",
       "        vertical-align: middle;\n",
       "    }\n",
       "\n",
       "    .dataframe tbody tr th {\n",
       "        vertical-align: top;\n",
       "    }\n",
       "\n",
       "    .dataframe thead th {\n",
       "        text-align: right;\n",
       "    }\n",
       "</style>\n",
       "<table border=\"1\" class=\"dataframe\">\n",
       "  <thead>\n",
       "    <tr style=\"text-align: right;\">\n",
       "      <th></th>\n",
       "      <th>vendorid</th>\n",
       "      <th>passenger_count</th>\n",
       "      <th>trip_distance</th>\n",
       "      <th>ratecodeid</th>\n",
       "      <th>pulocationid</th>\n",
       "      <th>dolocationid</th>\n",
       "      <th>payment_type</th>\n",
       "      <th>fare_amount</th>\n",
       "      <th>extra</th>\n",
       "      <th>mta_tax</th>\n",
       "      <th>tip_amount</th>\n",
       "      <th>tolls_amount</th>\n",
       "      <th>improvement_surcharge</th>\n",
       "      <th>total_amount</th>\n",
       "      <th>congestion_surcharge</th>\n",
       "    </tr>\n",
       "  </thead>\n",
       "  <tbody>\n",
       "    <tr>\n",
       "      <th>count</th>\n",
       "      <td>10000.000000</td>\n",
       "      <td>10000.000000</td>\n",
       "      <td>10000.000000</td>\n",
       "      <td>10000.000000</td>\n",
       "      <td>10000.000000</td>\n",
       "      <td>10000.000000</td>\n",
       "      <td>10000.000000</td>\n",
       "      <td>10000.000000</td>\n",
       "      <td>10000.000000</td>\n",
       "      <td>10000.000000</td>\n",
       "      <td>10000.000000</td>\n",
       "      <td>10000.000000</td>\n",
       "      <td>10000.000000</td>\n",
       "      <td>10000.000000</td>\n",
       "      <td>10000.000000</td>\n",
       "    </tr>\n",
       "    <tr>\n",
       "      <th>mean</th>\n",
       "      <td>1.633700</td>\n",
       "      <td>1.497700</td>\n",
       "      <td>3.015250</td>\n",
       "      <td>1.084200</td>\n",
       "      <td>166.900400</td>\n",
       "      <td>166.313500</td>\n",
       "      <td>1.301000</td>\n",
       "      <td>15.106313</td>\n",
       "      <td>1.960235</td>\n",
       "      <td>0.492450</td>\n",
       "      <td>2.634494</td>\n",
       "      <td>0.623447</td>\n",
       "      <td>0.298140</td>\n",
       "      <td>22.564659</td>\n",
       "      <td>2.282800</td>\n",
       "    </tr>\n",
       "    <tr>\n",
       "      <th>std</th>\n",
       "      <td>0.481817</td>\n",
       "      <td>1.139353</td>\n",
       "      <td>4.148063</td>\n",
       "      <td>0.418244</td>\n",
       "      <td>63.791288</td>\n",
       "      <td>68.525953</td>\n",
       "      <td>0.486644</td>\n",
       "      <td>13.954762</td>\n",
       "      <td>1.392940</td>\n",
       "      <td>0.071544</td>\n",
       "      <td>3.409800</td>\n",
       "      <td>6.437507</td>\n",
       "      <td>0.032537</td>\n",
       "      <td>19.209255</td>\n",
       "      <td>0.720946</td>\n",
       "    </tr>\n",
       "    <tr>\n",
       "      <th>min</th>\n",
       "      <td>1.000000</td>\n",
       "      <td>0.000000</td>\n",
       "      <td>0.000000</td>\n",
       "      <td>1.000000</td>\n",
       "      <td>1.000000</td>\n",
       "      <td>1.000000</td>\n",
       "      <td>1.000000</td>\n",
       "      <td>-52.000000</td>\n",
       "      <td>-4.500000</td>\n",
       "      <td>-0.500000</td>\n",
       "      <td>0.000000</td>\n",
       "      <td>-6.120000</td>\n",
       "      <td>-0.300000</td>\n",
       "      <td>-65.920000</td>\n",
       "      <td>-2.500000</td>\n",
       "    </tr>\n",
       "    <tr>\n",
       "      <th>25%</th>\n",
       "      <td>1.000000</td>\n",
       "      <td>1.000000</td>\n",
       "      <td>0.920000</td>\n",
       "      <td>1.000000</td>\n",
       "      <td>132.000000</td>\n",
       "      <td>132.000000</td>\n",
       "      <td>1.000000</td>\n",
       "      <td>7.000000</td>\n",
       "      <td>1.000000</td>\n",
       "      <td>0.500000</td>\n",
       "      <td>0.000000</td>\n",
       "      <td>0.000000</td>\n",
       "      <td>0.300000</td>\n",
       "      <td>12.375000</td>\n",
       "      <td>2.500000</td>\n",
       "    </tr>\n",
       "    <tr>\n",
       "      <th>50%</th>\n",
       "      <td>2.000000</td>\n",
       "      <td>1.000000</td>\n",
       "      <td>1.500000</td>\n",
       "      <td>1.000000</td>\n",
       "      <td>162.000000</td>\n",
       "      <td>163.000000</td>\n",
       "      <td>1.000000</td>\n",
       "      <td>10.000000</td>\n",
       "      <td>1.000000</td>\n",
       "      <td>0.500000</td>\n",
       "      <td>2.000000</td>\n",
       "      <td>0.000000</td>\n",
       "      <td>0.300000</td>\n",
       "      <td>16.300000</td>\n",
       "      <td>2.500000</td>\n",
       "    </tr>\n",
       "    <tr>\n",
       "      <th>75%</th>\n",
       "      <td>2.000000</td>\n",
       "      <td>2.000000</td>\n",
       "      <td>2.760000</td>\n",
       "      <td>1.000000</td>\n",
       "      <td>234.000000</td>\n",
       "      <td>236.000000</td>\n",
       "      <td>2.000000</td>\n",
       "      <td>16.000000</td>\n",
       "      <td>3.500000</td>\n",
       "      <td>0.500000</td>\n",
       "      <td>3.250000</td>\n",
       "      <td>0.000000</td>\n",
       "      <td>0.300000</td>\n",
       "      <td>22.880000</td>\n",
       "      <td>2.500000</td>\n",
       "    </tr>\n",
       "    <tr>\n",
       "      <th>max</th>\n",
       "      <td>2.000000</td>\n",
       "      <td>6.000000</td>\n",
       "      <td>38.110000</td>\n",
       "      <td>5.000000</td>\n",
       "      <td>265.000000</td>\n",
       "      <td>265.000000</td>\n",
       "      <td>4.000000</td>\n",
       "      <td>176.000000</td>\n",
       "      <td>7.000000</td>\n",
       "      <td>0.500000</td>\n",
       "      <td>43.000000</td>\n",
       "      <td>612.000000</td>\n",
       "      <td>0.300000</td>\n",
       "      <td>671.800000</td>\n",
       "      <td>2.750000</td>\n",
       "    </tr>\n",
       "  </tbody>\n",
       "</table>\n",
       "</div>"
      ],
      "text/plain": [
       "           vendorid  passenger_count  trip_distance    ratecodeid  \\\n",
       "count  10000.000000     10000.000000   10000.000000  10000.000000   \n",
       "mean       1.633700         1.497700       3.015250      1.084200   \n",
       "std        0.481817         1.139353       4.148063      0.418244   \n",
       "min        1.000000         0.000000       0.000000      1.000000   \n",
       "25%        1.000000         1.000000       0.920000      1.000000   \n",
       "50%        2.000000         1.000000       1.500000      1.000000   \n",
       "75%        2.000000         2.000000       2.760000      1.000000   \n",
       "max        2.000000         6.000000      38.110000      5.000000   \n",
       "\n",
       "       pulocationid  dolocationid  payment_type   fare_amount         extra  \\\n",
       "count  10000.000000  10000.000000  10000.000000  10000.000000  10000.000000   \n",
       "mean     166.900400    166.313500      1.301000     15.106313      1.960235   \n",
       "std       63.791288     68.525953      0.486644     13.954762      1.392940   \n",
       "min        1.000000      1.000000      1.000000    -52.000000     -4.500000   \n",
       "25%      132.000000    132.000000      1.000000      7.000000      1.000000   \n",
       "50%      162.000000    163.000000      1.000000     10.000000      1.000000   \n",
       "75%      234.000000    236.000000      2.000000     16.000000      3.500000   \n",
       "max      265.000000    265.000000      4.000000    176.000000      7.000000   \n",
       "\n",
       "            mta_tax    tip_amount  tolls_amount  improvement_surcharge  \\\n",
       "count  10000.000000  10000.000000  10000.000000           10000.000000   \n",
       "mean       0.492450      2.634494      0.623447               0.298140   \n",
       "std        0.071544      3.409800      6.437507               0.032537   \n",
       "min       -0.500000      0.000000     -6.120000              -0.300000   \n",
       "25%        0.500000      0.000000      0.000000               0.300000   \n",
       "50%        0.500000      2.000000      0.000000               0.300000   \n",
       "75%        0.500000      3.250000      0.000000               0.300000   \n",
       "max        0.500000     43.000000    612.000000               0.300000   \n",
       "\n",
       "       total_amount  congestion_surcharge  \n",
       "count  10000.000000          10000.000000  \n",
       "mean      22.564659              2.282800  \n",
       "std       19.209255              0.720946  \n",
       "min      -65.920000             -2.500000  \n",
       "25%       12.375000              2.500000  \n",
       "50%       16.300000              2.500000  \n",
       "75%       22.880000              2.500000  \n",
       "max      671.800000              2.750000  "
      ]
     },
     "execution_count": 7,
     "metadata": {},
     "output_type": "execute_result"
    }
   ],
   "source": [
    "df_taxi.describe()"
   ]
  },
  {
   "cell_type": "markdown",
   "id": "f5e7b385",
   "metadata": {},
   "source": [
    "## Part 2 - column informations"
   ]
  },
  {
   "cell_type": "markdown",
   "id": "6cfcb38e",
   "metadata": {},
   "source": [
    "### Exercice 5 : access a column\n",
    "\n",
    "Access the column 'extra' by two differents ways"
   ]
  },
  {
   "cell_type": "code",
   "execution_count": 8,
   "id": "5a723636",
   "metadata": {},
   "outputs": [
    {
     "data": {
      "text/plain": [
       "0       1.0\n",
       "1       1.0\n",
       "2       1.0\n",
       "3       1.0\n",
       "4       1.0\n",
       "       ... \n",
       "9995    3.5\n",
       "9996    3.5\n",
       "9997    1.0\n",
       "9998    1.0\n",
       "9999    3.5\n",
       "Name: extra, Length: 10000, dtype: float64"
      ]
     },
     "execution_count": 8,
     "metadata": {},
     "output_type": "execute_result"
    }
   ],
   "source": [
    "df_taxi.extra"
   ]
  },
  {
   "cell_type": "code",
   "execution_count": 9,
   "id": "db24b635",
   "metadata": {},
   "outputs": [
    {
     "data": {
      "text/plain": [
       "0       1.0\n",
       "1       1.0\n",
       "2       1.0\n",
       "3       1.0\n",
       "4       1.0\n",
       "       ... \n",
       "9995    3.5\n",
       "9996    3.5\n",
       "9997    1.0\n",
       "9998    1.0\n",
       "9999    3.5\n",
       "Name: extra, Length: 10000, dtype: float64"
      ]
     },
     "execution_count": 9,
     "metadata": {},
     "output_type": "execute_result"
    }
   ],
   "source": [
    "df_taxi['extra']"
   ]
  },
  {
   "cell_type": "markdown",
   "id": "83cc9af3",
   "metadata": {},
   "source": [
    "### Exercice 6 : maximum of column\n",
    "\n",
    "What is the maximum of the column trip_distance ? "
   ]
  },
  {
   "cell_type": "code",
   "execution_count": 10,
   "id": "073765ea",
   "metadata": {},
   "outputs": [
    {
     "data": {
      "text/plain": [
       "38.11"
      ]
     },
     "execution_count": 10,
     "metadata": {},
     "output_type": "execute_result"
    }
   ],
   "source": [
    "df_taxi['trip_distance'].max()"
   ]
  },
  {
   "cell_type": "markdown",
   "id": "482febe1",
   "metadata": {},
   "source": [
    "### Exercice 7 : \n",
    "\n",
    "What is the minimum of the column trip_distance ? "
   ]
  },
  {
   "cell_type": "code",
   "execution_count": 11,
   "id": "580ca7f8",
   "metadata": {},
   "outputs": [
    {
     "data": {
      "text/plain": [
       "0.0"
      ]
     },
     "execution_count": 11,
     "metadata": {},
     "output_type": "execute_result"
    }
   ],
   "source": [
    "df_taxi['trip_distance'].min()"
   ]
  },
  {
   "cell_type": "markdown",
   "id": "58a95837",
   "metadata": {},
   "source": [
    "### Exercice 8 :\n",
    "\n",
    "How many differents vendorid is there ? What is the most common value for vendorid ? This can be answered with one function call"
   ]
  },
  {
   "cell_type": "code",
   "execution_count": 12,
   "id": "324369f8",
   "metadata": {},
   "outputs": [
    {
     "data": {
      "text/plain": [
       "2    6337\n",
       "1    3663\n",
       "Name: vendorid, dtype: int64"
      ]
     },
     "execution_count": 12,
     "metadata": {},
     "output_type": "execute_result"
    }
   ],
   "source": [
    "df_taxi['vendorid'].value_counts()"
   ]
  },
  {
   "cell_type": "markdown",
   "id": "1b4c3c53",
   "metadata": {},
   "source": [
    "### Exercice 9 :\n",
    "\n",
    "Draw an histogram that shows the distribution of `fare_amount`"
   ]
  },
  {
   "cell_type": "code",
   "execution_count": 13,
   "id": "256fc873",
   "metadata": {},
   "outputs": [
    {
     "data": {
      "text/plain": [
       "<AxesSubplot:>"
      ]
     },
     "execution_count": 13,
     "metadata": {},
     "output_type": "execute_result"
    },
    {
     "data": {
      "image/png": "[encoded data removed]",
      "text/plain": [
       "<Figure size 432x288 with 1 Axes>"
      ]
     },
     "metadata": {
      "needs_background": "light"
     },
     "output_type": "display_data"
    }
   ],
   "source": [
    "df_taxi['fare_amount'].hist()"
   ]
  },
  {
   "cell_type": "markdown",
   "id": "6e54d256",
   "metadata": {},
   "source": [
    "## Part 3 : manipulation between columns"
   ]
  },
  {
   "cell_type": "markdown",
   "id": "2b144f37",
   "metadata": {},
   "source": [
    "### Exercice 10 :\n",
    "\n",
    "Create a column `total_by_passenger` that is equal to the `total_amount` divided by `passenger_count`"
   ]
  },
  {
   "cell_type": "code",
   "execution_count": 14,
   "id": "9900407a",
   "metadata": {},
   "outputs": [],
   "source": [
    "df_taxi['total_by_passenger'] = df_taxi['total_amount'] / df_taxi['passenger_count']"
   ]
  },
  {
   "cell_type": "markdown",
   "id": "06eb4cb2",
   "metadata": {},
   "source": [
    "### Exercice 11 :\n",
    "\n",
    "What is the standard deviation of the column `total_by_passenger` ? Why is that ?"
   ]
  },
  {
   "cell_type": "code",
   "execution_count": 15,
   "id": "77952783",
   "metadata": {},
   "outputs": [],
   "source": [
    "# std is NaN (not a number) because there are some 0 in the passenger_count column\n",
    "# so there are some infinite in the column total_by_passenger"
   ]
  },
  {
   "cell_type": "markdown",
   "id": "534f746f",
   "metadata": {},
   "source": [
    "### Exercice 12 :\n",
    "\n",
    "Create a column `delta_amount` that is equal to the difference between the `total_amount` and the `tip_amount`  "
   ]
  },
  {
   "cell_type": "code",
   "execution_count": 16,
   "id": "712dbd96",
   "metadata": {},
   "outputs": [],
   "source": [
    "df_taxi['delta_amount'] = df_taxi['total_amount'] - df_taxi['tip_amount']"
   ]
  },
  {
   "cell_type": "markdown",
   "id": "72b2af9b",
   "metadata": {},
   "source": [
    "### Exercice 13 : little bit trickier\n",
    "\n",
    "Create a column `max_tip_toll` that is the maximum of the columns `tolls_amount` and `tip_amount`"
   ]
  },
  {
   "cell_type": "code",
   "execution_count": 17,
   "id": "30974c98",
   "metadata": {},
   "outputs": [],
   "source": [
    "df_taxi['max_tip_toll'] = df_taxi[['tip_amount', 'tolls_amount']].max(axis=1)"
   ]
  },
  {
   "cell_type": "code",
   "execution_count": 18,
   "id": "c2ca1365",
   "metadata": {},
   "outputs": [
    {
     "data": {
      "text/html": [
       "<div>\n",
       "<style scoped>\n",
       "    .dataframe tbody tr th:only-of-type {\n",
       "        vertical-align: middle;\n",
       "    }\n",
       "\n",
       "    .dataframe tbody tr th {\n",
       "        vertical-align: top;\n",
       "    }\n",
       "\n",
       "    .dataframe thead th {\n",
       "        text-align: right;\n",
       "    }\n",
       "</style>\n",
       "<table border=\"1\" class=\"dataframe\">\n",
       "  <thead>\n",
       "    <tr style=\"text-align: right;\">\n",
       "      <th></th>\n",
       "      <th>tip_amount</th>\n",
       "      <th>tolls_amount</th>\n",
       "      <th>max_tip_toll</th>\n",
       "    </tr>\n",
       "  </thead>\n",
       "  <tbody>\n",
       "    <tr>\n",
       "      <th>0</th>\n",
       "      <td>7.98</td>\n",
       "      <td>6.12</td>\n",
       "      <td>7.98</td>\n",
       "    </tr>\n",
       "    <tr>\n",
       "      <th>1</th>\n",
       "      <td>0.00</td>\n",
       "      <td>0.00</td>\n",
       "      <td>0.00</td>\n",
       "    </tr>\n",
       "    <tr>\n",
       "      <th>2</th>\n",
       "      <td>2.00</td>\n",
       "      <td>0.00</td>\n",
       "      <td>2.00</td>\n",
       "    </tr>\n",
       "    <tr>\n",
       "      <th>3</th>\n",
       "      <td>4.32</td>\n",
       "      <td>0.00</td>\n",
       "      <td>4.32</td>\n",
       "    </tr>\n",
       "    <tr>\n",
       "      <th>4</th>\n",
       "      <td>0.50</td>\n",
       "      <td>0.00</td>\n",
       "      <td>0.50</td>\n",
       "    </tr>\n",
       "  </tbody>\n",
       "</table>\n",
       "</div>"
      ],
      "text/plain": [
       "   tip_amount  tolls_amount  max_tip_toll\n",
       "0        7.98          6.12          7.98\n",
       "1        0.00          0.00          0.00\n",
       "2        2.00          0.00          2.00\n",
       "3        4.32          0.00          4.32\n",
       "4        0.50          0.00          0.50"
      ]
     },
     "execution_count": 18,
     "metadata": {},
     "output_type": "execute_result"
    }
   ],
   "source": [
    "df_taxi[['tip_amount', 'tolls_amount', 'max_tip_toll']].head(5)"
   ]
  },
  {
   "cell_type": "markdown",
   "id": "f8efaf29",
   "metadata": {},
   "source": [
    "## Part 4 : part of DataFrame extraction"
   ]
  },
  {
   "cell_type": "markdown",
   "id": "70213e84",
   "metadata": {},
   "source": [
    "### Exercice 14 :\n",
    "\n",
    "Extract a view on the Dataframe with the columns 'tpep_pickup_datetime', 'tpep_dropoff_datetime' and 'trip_distance'"
   ]
  },
  {
   "cell_type": "code",
   "execution_count": 19,
   "id": "e3c04d6c",
   "metadata": {},
   "outputs": [],
   "source": [
    "df_taxi_view = df_taxi[['tpep_pickup_datetime', 'tpep_dropoff_datetime', 'trip_distance']]"
   ]
  },
  {
   "cell_type": "markdown",
   "id": "f81c583d",
   "metadata": {},
   "source": [
    "### Exercice 15 :\n",
    "\n",
    "Extract a Dataframe with first 5000 rows"
   ]
  },
  {
   "cell_type": "code",
   "execution_count": 20,
   "id": "360f0ef3",
   "metadata": {},
   "outputs": [
    {
     "data": {
      "text/html": [
       "<div>\n",
       "<style scoped>\n",
       "    .dataframe tbody tr th:only-of-type {\n",
       "        vertical-align: middle;\n",
       "    }\n",
       "\n",
       "    .dataframe tbody tr th {\n",
       "        vertical-align: top;\n",
       "    }\n",
       "\n",
       "    .dataframe thead th {\n",
       "        text-align: right;\n",
       "    }\n",
       "</style>\n",
       "<table border=\"1\" class=\"dataframe\">\n",
       "  <thead>\n",
       "    <tr style=\"text-align: right;\">\n",
       "      <th></th>\n",
       "      <th>vendorid</th>\n",
       "      <th>tpep_pickup_datetime</th>\n",
       "      <th>tpep_dropoff_datetime</th>\n",
       "      <th>passenger_count</th>\n",
       "      <th>trip_distance</th>\n",
       "      <th>ratecodeid</th>\n",
       "      <th>store_and_fwd_flag</th>\n",
       "      <th>pulocationid</th>\n",
       "      <th>dolocationid</th>\n",
       "      <th>payment_type</th>\n",
       "      <th>...</th>\n",
       "      <th>extra</th>\n",
       "      <th>mta_tax</th>\n",
       "      <th>tip_amount</th>\n",
       "      <th>tolls_amount</th>\n",
       "      <th>improvement_surcharge</th>\n",
       "      <th>total_amount</th>\n",
       "      <th>congestion_surcharge</th>\n",
       "      <th>total_by_passenger</th>\n",
       "      <th>delta_amount</th>\n",
       "      <th>max_tip_toll</th>\n",
       "    </tr>\n",
       "  </thead>\n",
       "  <tbody>\n",
       "    <tr>\n",
       "      <th>0</th>\n",
       "      <td>2</td>\n",
       "      <td>2019-10-23T16:39:42.000</td>\n",
       "      <td>2019-10-23T17:14:10.000</td>\n",
       "      <td>1</td>\n",
       "      <td>7.93</td>\n",
       "      <td>1</td>\n",
       "      <td>N</td>\n",
       "      <td>138</td>\n",
       "      <td>170</td>\n",
       "      <td>1</td>\n",
       "      <td>...</td>\n",
       "      <td>1.0</td>\n",
       "      <td>0.5</td>\n",
       "      <td>7.98</td>\n",
       "      <td>6.12</td>\n",
       "      <td>0.3</td>\n",
       "      <td>47.90</td>\n",
       "      <td>2.5</td>\n",
       "      <td>47.90</td>\n",
       "      <td>39.92</td>\n",
       "      <td>7.98</td>\n",
       "    </tr>\n",
       "    <tr>\n",
       "      <th>1</th>\n",
       "      <td>1</td>\n",
       "      <td>2019-10-23T16:32:08.000</td>\n",
       "      <td>2019-10-23T16:45:26.000</td>\n",
       "      <td>1</td>\n",
       "      <td>2.00</td>\n",
       "      <td>1</td>\n",
       "      <td>N</td>\n",
       "      <td>11</td>\n",
       "      <td>26</td>\n",
       "      <td>1</td>\n",
       "      <td>...</td>\n",
       "      <td>1.0</td>\n",
       "      <td>0.5</td>\n",
       "      <td>0.00</td>\n",
       "      <td>0.00</td>\n",
       "      <td>0.3</td>\n",
       "      <td>12.30</td>\n",
       "      <td>0.0</td>\n",
       "      <td>12.30</td>\n",
       "      <td>12.30</td>\n",
       "      <td>0.00</td>\n",
       "    </tr>\n",
       "    <tr>\n",
       "      <th>2</th>\n",
       "      <td>2</td>\n",
       "      <td>2019-10-23T16:08:44.000</td>\n",
       "      <td>2019-10-23T16:21:11.000</td>\n",
       "      <td>1</td>\n",
       "      <td>1.36</td>\n",
       "      <td>1</td>\n",
       "      <td>N</td>\n",
       "      <td>163</td>\n",
       "      <td>162</td>\n",
       "      <td>1</td>\n",
       "      <td>...</td>\n",
       "      <td>1.0</td>\n",
       "      <td>0.5</td>\n",
       "      <td>2.00</td>\n",
       "      <td>0.00</td>\n",
       "      <td>0.3</td>\n",
       "      <td>15.80</td>\n",
       "      <td>2.5</td>\n",
       "      <td>15.80</td>\n",
       "      <td>13.80</td>\n",
       "      <td>2.00</td>\n",
       "    </tr>\n",
       "    <tr>\n",
       "      <th>3</th>\n",
       "      <td>2</td>\n",
       "      <td>2019-10-23T16:22:44.000</td>\n",
       "      <td>2019-10-23T16:43:26.000</td>\n",
       "      <td>1</td>\n",
       "      <td>1.00</td>\n",
       "      <td>1</td>\n",
       "      <td>N</td>\n",
       "      <td>170</td>\n",
       "      <td>163</td>\n",
       "      <td>1</td>\n",
       "      <td>...</td>\n",
       "      <td>1.0</td>\n",
       "      <td>0.5</td>\n",
       "      <td>4.32</td>\n",
       "      <td>0.00</td>\n",
       "      <td>0.3</td>\n",
       "      <td>21.62</td>\n",
       "      <td>2.5</td>\n",
       "      <td>21.62</td>\n",
       "      <td>17.30</td>\n",
       "      <td>4.32</td>\n",
       "    </tr>\n",
       "    <tr>\n",
       "      <th>4</th>\n",
       "      <td>2</td>\n",
       "      <td>2019-10-23T16:45:11.000</td>\n",
       "      <td>2019-10-23T16:58:49.000</td>\n",
       "      <td>1</td>\n",
       "      <td>1.96</td>\n",
       "      <td>1</td>\n",
       "      <td>N</td>\n",
       "      <td>163</td>\n",
       "      <td>236</td>\n",
       "      <td>1</td>\n",
       "      <td>...</td>\n",
       "      <td>1.0</td>\n",
       "      <td>0.5</td>\n",
       "      <td>0.50</td>\n",
       "      <td>0.00</td>\n",
       "      <td>0.3</td>\n",
       "      <td>15.30</td>\n",
       "      <td>2.5</td>\n",
       "      <td>15.30</td>\n",
       "      <td>14.80</td>\n",
       "      <td>0.50</td>\n",
       "    </tr>\n",
       "    <tr>\n",
       "      <th>...</th>\n",
       "      <td>...</td>\n",
       "      <td>...</td>\n",
       "      <td>...</td>\n",
       "      <td>...</td>\n",
       "      <td>...</td>\n",
       "      <td>...</td>\n",
       "      <td>...</td>\n",
       "      <td>...</td>\n",
       "      <td>...</td>\n",
       "      <td>...</td>\n",
       "      <td>...</td>\n",
       "      <td>...</td>\n",
       "      <td>...</td>\n",
       "      <td>...</td>\n",
       "      <td>...</td>\n",
       "      <td>...</td>\n",
       "      <td>...</td>\n",
       "      <td>...</td>\n",
       "      <td>...</td>\n",
       "      <td>...</td>\n",
       "      <td>...</td>\n",
       "    </tr>\n",
       "    <tr>\n",
       "      <th>4995</th>\n",
       "      <td>1</td>\n",
       "      <td>2019-10-23T16:15:45.000</td>\n",
       "      <td>2019-10-23T16:22:41.000</td>\n",
       "      <td>1</td>\n",
       "      <td>0.40</td>\n",
       "      <td>1</td>\n",
       "      <td>N</td>\n",
       "      <td>164</td>\n",
       "      <td>161</td>\n",
       "      <td>1</td>\n",
       "      <td>...</td>\n",
       "      <td>3.5</td>\n",
       "      <td>0.5</td>\n",
       "      <td>2.90</td>\n",
       "      <td>0.00</td>\n",
       "      <td>0.3</td>\n",
       "      <td>12.70</td>\n",
       "      <td>2.5</td>\n",
       "      <td>12.70</td>\n",
       "      <td>9.80</td>\n",
       "      <td>2.90</td>\n",
       "    </tr>\n",
       "    <tr>\n",
       "      <th>4996</th>\n",
       "      <td>1</td>\n",
       "      <td>2019-10-23T16:29:13.000</td>\n",
       "      <td>2019-10-23T16:48:56.000</td>\n",
       "      <td>1</td>\n",
       "      <td>2.60</td>\n",
       "      <td>1</td>\n",
       "      <td>N</td>\n",
       "      <td>161</td>\n",
       "      <td>75</td>\n",
       "      <td>2</td>\n",
       "      <td>...</td>\n",
       "      <td>3.5</td>\n",
       "      <td>0.5</td>\n",
       "      <td>0.00</td>\n",
       "      <td>0.00</td>\n",
       "      <td>0.3</td>\n",
       "      <td>18.80</td>\n",
       "      <td>2.5</td>\n",
       "      <td>18.80</td>\n",
       "      <td>18.80</td>\n",
       "      <td>0.00</td>\n",
       "    </tr>\n",
       "    <tr>\n",
       "      <th>4997</th>\n",
       "      <td>1</td>\n",
       "      <td>2019-10-23T16:49:42.000</td>\n",
       "      <td>2019-10-23T16:56:18.000</td>\n",
       "      <td>1</td>\n",
       "      <td>1.30</td>\n",
       "      <td>1</td>\n",
       "      <td>N</td>\n",
       "      <td>75</td>\n",
       "      <td>74</td>\n",
       "      <td>1</td>\n",
       "      <td>...</td>\n",
       "      <td>1.0</td>\n",
       "      <td>0.5</td>\n",
       "      <td>2.45</td>\n",
       "      <td>0.00</td>\n",
       "      <td>0.3</td>\n",
       "      <td>10.75</td>\n",
       "      <td>0.0</td>\n",
       "      <td>10.75</td>\n",
       "      <td>8.30</td>\n",
       "      <td>2.45</td>\n",
       "    </tr>\n",
       "    <tr>\n",
       "      <th>4998</th>\n",
       "      <td>1</td>\n",
       "      <td>2019-10-23T16:29:58.000</td>\n",
       "      <td>2019-10-23T17:18:36.000</td>\n",
       "      <td>1</td>\n",
       "      <td>7.50</td>\n",
       "      <td>1</td>\n",
       "      <td>N</td>\n",
       "      <td>138</td>\n",
       "      <td>262</td>\n",
       "      <td>1</td>\n",
       "      <td>...</td>\n",
       "      <td>3.5</td>\n",
       "      <td>0.5</td>\n",
       "      <td>9.18</td>\n",
       "      <td>6.12</td>\n",
       "      <td>0.3</td>\n",
       "      <td>55.10</td>\n",
       "      <td>2.5</td>\n",
       "      <td>55.10</td>\n",
       "      <td>45.92</td>\n",
       "      <td>9.18</td>\n",
       "    </tr>\n",
       "    <tr>\n",
       "      <th>4999</th>\n",
       "      <td>2</td>\n",
       "      <td>2019-10-23T16:27:02.000</td>\n",
       "      <td>2019-10-23T16:45:30.000</td>\n",
       "      <td>2</td>\n",
       "      <td>2.16</td>\n",
       "      <td>1</td>\n",
       "      <td>N</td>\n",
       "      <td>234</td>\n",
       "      <td>45</td>\n",
       "      <td>2</td>\n",
       "      <td>...</td>\n",
       "      <td>1.0</td>\n",
       "      <td>0.5</td>\n",
       "      <td>0.00</td>\n",
       "      <td>0.00</td>\n",
       "      <td>0.3</td>\n",
       "      <td>16.80</td>\n",
       "      <td>2.5</td>\n",
       "      <td>8.40</td>\n",
       "      <td>16.80</td>\n",
       "      <td>0.00</td>\n",
       "    </tr>\n",
       "  </tbody>\n",
       "</table>\n",
       "<p>5000 rows × 21 columns</p>\n",
       "</div>"
      ],
      "text/plain": [
       "      vendorid     tpep_pickup_datetime    tpep_dropoff_datetime  \\\n",
       "0            2  2019-10-23T16:39:42.000  2019-10-23T17:14:10.000   \n",
       "1            1  2019-10-23T16:32:08.000  2019-10-23T16:45:26.000   \n",
       "2            2  2019-10-23T16:08:44.000  2019-10-23T16:21:11.000   \n",
       "3            2  2019-10-23T16:22:44.000  2019-10-23T16:43:26.000   \n",
       "4            2  2019-10-23T16:45:11.000  2019-10-23T16:58:49.000   \n",
       "...        ...                      ...                      ...   \n",
       "4995         1  2019-10-23T16:15:45.000  2019-10-23T16:22:41.000   \n",
       "4996         1  2019-10-23T16:29:13.000  2019-10-23T16:48:56.000   \n",
       "4997         1  2019-10-23T16:49:42.000  2019-10-23T16:56:18.000   \n",
       "4998         1  2019-10-23T16:29:58.000  2019-10-23T17:18:36.000   \n",
       "4999         2  2019-10-23T16:27:02.000  2019-10-23T16:45:30.000   \n",
       "\n",
       "      passenger_count  trip_distance  ratecodeid store_and_fwd_flag  \\\n",
       "0                   1           7.93           1                  N   \n",
       "1                   1           2.00           1                  N   \n",
       "2                   1           1.36           1                  N   \n",
       "3                   1           1.00           1                  N   \n",
       "4                   1           1.96           1                  N   \n",
       "...               ...            ...         ...                ...   \n",
       "4995                1           0.40           1                  N   \n",
       "4996                1           2.60           1                  N   \n",
       "4997                1           1.30           1                  N   \n",
       "4998                1           7.50           1                  N   \n",
       "4999                2           2.16           1                  N   \n",
       "\n",
       "      pulocationid  dolocationid  payment_type  ...  extra  mta_tax  \\\n",
       "0              138           170             1  ...    1.0      0.5   \n",
       "1               11            26             1  ...    1.0      0.5   \n",
       "2              163           162             1  ...    1.0      0.5   \n",
       "3              170           163             1  ...    1.0      0.5   \n",
       "4              163           236             1  ...    1.0      0.5   \n",
       "...            ...           ...           ...  ...    ...      ...   \n",
       "4995           164           161             1  ...    3.5      0.5   \n",
       "4996           161            75             2  ...    3.5      0.5   \n",
       "4997            75            74             1  ...    1.0      0.5   \n",
       "4998           138           262             1  ...    3.5      0.5   \n",
       "4999           234            45             2  ...    1.0      0.5   \n",
       "\n",
       "      tip_amount  tolls_amount  improvement_surcharge  total_amount  \\\n",
       "0           7.98          6.12                    0.3         47.90   \n",
       "1           0.00          0.00                    0.3         12.30   \n",
       "2           2.00          0.00                    0.3         15.80   \n",
       "3           4.32          0.00                    0.3         21.62   \n",
       "4           0.50          0.00                    0.3         15.30   \n",
       "...          ...           ...                    ...           ...   \n",
       "4995        2.90          0.00                    0.3         12.70   \n",
       "4996        0.00          0.00                    0.3         18.80   \n",
       "4997        2.45          0.00                    0.3         10.75   \n",
       "4998        9.18          6.12                    0.3         55.10   \n",
       "4999        0.00          0.00                    0.3         16.80   \n",
       "\n",
       "      congestion_surcharge  total_by_passenger  delta_amount  max_tip_toll  \n",
       "0                      2.5               47.90         39.92          7.98  \n",
       "1                      0.0               12.30         12.30          0.00  \n",
       "2                      2.5               15.80         13.80          2.00  \n",
       "3                      2.5               21.62         17.30          4.32  \n",
       "4                      2.5               15.30         14.80          0.50  \n",
       "...                    ...                 ...           ...           ...  \n",
       "4995                   2.5               12.70          9.80          2.90  \n",
       "4996                   2.5               18.80         18.80          0.00  \n",
       "4997                   0.0               10.75          8.30          2.45  \n",
       "4998                   2.5               55.10         45.92          9.18  \n",
       "4999                   2.5                8.40         16.80          0.00  \n",
       "\n",
       "[5000 rows x 21 columns]"
      ]
     },
     "execution_count": 20,
     "metadata": {},
     "output_type": "execute_result"
    }
   ],
   "source": [
    "df_taxi.iloc[:5000, :]"
   ]
  },
  {
   "cell_type": "markdown",
   "id": "a044062f",
   "metadata": {},
   "source": [
    "### Exercice 16 :\n",
    "\n",
    "Extract a Dataframe with the first 2000 rows and the cols `tip_amount`, `tolls_amount` and `total_amount`"
   ]
  },
  {
   "cell_type": "code",
   "execution_count": 21,
   "id": "e52977fb",
   "metadata": {},
   "outputs": [
    {
     "data": {
      "text/html": [
       "<div>\n",
       "<style scoped>\n",
       "    .dataframe tbody tr th:only-of-type {\n",
       "        vertical-align: middle;\n",
       "    }\n",
       "\n",
       "    .dataframe tbody tr th {\n",
       "        vertical-align: top;\n",
       "    }\n",
       "\n",
       "    .dataframe thead th {\n",
       "        text-align: right;\n",
       "    }\n",
       "</style>\n",
       "<table border=\"1\" class=\"dataframe\">\n",
       "  <thead>\n",
       "    <tr style=\"text-align: right;\">\n",
       "      <th></th>\n",
       "      <th>tip_amount</th>\n",
       "      <th>tolls_amount</th>\n",
       "      <th>total_amount</th>\n",
       "    </tr>\n",
       "  </thead>\n",
       "  <tbody>\n",
       "    <tr>\n",
       "      <th>0</th>\n",
       "      <td>7.98</td>\n",
       "      <td>6.12</td>\n",
       "      <td>47.90</td>\n",
       "    </tr>\n",
       "    <tr>\n",
       "      <th>1</th>\n",
       "      <td>0.00</td>\n",
       "      <td>0.00</td>\n",
       "      <td>12.30</td>\n",
       "    </tr>\n",
       "    <tr>\n",
       "      <th>2</th>\n",
       "      <td>2.00</td>\n",
       "      <td>0.00</td>\n",
       "      <td>15.80</td>\n",
       "    </tr>\n",
       "    <tr>\n",
       "      <th>3</th>\n",
       "      <td>4.32</td>\n",
       "      <td>0.00</td>\n",
       "      <td>21.62</td>\n",
       "    </tr>\n",
       "    <tr>\n",
       "      <th>4</th>\n",
       "      <td>0.50</td>\n",
       "      <td>0.00</td>\n",
       "      <td>15.30</td>\n",
       "    </tr>\n",
       "    <tr>\n",
       "      <th>...</th>\n",
       "      <td>...</td>\n",
       "      <td>...</td>\n",
       "      <td>...</td>\n",
       "    </tr>\n",
       "    <tr>\n",
       "      <th>1996</th>\n",
       "      <td>1.38</td>\n",
       "      <td>0.00</td>\n",
       "      <td>15.18</td>\n",
       "    </tr>\n",
       "    <tr>\n",
       "      <th>1997</th>\n",
       "      <td>2.00</td>\n",
       "      <td>0.00</td>\n",
       "      <td>12.30</td>\n",
       "    </tr>\n",
       "    <tr>\n",
       "      <th>1998</th>\n",
       "      <td>2.25</td>\n",
       "      <td>0.00</td>\n",
       "      <td>13.55</td>\n",
       "    </tr>\n",
       "    <tr>\n",
       "      <th>1999</th>\n",
       "      <td>0.00</td>\n",
       "      <td>0.00</td>\n",
       "      <td>8.80</td>\n",
       "    </tr>\n",
       "    <tr>\n",
       "      <th>2000</th>\n",
       "      <td>2.65</td>\n",
       "      <td>0.00</td>\n",
       "      <td>15.95</td>\n",
       "    </tr>\n",
       "  </tbody>\n",
       "</table>\n",
       "<p>2001 rows × 3 columns</p>\n",
       "</div>"
      ],
      "text/plain": [
       "      tip_amount  tolls_amount  total_amount\n",
       "0           7.98          6.12         47.90\n",
       "1           0.00          0.00         12.30\n",
       "2           2.00          0.00         15.80\n",
       "3           4.32          0.00         21.62\n",
       "4           0.50          0.00         15.30\n",
       "...          ...           ...           ...\n",
       "1996        1.38          0.00         15.18\n",
       "1997        2.00          0.00         12.30\n",
       "1998        2.25          0.00         13.55\n",
       "1999        0.00          0.00          8.80\n",
       "2000        2.65          0.00         15.95\n",
       "\n",
       "[2001 rows x 3 columns]"
      ]
     },
     "execution_count": 21,
     "metadata": {},
     "output_type": "execute_result"
    }
   ],
   "source": [
    "df_taxi.loc[:2000, ['tip_amount', 'tolls_amount', 'total_amount']]"
   ]
  },
  {
   "cell_type": "markdown",
   "id": "448e84f5",
   "metadata": {},
   "source": [
    "## Bonus"
   ]
  },
  {
   "cell_type": "markdown",
   "id": "44002887",
   "metadata": {},
   "source": [
    "### Exercice 21 : fast and furious\n",
    "\n",
    "Who is the fatest driver, in average ?"
   ]
  },
  {
   "cell_type": "code",
   "execution_count": 22,
   "id": "005dba82",
   "metadata": {},
   "outputs": [],
   "source": [
    "df_taxi['speed'] = df_taxi['trip_distance'] * 3600 / ( \n",
    "    pd.to_datetime(df_taxi['tpep_dropoff_datetime']) - pd.to_datetime(df_taxi['tpep_pickup_datetime'])\n",
    ").apply(lambda x: x.total_seconds()) "
   ]
  },
  {
   "cell_type": "code",
   "execution_count": 23,
   "id": "cacbcdd7",
   "metadata": {},
   "outputs": [
    {
     "data": {
      "text/plain": [
       "9.228336472138746"
      ]
     },
     "execution_count": 23,
     "metadata": {},
     "output_type": "execute_result"
    }
   ],
   "source": [
    "df_taxi['speed'][df_taxi['vendorid'] == 2].mean()"
   ]
  },
  {
   "cell_type": "code",
   "execution_count": 24,
   "id": "0cc47ce8",
   "metadata": {},
   "outputs": [
    {
     "data": {
      "text/plain": [
       "9.56128717688313"
      ]
     },
     "execution_count": 24,
     "metadata": {},
     "output_type": "execute_result"
    }
   ],
   "source": [
    "df_taxi['speed'][df_taxi['vendorid'] == 1].mean()"
   ]
  },
  {
   "cell_type": "code",
   "execution_count": 25,
   "id": "f66e9549",
   "metadata": {},
   "outputs": [],
   "source": [
    "# It is the driver of id 1 !"
   ]
  }
 ],
 "metadata": {
  "kernelspec": {
   "display_name": "Python 3 (ipykernel)",
   "language": "python",
   "name": "python3"
  },
  "language_info": {
   "codemirror_mode": {
    "name": "ipython",
    "version": 3
   },
   "file_extension": ".py",
   "mimetype": "text/x-python",
   "name": "python",
   "nbconvert_exporter": "python",
   "pygments_lexer": "ipython3",
   "version": "3.9.7"
  }
 },
 "nbformat": 4,
 "nbformat_minor": 5
}
