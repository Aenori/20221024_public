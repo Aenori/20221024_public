{
 "cells": [
  {
   "cell_type": "markdown",
   "id": "b886672c",
   "metadata": {},
   "source": [
    "Let's compare 3 methods to make sum of array (with array containing elements of 1 to 10000)"
   ]
  },
  {
   "cell_type": "code",
   "execution_count": null,
   "id": "3ca19911",
   "metadata": {},
   "outputs": [],
   "source": [
    "import numpy as np"
   ]
  },
  {
   "cell_type": "code",
   "execution_count": null,
   "id": "a702257e",
   "metadata": {},
   "outputs": [],
   "source": [
    "import numpy as np\n",
    "\n",
    "def user_defined_sum(l):\n",
    "    res = 0\n",
    "    for x in l:\n",
    "        res += x\n",
    "        \n",
    "    return res\n",
    "\n",
    "numpy_list_10000 = np.random.randint(10000, size=10000, dtype=np.int32)\n",
    "python_list_10000 = list(numpy_list_10000)\n",
    "\n",
    "print(f\"user_defined_sum : {user_defined_sum(python_list_10000)}\")\n",
    "print(f\"python sum :       {sum(python_list_10000)}\")\n",
    "print(f\"numpy sum :        {numpy_list_10000.sum()}\")"
   ]
  },
  {
   "cell_type": "markdown",
   "id": "b0e98936",
   "metadata": {},
   "source": [
    "The three methods produce the same result, great ! But do they have the same efficiency ?\n",
    "\n",
    "(NB : %timeit is a procedure to ask python to make nice performance calculation)"
   ]
  },
  {
   "cell_type": "code",
   "execution_count": null,
   "id": "ec215a1a",
   "metadata": {},
   "outputs": [],
   "source": [
    "%timeit user_defined_sum(python_list_10000)\n",
    "%timeit sum(python_list_10000)\n",
    "%timeit numpy_list_10000.sum()"
   ]
  },
  {
   "cell_type": "markdown",
   "id": "e08d66e7",
   "metadata": {},
   "source": [
    "Oh, the performance are not the same at all !"
   ]
  }
 ],
 "metadata": {
  "kernelspec": {
   "display_name": "Python 3 (ipykernel)",
   "language": "python",
   "name": "python3"
  },
  "language_info": {
   "codemirror_mode": {
    "name": "ipython",
    "version": 3
   },
   "file_extension": ".py",
   "mimetype": "text/x-python",
   "name": "python",
   "nbconvert_exporter": "python",
   "pygments_lexer": "ipython3",
   "version": "3.9.7"
  }
 },
 "nbformat": 4,
 "nbformat_minor": 5
}
