{
 "cells": [
  {
   "cell_type": "code",
   "execution_count": null,
   "id": "4f8c9276",
   "metadata": {},
   "outputs": [],
   "source": [
    "import urllib.request\n",
    "# Please execute this at the start of the notebook\n",
    "\n",
    "base_url = 'https://raw.githubusercontent.com/Aenori/PythonDataAnalysis_public/main/dataset'\n",
    "helper_file = 'dataset/SalesReport.pdf'\n",
    "\n",
    "urllib.request.urlretrieve(base_url + helper_file, helper_file)"
   ]
  },
  {
   "cell_type": "code",
   "execution_count": null,
   "id": "849a6d74",
   "metadata": {},
   "outputs": [],
   "source": []
  }
 ],
 "metadata": {
  "kernelspec": {
   "display_name": "Python 3 (ipykernel)",
   "language": "python",
   "name": "python3"
  },
  "language_info": {
   "codemirror_mode": {
    "name": "ipython",
    "version": 3
   },
   "file_extension": ".py",
   "mimetype": "text/x-python",
   "name": "python",
   "nbconvert_exporter": "python",
   "pygments_lexer": "ipython3",
   "version": "3.9.7"
  }
 },
 "nbformat": 4,
 "nbformat_minor": 5
}
