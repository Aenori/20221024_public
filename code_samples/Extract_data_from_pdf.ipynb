{
 "cells": [
  {
   "cell_type": "code",
   "execution_count": 2,
   "id": "59796524",
   "metadata": {},
   "outputs": [
    {
     "data": {
      "text/plain": [
       "('SalesReport.pdf', <http.client.HTTPMessage at 0x7fabf06ee400>)"
      ]
     },
     "execution_count": 2,
     "metadata": {},
     "output_type": "execute_result"
    }
   ],
   "source": [
    "import urllib.request\n",
    "# Please execute this at the start of the notebook\n",
    "\n",
    "base_url = 'https://raw.githubusercontent.com/Aenori/PythonDataAnalysis_public/main/dataset/'\n",
    "helper_file = 'SalesReport.pdf'\n",
    "\n",
    "urllib.request.urlretrieve(base_url + helper_file, helper_file)"
   ]
  },
  {
   "cell_type": "code",
   "execution_count": 3,
   "id": "f95422fa",
   "metadata": {},
   "outputs": [
    {
     "name": "stdout",
     "output_type": "stream",
     "text": [
      "Requirement already satisfied: PyPDF2 in /home/nicolas/anaconda3/lib/python3.9/site-packages (2.11.2)\n",
      "Requirement already satisfied: typing_extensions>=3.10.0.0 in /home/nicolas/anaconda3/lib/python3.9/site-packages (from PyPDF2) (4.3.0)\n",
      "Note: you may need to restart the kernel to use updated packages.\n"
     ]
    }
   ],
   "source": [
    "%pip install PyPDF2"
   ]
  },
  {
   "cell_type": "code",
   "execution_count": 5,
   "id": "553dc14c",
   "metadata": {},
   "outputs": [
    {
     "ename": "PdfReadError",
     "evalue": "Image data is not rectangular",
     "output_type": "error",
     "traceback": [
      "\u001b[0;31m---------------------------------------------------------------------------\u001b[0m",
      "\u001b[0;31mPdfReadError\u001b[0m                              Traceback (most recent call last)",
      "Input \u001b[0;32mIn [5]\u001b[0m, in \u001b[0;36m<cell line: 10>\u001b[0;34m()\u001b[0m\n\u001b[1;32m      7\u001b[0m             f\u001b[38;5;241m.\u001b[39mwrite(img\u001b[38;5;241m.\u001b[39mdata)\n\u001b[1;32m      9\u001b[0m read_pdf \u001b[38;5;241m=\u001b[39m PyPDF2\u001b[38;5;241m.\u001b[39mPdfFileReader(helper_file)\n\u001b[0;32m---> 10\u001b[0m \u001b[43mwrite_all_images_to_file\u001b[49m\u001b[43m(\u001b[49m\u001b[43mread_pdf\u001b[49m\u001b[38;5;241;43m.\u001b[39;49m\u001b[43mpages\u001b[49m\u001b[43m[\u001b[49m\u001b[38;5;241;43m0\u001b[39;49m\u001b[43m]\u001b[49m\u001b[43m)\u001b[49m\n",
      "Input \u001b[0;32mIn [5]\u001b[0m, in \u001b[0;36mwrite_all_images_to_file\u001b[0;34m(page)\u001b[0m\n\u001b[1;32m      3\u001b[0m \u001b[38;5;28;01mdef\u001b[39;00m \u001b[38;5;21mwrite_all_images_to_file\u001b[39m(page):\n\u001b[0;32m----> 4\u001b[0m     \u001b[38;5;28;01mfor\u001b[39;00m img \u001b[38;5;129;01min\u001b[39;00m \u001b[43mpage\u001b[49m\u001b[38;5;241;43m.\u001b[39;49m\u001b[43mimages\u001b[49m:\n\u001b[1;32m      5\u001b[0m         \u001b[38;5;28;01mwith\u001b[39;00m \u001b[38;5;28mopen\u001b[39m(img\u001b[38;5;241m.\u001b[39mname, \u001b[38;5;124m'\u001b[39m\u001b[38;5;124mwb\u001b[39m\u001b[38;5;124m'\u001b[39m) \u001b[38;5;28;01mas\u001b[39;00m f:\n\u001b[1;32m      6\u001b[0m             \u001b[38;5;28mprint\u001b[39m(\u001b[38;5;124mf\u001b[39m\u001b[38;5;124m\"\u001b[39m\u001b[38;5;124mWriting \u001b[39m\u001b[38;5;132;01m{\u001b[39;00mimg\u001b[38;5;241m.\u001b[39mname\u001b[38;5;132;01m}\u001b[39;00m\u001b[38;5;124m to disk\u001b[39m\u001b[38;5;124m\"\u001b[39m)\n",
      "File \u001b[0;32m~/anaconda3/lib/python3.9/site-packages/PyPDF2/_page.py:388\u001b[0m, in \u001b[0;36mPageObject.images\u001b[0;34m(self)\u001b[0m\n\u001b[1;32m    386\u001b[0m \u001b[38;5;28;01mfor\u001b[39;00m obj \u001b[38;5;129;01min\u001b[39;00m x_object:\n\u001b[1;32m    387\u001b[0m     \u001b[38;5;28;01mif\u001b[39;00m x_object[obj][IA\u001b[38;5;241m.\u001b[39mSUBTYPE] \u001b[38;5;241m==\u001b[39m \u001b[38;5;124m\"\u001b[39m\u001b[38;5;124m/Image\u001b[39m\u001b[38;5;124m\"\u001b[39m:\n\u001b[0;32m--> 388\u001b[0m         extension, byte_stream \u001b[38;5;241m=\u001b[39m \u001b[43m_xobj_to_image\u001b[49m\u001b[43m(\u001b[49m\u001b[43mx_object\u001b[49m\u001b[43m[\u001b[49m\u001b[43mobj\u001b[49m\u001b[43m]\u001b[49m\u001b[43m)\u001b[49m\n\u001b[1;32m    389\u001b[0m         \u001b[38;5;28;01mif\u001b[39;00m extension \u001b[38;5;129;01mis\u001b[39;00m \u001b[38;5;129;01mnot\u001b[39;00m \u001b[38;5;28;01mNone\u001b[39;00m:\n\u001b[1;32m    390\u001b[0m             filename \u001b[38;5;241m=\u001b[39m \u001b[38;5;124mf\u001b[39m\u001b[38;5;124m\"\u001b[39m\u001b[38;5;132;01m{\u001b[39;00mobj[\u001b[38;5;241m1\u001b[39m:]\u001b[38;5;132;01m}\u001b[39;00m\u001b[38;5;132;01m{\u001b[39;00mextension\u001b[38;5;132;01m}\u001b[39;00m\u001b[38;5;124m\"\u001b[39m\n",
      "File \u001b[0;32m~/anaconda3/lib/python3.9/site-packages/PyPDF2/filters.py:576\u001b[0m, in \u001b[0;36m_xobj_to_image\u001b[0;34m(x_object_obj)\u001b[0m\n\u001b[1;32m    570\u001b[0m     \u001b[38;5;28;01mraise\u001b[39;00m \u001b[38;5;167;01mImportError\u001b[39;00m(\n\u001b[1;32m    571\u001b[0m         \u001b[38;5;124m\"\u001b[39m\u001b[38;5;124mpillow is required to do image extraction. \u001b[39m\u001b[38;5;124m\"\u001b[39m\n\u001b[1;32m    572\u001b[0m         \u001b[38;5;124m\"\u001b[39m\u001b[38;5;124mIt can be installed via \u001b[39m\u001b[38;5;124m'\u001b[39m\u001b[38;5;124mpip install PyPDF2[image]\u001b[39m\u001b[38;5;124m'\u001b[39m\u001b[38;5;124m\"\u001b[39m\n\u001b[1;32m    573\u001b[0m     )\n\u001b[1;32m    575\u001b[0m size \u001b[38;5;241m=\u001b[39m (x_object_obj[IA\u001b[38;5;241m.\u001b[39mWIDTH], x_object_obj[IA\u001b[38;5;241m.\u001b[39mHEIGHT])\n\u001b[0;32m--> 576\u001b[0m data \u001b[38;5;241m=\u001b[39m \u001b[43mx_object_obj\u001b[49m\u001b[38;5;241;43m.\u001b[39;49m\u001b[43mget_data\u001b[49m\u001b[43m(\u001b[49m\u001b[43m)\u001b[49m  \u001b[38;5;66;03m# type: ignore\u001b[39;00m\n\u001b[1;32m    577\u001b[0m \u001b[38;5;28;01mif\u001b[39;00m (\n\u001b[1;32m    578\u001b[0m     IA\u001b[38;5;241m.\u001b[39mCOLOR_SPACE \u001b[38;5;129;01min\u001b[39;00m x_object_obj\n\u001b[1;32m    579\u001b[0m     \u001b[38;5;129;01mand\u001b[39;00m x_object_obj[IA\u001b[38;5;241m.\u001b[39mCOLOR_SPACE] \u001b[38;5;241m==\u001b[39m ColorSpaces\u001b[38;5;241m.\u001b[39mDEVICE_RGB\n\u001b[1;32m    580\u001b[0m ):\n\u001b[1;32m    581\u001b[0m     \u001b[38;5;66;03m# https://pillow.readthedocs.io/en/stable/handbook/concepts.html#modes\u001b[39;00m\n\u001b[1;32m    582\u001b[0m     mode: Literal[\u001b[38;5;124m\"\u001b[39m\u001b[38;5;124mRGB\u001b[39m\u001b[38;5;124m\"\u001b[39m, \u001b[38;5;124m\"\u001b[39m\u001b[38;5;124mP\u001b[39m\u001b[38;5;124m\"\u001b[39m] \u001b[38;5;241m=\u001b[39m \u001b[38;5;124m\"\u001b[39m\u001b[38;5;124mRGB\u001b[39m\u001b[38;5;124m\"\u001b[39m\n",
      "File \u001b[0;32m~/anaconda3/lib/python3.9/site-packages/PyPDF2/generic/_data_structures.py:660\u001b[0m, in \u001b[0;36mEncodedStreamObject.get_data\u001b[0;34m(self)\u001b[0m\n\u001b[1;32m    656\u001b[0m \u001b[38;5;28;01melse\u001b[39;00m:\n\u001b[1;32m    657\u001b[0m     \u001b[38;5;66;03m# create decoded object\u001b[39;00m\n\u001b[1;32m    658\u001b[0m     decoded \u001b[38;5;241m=\u001b[39m DecodedStreamObject()\n\u001b[0;32m--> 660\u001b[0m     decoded\u001b[38;5;241m.\u001b[39m_data \u001b[38;5;241m=\u001b[39m \u001b[43mdecode_stream_data\u001b[49m\u001b[43m(\u001b[49m\u001b[38;5;28;43mself\u001b[39;49m\u001b[43m)\u001b[49m\n\u001b[1;32m    661\u001b[0m     \u001b[38;5;28;01mfor\u001b[39;00m key, value \u001b[38;5;129;01min\u001b[39;00m \u001b[38;5;28mlist\u001b[39m(\u001b[38;5;28mself\u001b[39m\u001b[38;5;241m.\u001b[39mitems()):\n\u001b[1;32m    662\u001b[0m         \u001b[38;5;28;01mif\u001b[39;00m key \u001b[38;5;129;01mnot\u001b[39;00m \u001b[38;5;129;01min\u001b[39;00m (SA\u001b[38;5;241m.\u001b[39mLENGTH, SA\u001b[38;5;241m.\u001b[39mFILTER, SA\u001b[38;5;241m.\u001b[39mDECODE_PARMS):\n",
      "File \u001b[0;32m~/anaconda3/lib/python3.9/site-packages/PyPDF2/filters.py:525\u001b[0m, in \u001b[0;36mdecode_stream_data\u001b[0;34m(stream)\u001b[0m\n\u001b[1;32m    523\u001b[0m \u001b[38;5;28;01mfor\u001b[39;00m filter_type \u001b[38;5;129;01min\u001b[39;00m filters:\n\u001b[1;32m    524\u001b[0m     \u001b[38;5;28;01mif\u001b[39;00m filter_type \u001b[38;5;129;01min\u001b[39;00m (FT\u001b[38;5;241m.\u001b[39mFLATE_DECODE, FTA\u001b[38;5;241m.\u001b[39mFL):\n\u001b[0;32m--> 525\u001b[0m         data \u001b[38;5;241m=\u001b[39m \u001b[43mFlateDecode\u001b[49m\u001b[38;5;241;43m.\u001b[39;49m\u001b[43mdecode\u001b[49m\u001b[43m(\u001b[49m\u001b[43mdata\u001b[49m\u001b[43m,\u001b[49m\u001b[43m \u001b[49m\u001b[43mstream\u001b[49m\u001b[38;5;241;43m.\u001b[39;49m\u001b[43mget\u001b[49m\u001b[43m(\u001b[49m\u001b[43mSA\u001b[49m\u001b[38;5;241;43m.\u001b[39;49m\u001b[43mDECODE_PARMS\u001b[49m\u001b[43m)\u001b[49m\u001b[43m)\u001b[49m\n\u001b[1;32m    526\u001b[0m     \u001b[38;5;28;01melif\u001b[39;00m filter_type \u001b[38;5;129;01min\u001b[39;00m (FT\u001b[38;5;241m.\u001b[39mASCII_HEX_DECODE, FTA\u001b[38;5;241m.\u001b[39mAHx):\n\u001b[1;32m    527\u001b[0m         data \u001b[38;5;241m=\u001b[39m ASCIIHexDecode\u001b[38;5;241m.\u001b[39mdecode(data)  \u001b[38;5;66;03m# type: ignore\u001b[39;00m\n",
      "File \u001b[0;32m~/anaconda3/lib/python3.9/site-packages/PyPDF2/filters.py:141\u001b[0m, in \u001b[0;36mFlateDecode.decode\u001b[0;34m(data, decode_parms, **kwargs)\u001b[0m\n\u001b[1;32m    139\u001b[0m \u001b[38;5;66;03m# PNG prediction:\u001b[39;00m\n\u001b[1;32m    140\u001b[0m \u001b[38;5;28;01mif\u001b[39;00m \u001b[38;5;241m10\u001b[39m \u001b[38;5;241m<\u001b[39m\u001b[38;5;241m=\u001b[39m predictor \u001b[38;5;241m<\u001b[39m\u001b[38;5;241m=\u001b[39m \u001b[38;5;241m15\u001b[39m:\n\u001b[0;32m--> 141\u001b[0m     str_data \u001b[38;5;241m=\u001b[39m \u001b[43mFlateDecode\u001b[49m\u001b[38;5;241;43m.\u001b[39;49m\u001b[43m_decode_png_prediction\u001b[49m\u001b[43m(\u001b[49m\u001b[43mstr_data\u001b[49m\u001b[43m,\u001b[49m\u001b[43m \u001b[49m\u001b[43mcolumns\u001b[49m\u001b[43m,\u001b[49m\u001b[43m \u001b[49m\u001b[43mrowlength\u001b[49m\u001b[43m)\u001b[49m  \u001b[38;5;66;03m# type: ignore\u001b[39;00m\n\u001b[1;32m    142\u001b[0m \u001b[38;5;28;01melse\u001b[39;00m:\n\u001b[1;32m    143\u001b[0m     \u001b[38;5;66;03m# unsupported predictor\u001b[39;00m\n\u001b[1;32m    144\u001b[0m     \u001b[38;5;28;01mraise\u001b[39;00m PdfReadError(\u001b[38;5;124mf\u001b[39m\u001b[38;5;124m\"\u001b[39m\u001b[38;5;124mUnsupported flatedecode predictor \u001b[39m\u001b[38;5;132;01m{\u001b[39;00mpredictor\u001b[38;5;132;01m!r}\u001b[39;00m\u001b[38;5;124m\"\u001b[39m)\n",
      "File \u001b[0;32m~/anaconda3/lib/python3.9/site-packages/PyPDF2/filters.py:152\u001b[0m, in \u001b[0;36mFlateDecode._decode_png_prediction\u001b[0;34m(data, columns, rowlength)\u001b[0m\n\u001b[1;32m    150\u001b[0m \u001b[38;5;66;03m# PNG prediction can vary from row to row\u001b[39;00m\n\u001b[1;32m    151\u001b[0m \u001b[38;5;28;01mif\u001b[39;00m \u001b[38;5;28mlen\u001b[39m(data) \u001b[38;5;241m%\u001b[39m rowlength \u001b[38;5;241m!=\u001b[39m \u001b[38;5;241m0\u001b[39m:\n\u001b[0;32m--> 152\u001b[0m     \u001b[38;5;28;01mraise\u001b[39;00m PdfReadError(\u001b[38;5;124m\"\u001b[39m\u001b[38;5;124mImage data is not rectangular\u001b[39m\u001b[38;5;124m\"\u001b[39m)\n\u001b[1;32m    153\u001b[0m prev_rowdata \u001b[38;5;241m=\u001b[39m (\u001b[38;5;241m0\u001b[39m,) \u001b[38;5;241m*\u001b[39m rowlength\n\u001b[1;32m    154\u001b[0m \u001b[38;5;28;01mfor\u001b[39;00m row \u001b[38;5;129;01min\u001b[39;00m \u001b[38;5;28mrange\u001b[39m(\u001b[38;5;28mlen\u001b[39m(data) \u001b[38;5;241m/\u001b[39m\u001b[38;5;241m/\u001b[39m rowlength):\n",
      "\u001b[0;31mPdfReadError\u001b[0m: Image data is not rectangular"
     ]
    }
   ],
   "source": [
    "import PyPDF2\n",
    "\n",
    "def write_all_images_to_file(page):\n",
    "    for img in page.images:\n",
    "        with open(img.name, 'wb') as f:\n",
    "            print(f\"Writing {img.name} to disk\")\n",
    "            f.write(img.data)\n",
    "            \n",
    "read_pdf = PyPDF2.PdfFileReader(helper_file)\n",
    "write_all_images_to_file(read_pdf.pages[0])\n"
   ]
  },
  {
   "cell_type": "code",
   "execution_count": null,
   "id": "dae18add",
   "metadata": {},
   "outputs": [],
   "source": []
  }
 ],
 "metadata": {
  "kernelspec": {
   "display_name": "Python 3 (ipykernel)",
   "language": "python",
   "name": "python3"
  },
  "language_info": {
   "codemirror_mode": {
    "name": "ipython",
    "version": 3
   },
   "file_extension": ".py",
   "mimetype": "text/x-python",
   "name": "python",
   "nbconvert_exporter": "python",
   "pygments_lexer": "ipython3",
   "version": "3.9.7"
  }
 },
 "nbformat": 4,
 "nbformat_minor": 5
}
