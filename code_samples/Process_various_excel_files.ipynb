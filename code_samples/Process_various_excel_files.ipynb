{
 "cells": [
  {
   "cell_type": "markdown",
   "id": "4c859bc5",
   "metadata": {},
   "source": [
    "# Process various excel files"
   ]
  },
  {
   "cell_type": "code",
   "execution_count": 1,
   "id": "8a91b482",
   "metadata": {},
   "outputs": [
    {
     "data": {
      "text/plain": [
       "['./excel_files/CarbonData_06.xlsx',\n",
       " './excel_files/CarbonData_20.xlsx',\n",
       " './excel_files/CarbonData_13.xlsx',\n",
       " './excel_files/CarbonData_16.xlsx',\n",
       " './excel_files/CarbonData_18.xlsx',\n",
       " './excel_files/CarbonData_09.xlsx',\n",
       " './excel_files/CarbonData_15.xlsx',\n",
       " './excel_files/CarbonData_01.xlsx',\n",
       " './excel_files/CarbonData_19.xlsx',\n",
       " './excel_files/CarbonData_12.xlsx',\n",
       " './excel_files/CarbonData_03.xlsx',\n",
       " './excel_files/CarbonData_08.xlsx',\n",
       " './excel_files/CarbonData_04.xlsx',\n",
       " './excel_files/CarbonData_17.xlsx',\n",
       " './excel_files/CarbonData_07.xlsx',\n",
       " './excel_files/CarbonData_14.xlsx',\n",
       " './excel_files/CarbonData_05.xlsx',\n",
       " './excel_files/CarbonData_11.xlsx',\n",
       " './excel_files/CarbonData_10.xlsx',\n",
       " './excel_files/CarbonData_02.xlsx']"
      ]
     },
     "execution_count": 1,
     "metadata": {},
     "output_type": "execute_result"
    }
   ],
   "source": [
    "import os\n",
    "\n",
    "# First, extract the list of all excel files whose name starts with CarbonData\n",
    "def extract_all_files_to_process():\n",
    "    all_files = []\n",
    "    \n",
    "    # NB : if all the files are in the same directory, os.listdir might be simpler\n",
    "    for root, _, files in os.walk(\".\"):\n",
    "        for f in files:\n",
    "            if f.startswith(\"CarbonData\") and f.endswith(\".xlsx\"):\n",
    "                all_files.append(f\"{root}/{f}\")\n",
    "                \n",
    "    return all_files\n",
    "\n",
    "\n",
    "all_files_to_process = extract_all_files_to_process()\n",
    "all_files_to_process"
   ]
  },
  {
   "cell_type": "code",
   "execution_count": 2,
   "id": "ff07314b",
   "metadata": {},
   "outputs": [],
   "source": [
    "import pandas as pd"
   ]
  },
  {
   "cell_type": "code",
   "execution_count": 3,
   "id": "5d3ca7f4",
   "metadata": {},
   "outputs": [],
   "source": [
    "def process_file(filename):\n",
    "    output_filename = filename.replace(\"CarbonData\", \"DeltaCarbonData\")\n",
    "    \n",
    "    df = pd.read_excel(filename)\n",
    "\n",
    "    year_columns = sorted([col for col in df.columns if isinstance(col, int)])\n",
    "    df_delta = df[['Country Name', 'Country Code']].copy(deep=True)\n",
    "    \n",
    "    for year in year_columns[1:]:\n",
    "        df_delta[year] = df[year]  - df[year-1]\n",
    "    \n",
    "    df_delta.to_excel(output_filename)\n",
    "    \n",
    "for f in all_files_to_process:\n",
    "    process_file(f)"
   ]
  },
  {
   "cell_type": "code",
   "execution_count": null,
   "id": "f187f0f1",
   "metadata": {},
   "outputs": [],
   "source": []
  }
 ],
 "metadata": {
  "kernelspec": {
   "display_name": "Python 3 (ipykernel)",
   "language": "python",
   "name": "python3"
  },
  "language_info": {
   "codemirror_mode": {
    "name": "ipython",
    "version": 3
   },
   "file_extension": ".py",
   "mimetype": "text/x-python",
   "name": "python",
   "nbconvert_exporter": "python",
   "pygments_lexer": "ipython3",
   "version": "3.9.7"
  }
 },
 "nbformat": 4,
 "nbformat_minor": 5
}
