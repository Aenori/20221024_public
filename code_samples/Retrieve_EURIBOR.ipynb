{
 "cells": [
  {
   "cell_type": "markdown",
   "id": "e5d53796",
   "metadata": {},
   "source": [
    "# Retrieving data from internet - Euribor sample"
   ]
  },
  {
   "cell_type": "markdown",
   "id": "72c96a3b",
   "metadata": {},
   "source": [
    "### Retrieving EURIBOR data\n",
    "\n",
    "download daily EURIBOR rates and add to database :\n",
    "https://www.euribor-rates.eu/en/current-euribor-rates/1/euribor-rate-1-month/"
   ]
  },
  {
   "cell_type": "markdown",
   "id": "5a7f6256",
   "metadata": {},
   "source": [
    "## Step 1 : try to look for more formatted data\n",
    "\n",
    "A link to csv file or json or any structured format or any kind of API call is a lot easier to exploit that to extract some data from HTML files. Also a lot of website are generating HTML from API calls via angular, vue or react.\n",
    "\n",
    "For example this page is providing information easier to extract :\n",
    "\n",
    "https://sdw.ecb.europa.eu/quickview.do?SERIES_KEY=143.FM.M.U2.EUR.RT.MM.EURIBOR3MD_.HSTA"
   ]
  },
  {
   "cell_type": "code",
   "execution_count": 12,
   "id": "9415e4f2",
   "metadata": {},
   "outputs": [
    {
     "data": {
      "text/html": [
       "<div>\n",
       "<style scoped>\n",
       "    .dataframe tbody tr th:only-of-type {\n",
       "        vertical-align: middle;\n",
       "    }\n",
       "\n",
       "    .dataframe tbody tr th {\n",
       "        vertical-align: top;\n",
       "    }\n",
       "\n",
       "    .dataframe thead th {\n",
       "        text-align: right;\n",
       "    }\n",
       "</style>\n",
       "<table border=\"1\" class=\"dataframe\">\n",
       "  <thead>\n",
       "    <tr style=\"text-align: right;\">\n",
       "      <th></th>\n",
       "      <th>Unnamed: 0</th>\n",
       "      <th>Unnamed: 1</th>\n",
       "      <th>obs. status</th>\n",
       "      <th>obs. comment</th>\n",
       "    </tr>\n",
       "  </thead>\n",
       "  <tbody>\n",
       "    <tr>\n",
       "      <th>0</th>\n",
       "      <td>2022Oct</td>\n",
       "      <td>1.4277</td>\n",
       "      <td>Normal value (A)</td>\n",
       "      <td>NaN</td>\n",
       "    </tr>\n",
       "    <tr>\n",
       "      <th>1</th>\n",
       "      <td>2022Sep</td>\n",
       "      <td>1.0109</td>\n",
       "      <td>Normal value (A)</td>\n",
       "      <td>NaN</td>\n",
       "    </tr>\n",
       "    <tr>\n",
       "      <th>2</th>\n",
       "      <td>2022Aug</td>\n",
       "      <td>0.3947</td>\n",
       "      <td>Normal value (A)</td>\n",
       "      <td>NaN</td>\n",
       "    </tr>\n",
       "    <tr>\n",
       "      <th>3</th>\n",
       "      <td>2022Jul</td>\n",
       "      <td>0.0366</td>\n",
       "      <td>Normal value (A)</td>\n",
       "      <td>NaN</td>\n",
       "    </tr>\n",
       "    <tr>\n",
       "      <th>4</th>\n",
       "      <td>2022Jun</td>\n",
       "      <td>-0.2392</td>\n",
       "      <td>Normal value (A)</td>\n",
       "      <td>NaN</td>\n",
       "    </tr>\n",
       "  </tbody>\n",
       "</table>\n",
       "</div>"
      ],
      "text/plain": [
       "  Unnamed: 0  Unnamed: 1       obs. status obs. comment\n",
       "0    2022Oct      1.4277  Normal value (A)          NaN\n",
       "1    2022Sep      1.0109  Normal value (A)          NaN\n",
       "2    2022Aug      0.3947  Normal value (A)          NaN\n",
       "3    2022Jul      0.0366  Normal value (A)          NaN\n",
       "4    2022Jun     -0.2392  Normal value (A)          NaN"
      ]
     },
     "execution_count": 12,
     "metadata": {},
     "output_type": "execute_result"
    }
   ],
   "source": [
    "import pandas as pd\n",
    "\n",
    "url = \"https://sdw.ecb.europa.eu/quickviewexport.do;\" + \\\n",
    "      \"jsessionid=7A955208FA0C54DE9310BBC89AC61AB0?SERIES_KEY=143.FM.M.U2.EUR.RT.MM.EURIBOR3MD_.HSTA&type=xls\"\n",
    "df = pd.read_csv(url, header=5)\n",
    "df.head(5)"
   ]
  },
  {
   "cell_type": "code",
   "execution_count": 2,
   "id": "d9d26477",
   "metadata": {},
   "outputs": [
    {
     "data": {
      "text/html": [
       "<div>\n",
       "<style scoped>\n",
       "    .dataframe tbody tr th:only-of-type {\n",
       "        vertical-align: middle;\n",
       "    }\n",
       "\n",
       "    .dataframe tbody tr th {\n",
       "        vertical-align: top;\n",
       "    }\n",
       "\n",
       "    .dataframe thead th {\n",
       "        text-align: right;\n",
       "    }\n",
       "</style>\n",
       "<table border=\"1\" class=\"dataframe\">\n",
       "  <thead>\n",
       "    <tr style=\"text-align: right;\">\n",
       "      <th></th>\n",
       "      <th>Date</th>\n",
       "      <th>EuriborRate</th>\n",
       "      <th>ObservationStatus</th>\n",
       "      <th>ObservationComment</th>\n",
       "    </tr>\n",
       "  </thead>\n",
       "  <tbody>\n",
       "    <tr>\n",
       "      <th>0</th>\n",
       "      <td>2022Oct</td>\n",
       "      <td>1.4277</td>\n",
       "      <td>Normal value (A)</td>\n",
       "      <td>NaN</td>\n",
       "    </tr>\n",
       "    <tr>\n",
       "      <th>1</th>\n",
       "      <td>2022Sep</td>\n",
       "      <td>1.0109</td>\n",
       "      <td>Normal value (A)</td>\n",
       "      <td>NaN</td>\n",
       "    </tr>\n",
       "    <tr>\n",
       "      <th>2</th>\n",
       "      <td>2022Aug</td>\n",
       "      <td>0.3947</td>\n",
       "      <td>Normal value (A)</td>\n",
       "      <td>NaN</td>\n",
       "    </tr>\n",
       "    <tr>\n",
       "      <th>3</th>\n",
       "      <td>2022Jul</td>\n",
       "      <td>0.0366</td>\n",
       "      <td>Normal value (A)</td>\n",
       "      <td>NaN</td>\n",
       "    </tr>\n",
       "    <tr>\n",
       "      <th>4</th>\n",
       "      <td>2022Jun</td>\n",
       "      <td>-0.2392</td>\n",
       "      <td>Normal value (A)</td>\n",
       "      <td>NaN</td>\n",
       "    </tr>\n",
       "  </tbody>\n",
       "</table>\n",
       "</div>"
      ],
      "text/plain": [
       "      Date  EuriborRate ObservationStatus ObservationComment\n",
       "0  2022Oct       1.4277  Normal value (A)                NaN\n",
       "1  2022Sep       1.0109  Normal value (A)                NaN\n",
       "2  2022Aug       0.3947  Normal value (A)                NaN\n",
       "3  2022Jul       0.0366  Normal value (A)                NaN\n",
       "4  2022Jun      -0.2392  Normal value (A)                NaN"
      ]
     },
     "execution_count": 2,
     "metadata": {},
     "output_type": "execute_result"
    }
   ],
   "source": [
    "df.columns = ['Date', 'EuriborRate', 'ObservationStatus', 'ObservationComment']\n",
    "df.head(5)"
   ]
  },
  {
   "cell_type": "markdown",
   "id": "784ba88d",
   "metadata": {},
   "source": [
    "Ok, but we have only monthly values, and we want daily ..."
   ]
  },
  {
   "cell_type": "markdown",
   "id": "99f119e3",
   "metadata": {},
   "source": [
    "## Step 2 : extracting from HTML\n",
    "\n",
    "Pandas is providing some very nice feature ! You just have to give an url, and pandas load all the table it can find in the html into dataframes !"
   ]
  },
  {
   "cell_type": "code",
   "execution_count": 3,
   "id": "04142fc5",
   "metadata": {},
   "outputs": [],
   "source": [
    "import pandas as pd\n",
    "dfs = pd.read_html(\n",
    "    'https://www.euribor-rates.eu/en/current-euribor-rates/1/euribor-rate-1-month/'\n",
    ")"
   ]
  },
  {
   "cell_type": "code",
   "execution_count": 14,
   "id": "2f5c10a6",
   "metadata": {},
   "outputs": [
    {
     "data": {
      "text/plain": [
       "list"
      ]
     },
     "execution_count": 14,
     "metadata": {},
     "output_type": "execute_result"
    }
   ],
   "source": [
    "type(dfs)"
   ]
  },
  {
   "cell_type": "code",
   "execution_count": 4,
   "id": "57280b8e",
   "metadata": {},
   "outputs": [
    {
     "name": "stdout",
     "output_type": "stream",
     "text": [
      "3\n"
     ]
    }
   ],
   "source": [
    "print(len(dfs))"
   ]
  },
  {
   "cell_type": "code",
   "execution_count": 5,
   "id": "0bede927",
   "metadata": {},
   "outputs": [
    {
     "data": {
      "text/html": [
       "<div>\n",
       "<style scoped>\n",
       "    .dataframe tbody tr th:only-of-type {\n",
       "        vertical-align: middle;\n",
       "    }\n",
       "\n",
       "    .dataframe tbody tr th {\n",
       "        vertical-align: top;\n",
       "    }\n",
       "\n",
       "    .dataframe thead th {\n",
       "        text-align: right;\n",
       "    }\n",
       "</style>\n",
       "<table border=\"1\" class=\"dataframe\">\n",
       "  <thead>\n",
       "    <tr style=\"text-align: right;\">\n",
       "      <th></th>\n",
       "      <th>0</th>\n",
       "      <th>1</th>\n",
       "    </tr>\n",
       "  </thead>\n",
       "  <tbody>\n",
       "    <tr>\n",
       "      <th>0</th>\n",
       "      <td>11/18/2022</td>\n",
       "      <td>1.413 %</td>\n",
       "    </tr>\n",
       "    <tr>\n",
       "      <th>1</th>\n",
       "      <td>11/17/2022</td>\n",
       "      <td>1.425 %</td>\n",
       "    </tr>\n",
       "    <tr>\n",
       "      <th>2</th>\n",
       "      <td>11/16/2022</td>\n",
       "      <td>1.395 %</td>\n",
       "    </tr>\n",
       "    <tr>\n",
       "      <th>3</th>\n",
       "      <td>11/15/2022</td>\n",
       "      <td>1.414 %</td>\n",
       "    </tr>\n",
       "    <tr>\n",
       "      <th>4</th>\n",
       "      <td>11/14/2022</td>\n",
       "      <td>1.405 %</td>\n",
       "    </tr>\n",
       "    <tr>\n",
       "      <th>5</th>\n",
       "      <td>11/11/2022</td>\n",
       "      <td>1.362 %</td>\n",
       "    </tr>\n",
       "    <tr>\n",
       "      <th>6</th>\n",
       "      <td>11/10/2022</td>\n",
       "      <td>1.395 %</td>\n",
       "    </tr>\n",
       "    <tr>\n",
       "      <th>7</th>\n",
       "      <td>11/9/2022</td>\n",
       "      <td>1.415 %</td>\n",
       "    </tr>\n",
       "    <tr>\n",
       "      <th>8</th>\n",
       "      <td>11/8/2022</td>\n",
       "      <td>1.415 %</td>\n",
       "    </tr>\n",
       "    <tr>\n",
       "      <th>9</th>\n",
       "      <td>11/7/2022</td>\n",
       "      <td>1.405 %</td>\n",
       "    </tr>\n",
       "  </tbody>\n",
       "</table>\n",
       "</div>"
      ],
      "text/plain": [
       "            0        1\n",
       "0  11/18/2022  1.413 %\n",
       "1  11/17/2022  1.425 %\n",
       "2  11/16/2022  1.395 %\n",
       "3  11/15/2022  1.414 %\n",
       "4  11/14/2022  1.405 %\n",
       "5  11/11/2022  1.362 %\n",
       "6  11/10/2022  1.395 %\n",
       "7   11/9/2022  1.415 %\n",
       "8   11/8/2022  1.415 %\n",
       "9   11/7/2022  1.405 %"
      ]
     },
     "execution_count": 5,
     "metadata": {},
     "output_type": "execute_result"
    }
   ],
   "source": [
    "dfs[0]"
   ]
  },
  {
   "cell_type": "code",
   "execution_count": 6,
   "id": "683e1202",
   "metadata": {},
   "outputs": [
    {
     "name": "stdout",
     "output_type": "stream",
     "text": [
      "<class 'pandas.core.frame.DataFrame'>\n",
      "RangeIndex: 10 entries, 0 to 9\n",
      "Data columns (total 2 columns):\n",
      " #   Column  Non-Null Count  Dtype \n",
      "---  ------  --------------  ----- \n",
      " 0   0       10 non-null     object\n",
      " 1   1       10 non-null     object\n",
      "dtypes: object(2)\n",
      "memory usage: 288.0+ bytes\n"
     ]
    }
   ],
   "source": [
    "dfs[0].info()"
   ]
  },
  {
   "cell_type": "code",
   "execution_count": 7,
   "id": "5af29594",
   "metadata": {},
   "outputs": [],
   "source": [
    "def process_df(df):\n",
    "    # Using pd.to_datetime to convert first column to Date\n",
    "    # df[0] => the first column, that is named 0 in that case\n",
    "    df['Date'] = pd.to_datetime(df[0])\n",
    "    # Converting percentage column to numeric\n",
    "    df['Rate'] = pd.to_numeric(df[1].str.replace(' %', ''))\n",
    "    \n",
    "    return df.drop([0, 1], axis=1)"
   ]
  },
  {
   "cell_type": "code",
   "execution_count": 8,
   "id": "95f88582",
   "metadata": {},
   "outputs": [],
   "source": [
    "df_by_day, df_by_month, df_by_year = map(process_df, dfs)"
   ]
  },
  {
   "cell_type": "code",
   "execution_count": 9,
   "id": "5d828f28",
   "metadata": {},
   "outputs": [
    {
     "data": {
      "text/html": [
       "<div>\n",
       "<style scoped>\n",
       "    .dataframe tbody tr th:only-of-type {\n",
       "        vertical-align: middle;\n",
       "    }\n",
       "\n",
       "    .dataframe tbody tr th {\n",
       "        vertical-align: top;\n",
       "    }\n",
       "\n",
       "    .dataframe thead th {\n",
       "        text-align: right;\n",
       "    }\n",
       "</style>\n",
       "<table border=\"1\" class=\"dataframe\">\n",
       "  <thead>\n",
       "    <tr style=\"text-align: right;\">\n",
       "      <th></th>\n",
       "      <th>Date</th>\n",
       "      <th>Rate</th>\n",
       "    </tr>\n",
       "  </thead>\n",
       "  <tbody>\n",
       "    <tr>\n",
       "      <th>0</th>\n",
       "      <td>2022-11-18</td>\n",
       "      <td>1.413</td>\n",
       "    </tr>\n",
       "    <tr>\n",
       "      <th>1</th>\n",
       "      <td>2022-11-17</td>\n",
       "      <td>1.425</td>\n",
       "    </tr>\n",
       "    <tr>\n",
       "      <th>2</th>\n",
       "      <td>2022-11-16</td>\n",
       "      <td>1.395</td>\n",
       "    </tr>\n",
       "    <tr>\n",
       "      <th>3</th>\n",
       "      <td>2022-11-15</td>\n",
       "      <td>1.414</td>\n",
       "    </tr>\n",
       "    <tr>\n",
       "      <th>4</th>\n",
       "      <td>2022-11-14</td>\n",
       "      <td>1.405</td>\n",
       "    </tr>\n",
       "    <tr>\n",
       "      <th>5</th>\n",
       "      <td>2022-11-11</td>\n",
       "      <td>1.362</td>\n",
       "    </tr>\n",
       "    <tr>\n",
       "      <th>6</th>\n",
       "      <td>2022-11-10</td>\n",
       "      <td>1.395</td>\n",
       "    </tr>\n",
       "    <tr>\n",
       "      <th>7</th>\n",
       "      <td>2022-11-09</td>\n",
       "      <td>1.415</td>\n",
       "    </tr>\n",
       "    <tr>\n",
       "      <th>8</th>\n",
       "      <td>2022-11-08</td>\n",
       "      <td>1.415</td>\n",
       "    </tr>\n",
       "    <tr>\n",
       "      <th>9</th>\n",
       "      <td>2022-11-07</td>\n",
       "      <td>1.405</td>\n",
       "    </tr>\n",
       "  </tbody>\n",
       "</table>\n",
       "</div>"
      ],
      "text/plain": [
       "        Date   Rate\n",
       "0 2022-11-18  1.413\n",
       "1 2022-11-17  1.425\n",
       "2 2022-11-16  1.395\n",
       "3 2022-11-15  1.414\n",
       "4 2022-11-14  1.405\n",
       "5 2022-11-11  1.362\n",
       "6 2022-11-10  1.395\n",
       "7 2022-11-09  1.415\n",
       "8 2022-11-08  1.415\n",
       "9 2022-11-07  1.405"
      ]
     },
     "execution_count": 9,
     "metadata": {},
     "output_type": "execute_result"
    }
   ],
   "source": [
    "df_by_day"
   ]
  },
  {
   "cell_type": "code",
   "execution_count": 10,
   "id": "5e9a02a2",
   "metadata": {},
   "outputs": [
    {
     "name": "stdout",
     "output_type": "stream",
     "text": [
      "<class 'pandas.core.frame.DataFrame'>\n",
      "RangeIndex: 10 entries, 0 to 9\n",
      "Data columns (total 2 columns):\n",
      " #   Column  Non-Null Count  Dtype         \n",
      "---  ------  --------------  -----         \n",
      " 0   Date    10 non-null     datetime64[ns]\n",
      " 1   Rate    10 non-null     float64       \n",
      "dtypes: datetime64[ns](1), float64(1)\n",
      "memory usage: 288.0 bytes\n"
     ]
    }
   ],
   "source": [
    "df_by_day.info()"
   ]
  },
  {
   "cell_type": "code",
   "execution_count": 11,
   "id": "9a36888c",
   "metadata": {},
   "outputs": [
    {
     "data": {
      "text/plain": [
       "10"
      ]
     },
     "execution_count": 11,
     "metadata": {},
     "output_type": "execute_result"
    }
   ],
   "source": [
    "import os\n",
    "import sqlite3\n",
    "\n",
    "if os.path.isfile('euribor.db'):\n",
    "    os.remove('euribor.db')\n",
    "\n",
    "con = sqlite3.connect('euribor.db')\n",
    "df_by_day.to_sql('EuriborByDay', con)"
   ]
  },
  {
   "cell_type": "code",
   "execution_count": null,
   "id": "8a24171b",
   "metadata": {},
   "outputs": [],
   "source": []
  }
 ],
 "metadata": {
  "kernelspec": {
   "display_name": "Python 3 (ipykernel)",
   "language": "python",
   "name": "python3"
  },
  "language_info": {
   "codemirror_mode": {
    "name": "ipython",
    "version": 3
   },
   "file_extension": ".py",
   "mimetype": "text/x-python",
   "name": "python",
   "nbconvert_exporter": "python",
   "pygments_lexer": "ipython3",
   "version": "3.9.7"
  }
 },
 "nbformat": 4,
 "nbformat_minor": 5
}
